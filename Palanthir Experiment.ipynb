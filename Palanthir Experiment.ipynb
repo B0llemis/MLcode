{
 "cells": [
  {
   "cell_type": "code",
   "execution_count": 56,
   "outputs": [],
   "source": [
    "import numpy as np\n",
    "import pandas as pd\n",
    "import matplotlib.pyplot as plt\n",
    "from sklearn.model_selection import train_test_split\n",
    "from sklearn.pipeline import Pipeline\n",
    "from sklearn.compose import ColumnTransformer\n",
    "\n",
    "class Palanthir(object):\n",
    "## Native attributes\n",
    "    def __init__(self, input, target_feature:str=None, init_test_size:(float,None)=None):\n",
    "        \"\"\"Initiates a Palanthir-class on-top a Pandas Dataframe. The class-attributes describes the overall structure and composition of the data\"\"\"\n",
    "        self.input_data = input\n",
    "        ##When the Palanthir is born with a target variable:\n",
    "        if isinstance(target_feature,str):\n",
    "        #...AND is to be split into test-train subsets\n",
    "            Y = [target_feature]\n",
    "            X = [col for col in self.input_data.columns if col not in Y]\n",
    "            if isinstance(init_test_size,float):\n",
    "                self.train_X, self.test_X, self.train_Y, self.test_Y = train_test_split(self.input_data[X],self.input_data[Y],test_size=0.2,random_state=42)\n",
    "                self.output = self.train_X\n",
    "        #...BUT IS NOT to be split into test-train subsets\n",
    "            else:\n",
    "                self.Y = self.input_data.copy(deep=True)[Y]\n",
    "                self.X = self.input_data.copy(deep=True)[X]\n",
    "                self.output = self.X\n",
    "        ##When the Palanthir is NOT born with a target variable:\n",
    "        else:\n",
    "        # ...BUT IS to be split into test-train subsets\n",
    "            if isinstance(init_test_size,float):\n",
    "                self.train, self.test = train_test_split(self.input_data,test_size=0.2,random_state=42)\n",
    "                self.output = self.train\n",
    "        #...AND IS NOT to be split into test-train subsets.\n",
    "            else:\n",
    "                self.output = self.input_data.copy(deep=True)\n",
    "        self.size = len(self.output)\n",
    "        self.features = list(self.output)\n",
    "        self.features_num = list(self.output.loc[:, self.output.dtypes != object])\n",
    "        self.features_cat = list(self.output.loc[:, self.output.dtypes == object])\n",
    "        self.current_version = 0\n",
    "        self.transformation_history = [dict(version=0,transformation='input',result=self.input_data,pipeline=ColumnTransformer([]))]\n",
    "\n",
    "## Self-update and audit commands\n",
    "\n",
    "    def update_attributes(self):\n",
    "        self.size = len(self.output)\n",
    "        self.features = list(self.output)\n",
    "        self.features_num = list(self.output.loc[:, self.output.dtypes != object])\n",
    "        self.features_cat = list(self.output.loc[:, self.output.dtypes == object])\n",
    "\n",
    "    def update_history(self, step=None, snapshot=None,text=None,transformer=None,cols=None):\n",
    "        pipelineSteps = self.transformation_history[-1].get('pipeline').get_params().get('transformers') + [(text,transformer,cols)]\n",
    "        updatedPipeline = ColumnTransformer(pipelineSteps)\n",
    "        self.current_version += 1\n",
    "        self.transformation_history.append(\n",
    "            dict(\n",
    "                version=self.current_version\n",
    "                ,transformation=step\n",
    "                ,result=snapshot\n",
    "                ,pipeline=updatedPipeline\n",
    "            )\n",
    "        )\n",
    "\n",
    "    def restore(self, version=None):\n",
    "        versionCheckpoint = (self.current_version - 1) if version == None else version\n",
    "        self.current_version = versionCheckpoint\n",
    "        self.output = self.transformation_history[versionCheckpoint].get('result')\n",
    "        self.update_attributes()\n",
    "        self.transformation_history.append(\n",
    "            dict(\n",
    "                version=self.current_version\n",
    "                ,transformation=f\"Restored to version {self.current_version}\"\n",
    "                ,result=self.transformation_history[self.current_version].get('result')\n",
    "                ,pipeline=self.transformation_history[self.current_version].get('pipeline')\n",
    "            )\n",
    "        )\n",
    "\n",
    "    def declare_target(self,target_feature:str):\n",
    "        self.current_version += 1\n",
    "        self.Y = self.input_data[[target_feature]]\n",
    "        self.X = self.input_data[[col for col in self.input_data.columns if col not in self.Y]]\n",
    "        self.output = self.X\n",
    "        self.update_attributes()\n",
    "        self.transformation_history.append(\n",
    "            dict(\n",
    "                version=self.current_version\n",
    "                ,transformation=f\"Split into X and Y\"\n",
    "                ,result=self.output\n",
    "                ,pipeline=self.transformation_history[self.current_version-1].get('pipeline'))\n",
    "        )\n",
    "        return self.Y\n",
    "\n",
    "## Summarization and description commands\n",
    "    def summarize(self):\n",
    "        \"\"\"Prints the info, description and any missing value-counts for the class\"\"\"\n",
    "        dataset = self.output\n",
    "        return print(\n",
    "            \"Info: \", dataset.info(),\n",
    "            \"Description: \", dataset.describe(),\n",
    "            \"Missing values: \", dataset.isna().sum()\n",
    "        )\n",
    "\n",
    "## Data preprocessing commands\n",
    "    def random_split(self, x=None, y=None, test_size=0.2, store=True):\n",
    "        \"\"\"Uses the SKLearn Train_Test_Split to divide the dataset into random training and test subset\"\"\"\n",
    "        dataset_x = x if isinstance(x,pd.core.frame.DataFrame) else self.output.drop(columns=self.Y)\n",
    "        dataset_y = y if isinstance(y,pd.core.frame.DataFrame) else self.output[self.Y]\n",
    "        from sklearn.model_selection import train_test_split\n",
    "        train_x, test_x, train_y, test_y = train_test_split(dataset_x, dataset_y, test_size=test_size, random_state=42)\n",
    "        if store:\n",
    "            self.train_X = train_x\n",
    "            self.train_Y = train_y\n",
    "            self.test_X = test_x\n",
    "            self.test_Y = test_y\n",
    "        return train_x, train_y, test_x, test_y\n",
    "\n",
    "    def stratified_split(self, cols, store=True):\n",
    "        \"\"\"Uses the SKLearn StratigiesShuffleSplit to divide the dataset into stratified training and test subset\"\"\"\n",
    "        dataset = self.output\n",
    "        from sklearn.model_selection import StratifiedShuffleSplit\n",
    "        split = StratifiedShuffleSplit(n_split=1, test_size=0.2, random_state=42)\n",
    "        for train_index, test_index in split.split(dataset, dataset[cols]):\n",
    "            strat_train_set = dataset.loc[train_index]\n",
    "            strat_test_set = dataset.loc[test_index]\n",
    "        if store:\n",
    "            self.train_subset, self.test_subset = [strat_train_set], [strat_test_set]\n",
    "        return strat_train_set, strat_test_set\n",
    "\n",
    "    def execute_pipeline(self, dataset=None, pipeline_version=None):\n",
    "        \"\"\"Uses the SKLearn ColumnTransformer build via previous transformations and apply its transformations to the target dataset\"\"\"\n",
    "        dataset = self.output if dataset==None else dataset\n",
    "        versionCheckpoint = self.current_version if pipeline_version == None else pipeline_version\n",
    "        pipeline = self.transformation_history[versionCheckpoint].get('pipeline')\n",
    "        self.output = pipeline.transform(dataset)\n",
    "        return self.output\n",
    "\n",
    "## Transformation commands\n",
    "    def PCA(self, n_components=0.80, include_features = [], exclude_features=[],store=True):\n",
    "        columns = [col for col in self.features_num if col not in exclude_features] if include_features == [] else [col for col in include_features if col not in exclude_features]\n",
    "        dataset = self.output[columns]\n",
    "        from sklearn.decomposition import PCA\n",
    "        PCAtransformer = PCA(n_components=n_components).fit(dataset)\n",
    "        pca_data = PCAtransformer.transform(dataset)\n",
    "        output_df = pd.DataFrame(pca_data, columns=[\"PCA_\" + str(col + 1) for col in range(pca_data.shape[1])],index=dataset.index)\n",
    "        if store:\n",
    "            self.output = output_df\n",
    "            self.update_attributes()\n",
    "            self.update_history(step=\"Performed Principal Component Analysis\",snapshot=self.output,text='pca',transformer=PCAtransformer,cols=columns)\n",
    "        explained_variance = PCA().fit(dataset).explained_variance_ratio_\n",
    "        cumsum = np.cumsum(explained_variance)\n",
    "        print(cumsum)\n",
    "        plt.plot([\"PCA\" + str(num) for num in range(1, len(cumsum) + 1)], cumsum)\n",
    "        plt.show()\n",
    "        return output_df\n",
    "\n",
    "    def fill_nulls(self, strategy=\"median\", include_features = [], exclude_features=[], store=True):\n",
    "        \"\"\"Uses the SKLearn SimpleImputer to fill out any missing values in the numerical features of the dataset\"\"\"\n",
    "        columns = [col for col in self.features_num if col not in exclude_features] if include_features == [] else [col for col in include_features if col not in exclude_features]\n",
    "        dataset = self.output[columns]\n",
    "        from sklearn.impute import SimpleImputer\n",
    "        imputer = SimpleImputer(strategy=strategy).fit(dataset)\n",
    "        imputed_data = imputer.transform(dataset)\n",
    "        output_df = pd.DataFrame(imputed_data, columns=dataset.columns, index=dataset.index)\n",
    "        if store:\n",
    "            self.output[columns] = output_df\n",
    "            self.update_attributes()\n",
    "            self.update_history(step=\"Filled nulls\",snapshot=self.output,text='impute',transformer=imputer,cols=columns)\n",
    "        return output_df\n",
    "\n",
    "    def encode_order(self, include_features = [], exclude_features=[], store=True):\n",
    "        \"\"\"Uses the SKLearn OrdinalEncoder to order any categorical features of the dataset\"\"\"\n",
    "        columns = [col for col in self.features_cat if col not in exclude_features] if include_features == [] else [col for col in include_features if col not in exclude_features]\n",
    "        dataset = self.output[columns]\n",
    "        from sklearn.preprocessing import OrdinalEncoder\n",
    "        encoder = OrdinalEncoder().fit(dataset)\n",
    "        encoded_data = encoder.transform(dataset)\n",
    "        output_df = pd.DataFrame(encoded_data, columns=dataset.columns, index=dataset.index)\n",
    "        if store:\n",
    "            self.output[columns] = output_df\n",
    "            self.update_attributes()\n",
    "            self.update_history(step=\"Encoded order of categorial features\",snapshot=self.output,text='ordinal',transformer=encoder,cols=columns)\n",
    "        return output_df\n",
    "\n",
    "    def make_dummies(self, include_features = [], exclude_features=[], store=True):\n",
    "        \"\"\"Uses the SKLearn OneHotEncoder to turn categorical features of the dataset into dummy-variables\"\"\"\n",
    "        columns = [col for col in self.features_cat if col not in exclude_features] if include_features == [] else [col for col in include_features if col not in exclude_features]\n",
    "        remain_columns = [col for col in self.output.columns if col not in columns]\n",
    "        dataset = self.output[columns]\n",
    "        from sklearn.preprocessing import OneHotEncoder\n",
    "        encoder = OneHotEncoder().fit(dataset)\n",
    "        new_column_names = encoder.get_feature_names_out(dataset.columns)\n",
    "        dummy_data = encoder.transform(dataset).toarray()\n",
    "        dummy_data_df = pd.DataFrame(dummy_data, columns=[name for name in new_column_names], index=dataset.index)\n",
    "        output_df = pd.merge(self.output[remain_columns], dummy_data_df, left_index=True, right_index=True)\n",
    "        if store == True:\n",
    "            self.output = output_df\n",
    "            self.update_attributes()\n",
    "            self.update_history(step=\"Turned categorical features into dummy variables\",snapshot=self.output,text='onehot',transformer=encoder,cols=columns)\n",
    "        return output_df\n",
    "\n",
    "    def scale(self, strategy:str, include_features = [], exclude_features=[], store=True):\n",
    "        \"\"\"Uses the SKLearn StandardScaler or MinMaxScaler to scale all numerical features of the dataset\"\"\"\n",
    "        columns = [col for col in self.features_num if col not in exclude_features] if include_features == [] else [col for col in include_features if col not in exclude_features]\n",
    "        dataset = self.output[columns]\n",
    "        from sklearn.preprocessing import StandardScaler, MinMaxScaler\n",
    "        if strategy==\"Standard\":\n",
    "            scaler = StandardScaler().fit(dataset)\n",
    "        elif strategy==\"MinMax\":\n",
    "            scaler = MinMaxScaler().fit(dataset)\n",
    "        else:\n",
    "            print('Not a proper scaler')\n",
    "        output_df = scaler.transform(dataset)\n",
    "        if store:\n",
    "            self.output[columns] = output_df\n",
    "            self.update_attributes()\n",
    "            self.update_history(step=f\"\"\"Scaled feature-values using {'Standard-scaler' if strategy=='Standard' else 'MinMax-scaler'}\"\"\",snapshot=self.output,text='scaler',transformer=scaler,cols=columns)\n",
    "        return output_df\n",
    "\n",
    "    def cluster(self, max_k=10, store=True):\n",
    "        \"\"\"Uses the SKLearn KMeans to cluster the dataset\"\"\"\n",
    "        dataset = self.output\n",
    "        from sklearn.cluster import KMeans\n",
    "        from matplotlib import pyplot\n",
    "        from sklearn.metrics import silhouette_score\n",
    "        kmeans_per_k = [KMeans(n_clusters=k, random_state=42).fit(dataset) for k in range(1, max_k + 1)]\n",
    "        silhouettes = [silhouette_score(dataset, model.labels_) for model in kmeans_per_k[1:]]\n",
    "        best_k = silhouettes.index(max(silhouettes)) + 2\n",
    "        plt.plot(range(2, max_k + 1), silhouettes)\n",
    "        plt.xlabel(\"KMeans\")\n",
    "        plt.ylabel(\"Silhouette-score\")\n",
    "        plt.show()\n",
    "        print(\"Best silhouette is obtained with k as: \", best_k)\n",
    "        if store:\n",
    "            self.output[\"Cluster\"] = [\"Cluster \" + str(i) for i in KMeans(n_clusters=best_k, random_state=42).fit_predict(dataset)]\n",
    "            self.update_attributes()\n",
    "            self.update_history(step=\"Added Cluster-label as column to dataset\",snapshot=self.output)\n",
    "        return self.output\n",
    "\n",
    "## Analysis commands\n",
    "    def cross_validate(self, model, x, y, score_measure=\"neg_mean_squared_error\", folds=10):\n",
    "        \"\"\"Uses the SKLearn Cross_Val_Score to cross-validate one/several models on the training subset\"\"\"\n",
    "        from sklearn.model_selection import cross_val_score\n",
    "        scores = cross_val_score(model, x, y, scoring=score_measure, cv=folds)\n",
    "        return scores\n",
    "\n",
    "    def full_analysis(self, model):\n",
    "        \"\"\"Conducts a full data-analysis pipeline on the dataset, including model training, evaluation and tuning\"\"\"\n",
    "        dataset = self.output\n",
    "        X_train, X_test, Y_train, Y_test = self.random_split(dataset)\n",
    "\n",
    "        sqrt_scores = np.sqrt(-self.cross_validate(model, X_train, Y_train, score_measure=\"neg_mean_squared_error\", folds=10))\n",
    "        print(\n",
    "            \"RMSE-scores: \", sqrt_scores,\n",
    "            \"RMSE-mean: \", sqrt_scores.mean(),\n",
    "            \"RMSE-std: \", sqrt_scores.std()\n",
    "        )"
   ],
   "metadata": {
    "collapsed": false
   }
  },
  {
   "cell_type": "code",
   "execution_count": 57,
   "outputs": [],
   "source": [
    "dir = 'C:/Users/JesperFrederiksen/PycharmProjects/ML-code/datasets/housing/housing.csv'\n",
    "df = pd.read_csv(dir)"
   ],
   "metadata": {
    "collapsed": false
   }
  },
  {
   "cell_type": "code",
   "execution_count": 66,
   "outputs": [],
   "source": [
    "pal = Palanthir(df)"
   ],
   "metadata": {
    "collapsed": false
   }
  },
  {
   "cell_type": "code",
   "execution_count": 67,
   "outputs": [],
   "source": [
    "#print(pal.train_X.shape,pal.train_Y.shape,pal.test_X.shape,pal.test_Y.shape)\n",
    "#print(pal.train.shape,pal.test.shape)\n",
    "#print(pal.X,pal.Y)"
   ],
   "metadata": {
    "collapsed": false
   }
  },
  {
   "cell_type": "code",
   "execution_count": 68,
   "outputs": [
    {
     "data": {
      "text/plain": "array([[0.21115538, 0.5674814 , 0.78431373, ..., 0.02055583, 0.53966842,\n        0.90226638],\n       [0.21215139, 0.565356  , 0.39215686, ..., 0.18697583, 0.53802706,\n        0.70824656],\n       [0.21015936, 0.5642933 , 1.        , ..., 0.02894261, 0.46602805,\n        0.69505074],\n       ...,\n       [0.31175299, 0.73219979, 0.31372549, ..., 0.07104095, 0.08276438,\n        0.15938285],\n       [0.30179283, 0.73219979, 0.33333333, ..., 0.05722743, 0.09429525,\n        0.14371281],\n       [0.30976096, 0.72582359, 0.29411765, ..., 0.08699227, 0.13025338,\n        0.15340349]])"
     },
     "execution_count": 68,
     "metadata": {},
     "output_type": "execute_result"
    }
   ],
   "source": [
    "pal.scale(strategy=\"MinMax\")"
   ],
   "metadata": {
    "collapsed": false
   }
  },
  {
   "cell_type": "code",
   "execution_count": 69,
   "outputs": [
    {
     "data": {
      "text/plain": "       longitude\n0        -122.23\n1        -122.22\n2        -122.24\n3        -122.25\n4        -122.25\n...          ...\n20635    -121.09\n20636    -121.21\n20637    -121.22\n20638    -121.32\n20639    -121.24\n\n[20640 rows x 1 columns]",
      "text/html": "<div>\n<style scoped>\n    .dataframe tbody tr th:only-of-type {\n        vertical-align: middle;\n    }\n\n    .dataframe tbody tr th {\n        vertical-align: top;\n    }\n\n    .dataframe thead th {\n        text-align: right;\n    }\n</style>\n<table border=\"1\" class=\"dataframe\">\n  <thead>\n    <tr style=\"text-align: right;\">\n      <th></th>\n      <th>longitude</th>\n    </tr>\n  </thead>\n  <tbody>\n    <tr>\n      <th>0</th>\n      <td>-122.23</td>\n    </tr>\n    <tr>\n      <th>1</th>\n      <td>-122.22</td>\n    </tr>\n    <tr>\n      <th>2</th>\n      <td>-122.24</td>\n    </tr>\n    <tr>\n      <th>3</th>\n      <td>-122.25</td>\n    </tr>\n    <tr>\n      <th>4</th>\n      <td>-122.25</td>\n    </tr>\n    <tr>\n      <th>...</th>\n      <td>...</td>\n    </tr>\n    <tr>\n      <th>20635</th>\n      <td>-121.09</td>\n    </tr>\n    <tr>\n      <th>20636</th>\n      <td>-121.21</td>\n    </tr>\n    <tr>\n      <th>20637</th>\n      <td>-121.22</td>\n    </tr>\n    <tr>\n      <th>20638</th>\n      <td>-121.32</td>\n    </tr>\n    <tr>\n      <th>20639</th>\n      <td>-121.24</td>\n    </tr>\n  </tbody>\n</table>\n<p>20640 rows × 1 columns</p>\n</div>"
     },
     "execution_count": 69,
     "metadata": {},
     "output_type": "execute_result"
    }
   ],
   "source": [
    "pal.declare_target(target_feature='longitude')"
   ],
   "metadata": {
    "collapsed": false
   }
  },
  {
   "cell_type": "code",
   "execution_count": 70,
   "outputs": [
    {
     "data": {
      "text/plain": "       latitude  housing_median_age  total_rooms  total_bedrooms  population  \\\n0         37.88                41.0        880.0           129.0       322.0   \n1         37.86                21.0       7099.0          1106.0      2401.0   \n2         37.85                52.0       1467.0           190.0       496.0   \n3         37.85                52.0       1274.0           235.0       558.0   \n4         37.85                52.0       1627.0           280.0       565.0   \n...         ...                 ...          ...             ...         ...   \n20635     39.48                25.0       1665.0           374.0       845.0   \n20636     39.49                18.0        697.0           150.0       356.0   \n20637     39.43                17.0       2254.0           485.0      1007.0   \n20638     39.43                18.0       1860.0           409.0       741.0   \n20639     39.37                16.0       2785.0           616.0      1387.0   \n\n       households  median_income  median_house_value ocean_proximity  \n0           126.0         8.3252            452600.0        NEAR BAY  \n1          1138.0         8.3014            358500.0        NEAR BAY  \n2           177.0         7.2574            352100.0        NEAR BAY  \n3           219.0         5.6431            341300.0        NEAR BAY  \n4           259.0         3.8462            342200.0        NEAR BAY  \n...           ...            ...                 ...             ...  \n20635       330.0         1.5603             78100.0          INLAND  \n20636       114.0         2.5568             77100.0          INLAND  \n20637       433.0         1.7000             92300.0          INLAND  \n20638       349.0         1.8672             84700.0          INLAND  \n20639       530.0         2.3886             89400.0          INLAND  \n\n[20640 rows x 9 columns]",
      "text/html": "<div>\n<style scoped>\n    .dataframe tbody tr th:only-of-type {\n        vertical-align: middle;\n    }\n\n    .dataframe tbody tr th {\n        vertical-align: top;\n    }\n\n    .dataframe thead th {\n        text-align: right;\n    }\n</style>\n<table border=\"1\" class=\"dataframe\">\n  <thead>\n    <tr style=\"text-align: right;\">\n      <th></th>\n      <th>latitude</th>\n      <th>housing_median_age</th>\n      <th>total_rooms</th>\n      <th>total_bedrooms</th>\n      <th>population</th>\n      <th>households</th>\n      <th>median_income</th>\n      <th>median_house_value</th>\n      <th>ocean_proximity</th>\n    </tr>\n  </thead>\n  <tbody>\n    <tr>\n      <th>0</th>\n      <td>37.88</td>\n      <td>41.0</td>\n      <td>880.0</td>\n      <td>129.0</td>\n      <td>322.0</td>\n      <td>126.0</td>\n      <td>8.3252</td>\n      <td>452600.0</td>\n      <td>NEAR BAY</td>\n    </tr>\n    <tr>\n      <th>1</th>\n      <td>37.86</td>\n      <td>21.0</td>\n      <td>7099.0</td>\n      <td>1106.0</td>\n      <td>2401.0</td>\n      <td>1138.0</td>\n      <td>8.3014</td>\n      <td>358500.0</td>\n      <td>NEAR BAY</td>\n    </tr>\n    <tr>\n      <th>2</th>\n      <td>37.85</td>\n      <td>52.0</td>\n      <td>1467.0</td>\n      <td>190.0</td>\n      <td>496.0</td>\n      <td>177.0</td>\n      <td>7.2574</td>\n      <td>352100.0</td>\n      <td>NEAR BAY</td>\n    </tr>\n    <tr>\n      <th>3</th>\n      <td>37.85</td>\n      <td>52.0</td>\n      <td>1274.0</td>\n      <td>235.0</td>\n      <td>558.0</td>\n      <td>219.0</td>\n      <td>5.6431</td>\n      <td>341300.0</td>\n      <td>NEAR BAY</td>\n    </tr>\n    <tr>\n      <th>4</th>\n      <td>37.85</td>\n      <td>52.0</td>\n      <td>1627.0</td>\n      <td>280.0</td>\n      <td>565.0</td>\n      <td>259.0</td>\n      <td>3.8462</td>\n      <td>342200.0</td>\n      <td>NEAR BAY</td>\n    </tr>\n    <tr>\n      <th>...</th>\n      <td>...</td>\n      <td>...</td>\n      <td>...</td>\n      <td>...</td>\n      <td>...</td>\n      <td>...</td>\n      <td>...</td>\n      <td>...</td>\n      <td>...</td>\n    </tr>\n    <tr>\n      <th>20635</th>\n      <td>39.48</td>\n      <td>25.0</td>\n      <td>1665.0</td>\n      <td>374.0</td>\n      <td>845.0</td>\n      <td>330.0</td>\n      <td>1.5603</td>\n      <td>78100.0</td>\n      <td>INLAND</td>\n    </tr>\n    <tr>\n      <th>20636</th>\n      <td>39.49</td>\n      <td>18.0</td>\n      <td>697.0</td>\n      <td>150.0</td>\n      <td>356.0</td>\n      <td>114.0</td>\n      <td>2.5568</td>\n      <td>77100.0</td>\n      <td>INLAND</td>\n    </tr>\n    <tr>\n      <th>20637</th>\n      <td>39.43</td>\n      <td>17.0</td>\n      <td>2254.0</td>\n      <td>485.0</td>\n      <td>1007.0</td>\n      <td>433.0</td>\n      <td>1.7000</td>\n      <td>92300.0</td>\n      <td>INLAND</td>\n    </tr>\n    <tr>\n      <th>20638</th>\n      <td>39.43</td>\n      <td>18.0</td>\n      <td>1860.0</td>\n      <td>409.0</td>\n      <td>741.0</td>\n      <td>349.0</td>\n      <td>1.8672</td>\n      <td>84700.0</td>\n      <td>INLAND</td>\n    </tr>\n    <tr>\n      <th>20639</th>\n      <td>39.37</td>\n      <td>16.0</td>\n      <td>2785.0</td>\n      <td>616.0</td>\n      <td>1387.0</td>\n      <td>530.0</td>\n      <td>2.3886</td>\n      <td>89400.0</td>\n      <td>INLAND</td>\n    </tr>\n  </tbody>\n</table>\n<p>20640 rows × 9 columns</p>\n</div>"
     },
     "execution_count": 70,
     "metadata": {},
     "output_type": "execute_result"
    }
   ],
   "source": [
    "pal.output"
   ],
   "metadata": {
    "collapsed": false
   }
  },
  {
   "cell_type": "code",
   "execution_count": 71,
   "outputs": [
    {
     "data": {
      "text/plain": "2"
     },
     "execution_count": 71,
     "metadata": {},
     "output_type": "execute_result"
    }
   ],
   "source": [
    "pal.current_version"
   ],
   "metadata": {
    "collapsed": false
   }
  },
  {
   "cell_type": "code",
   "execution_count": 75,
   "outputs": [
    {
     "data": {
      "text/plain": "{'version': 1,\n 'transformation': 'Scaled feature-values using MinMax-scaler',\n 'result':        longitude  latitude  housing_median_age  total_rooms  total_bedrooms  \\\n 0       0.211155  0.567481            0.784314     0.022331        0.019863   \n 1       0.212151  0.565356            0.392157     0.180503        0.171477   \n 2       0.210159  0.564293            1.000000     0.037260        0.029330   \n 3       0.209163  0.564293            1.000000     0.032352        0.036313   \n 4       0.209163  0.564293            1.000000     0.041330        0.043296   \n ...          ...       ...                 ...          ...             ...   \n 20635   0.324701  0.737513            0.470588     0.042296        0.057883   \n 20636   0.312749  0.738576            0.333333     0.017676        0.023122   \n 20637   0.311753  0.732200            0.313725     0.057277        0.075109   \n 20638   0.301793  0.732200            0.333333     0.047256        0.063315   \n 20639   0.309761  0.725824            0.294118     0.070782        0.095438   \n \n        population  households  median_income  median_house_value  \\\n 0        0.008941    0.020556       0.539668            0.902266   \n 1        0.067210    0.186976       0.538027            0.708247   \n 2        0.013818    0.028943       0.466028            0.695051   \n 3        0.015555    0.035849       0.354699            0.672783   \n 4        0.015752    0.042427       0.230776            0.674638   \n ...           ...         ...            ...                 ...   \n 20635    0.023599    0.054103       0.073130            0.130105   \n 20636    0.009894    0.018582       0.141853            0.128043   \n 20637    0.028140    0.071041       0.082764            0.159383   \n 20638    0.020684    0.057227       0.094295            0.143713   \n 20639    0.038790    0.086992       0.130253            0.153403   \n \n       ocean_proximity  \n 0            NEAR BAY  \n 1            NEAR BAY  \n 2            NEAR BAY  \n 3            NEAR BAY  \n 4            NEAR BAY  \n ...               ...  \n 20635          INLAND  \n 20636          INLAND  \n 20637          INLAND  \n 20638          INLAND  \n 20639          INLAND  \n \n [20640 rows x 10 columns],\n 'pipeline': ColumnTransformer(transformers=[('scaler', MinMaxScaler(),\n                                  ['longitude', 'latitude', 'housing_median_age',\n                                   'total_rooms', 'total_bedrooms', 'population',\n                                   'households', 'median_income',\n                                   'median_house_value'])])}"
     },
     "execution_count": 75,
     "metadata": {},
     "output_type": "execute_result"
    }
   ],
   "source": [
    "pal.transformation_history[1]"
   ],
   "metadata": {
    "collapsed": false
   }
  },
  {
   "cell_type": "code",
   "execution_count": 84,
   "outputs": [
    {
     "data": {
      "text/plain": "(       latitude  housing_median_age  total_rooms  total_bedrooms  population  \\\n 16490     38.00                27.0       1683.0           288.0       873.0   \n 6090      34.10                15.0       6409.0          1363.0      3359.0   \n 10973     33.76                26.0       2312.0           525.0      1273.0   \n 17287     34.35                34.0       1664.0           292.0       705.0   \n 12615     38.50                25.0       4719.0           745.0      1857.0   \n ...         ...                 ...          ...             ...         ...   \n 5606      33.79                16.0       1867.0           571.0       951.0   \n 16339     38.04                16.0       3295.0           565.0      2279.0   \n 14965     32.74                18.0       3341.0           611.0      1952.0   \n 11117     33.84                16.0       1545.0           354.0       730.0   \n 8472      33.91                35.0        940.0           197.0       640.0   \n \n        households  median_income  median_house_value  \n 16490       258.0         4.7069            176900.0  \n 6090       1267.0         3.8750            173300.0  \n 10973       437.0         2.8828            204700.0  \n 17287       257.0         5.0000            329400.0  \n 12615       739.0         5.0371            180200.0  \n ...           ...            ...                 ...  \n 5606        498.0         3.3427            154200.0  \n 16339       576.0         3.6083            146400.0  \n 14965       602.0         3.9844            215300.0  \n 11117       350.0         4.5112            139000.0  \n 8472        215.0         4.2000            181300.0  \n \n [13209 rows x 8 columns],\n        longitude\n 16490    -120.97\n 6090     -117.87\n 10973    -117.85\n 17287    -119.74\n 12615    -121.51\n ...          ...\n 5606     -118.29\n 16339    -121.34\n 14965    -116.99\n 11117    -117.87\n 8472     -118.32\n \n [13209 rows x 1 columns],\n        latitude  housing_median_age  total_rooms  total_bedrooms  population  \\\n 2071      36.74                35.0       1191.0           190.0       537.0   \n 2612      41.02                23.0       1672.0           385.0      1060.0   \n 10838     33.67                14.0       6224.0          1679.0      3148.0   \n 4061      34.15                10.0       1091.0           260.0       517.0   \n 10767     33.63                28.0       2370.0           352.0       832.0   \n ...         ...                 ...          ...             ...         ...   \n 18945     38.28                15.0       5114.0           833.0      2418.0   \n 6011      34.06                27.0       2178.0           629.0      2379.0   \n 10502     33.47                21.0       2208.0           534.0      1423.0   \n 14688     32.80                25.0       2963.0           552.0      1162.0   \n 11239     33.82                19.0       1199.0           251.0       730.0   \n \n        households  median_income  median_house_value  \n 2071        182.0         3.5375             96700.0  \n 2612        390.0         2.1726             75500.0  \n 10838      1589.0         4.2071            430900.0  \n 4061        266.0         4.1727            332600.0  \n 10767       347.0         7.1148            500001.0  \n ...           ...            ...                 ...  \n 18945       778.0         4.4882            144000.0  \n 6011        591.0         1.9766            108000.0  \n 10502       482.0         3.5915            305600.0  \n 14688       556.0         3.6250            184500.0  \n 11239       276.0         3.6422            209400.0  \n \n [3303 rows x 8 columns],\n        longitude\n 2071     -119.85\n 2612     -124.16\n 10838    -117.92\n 4061     -118.45\n 10767    -117.90\n ...          ...\n 18945    -122.03\n 6011     -117.77\n 10502    -117.70\n 14688    -117.08\n 11239    -117.96\n \n [3303 rows x 1 columns])"
     },
     "execution_count": 84,
     "metadata": {},
     "output_type": "execute_result"
    }
   ],
   "source": [
    "pal.random_split()"
   ],
   "metadata": {
    "collapsed": false
   }
  },
  {
   "cell_type": "code",
   "execution_count": 151,
   "outputs": [
    {
     "data": {
      "text/plain": "       longitude\n14196    -117.03\n8267     -118.16\n17445    -120.48\n14265    -117.11\n2271     -119.80\n...          ...\n11284    -117.96\n11964    -117.43\n5390     -118.38\n860      -121.96\n15795    -122.42\n\n[16512 rows x 1 columns]",
      "text/html": "<div>\n<style scoped>\n    .dataframe tbody tr th:only-of-type {\n        vertical-align: middle;\n    }\n\n    .dataframe tbody tr th {\n        vertical-align: top;\n    }\n\n    .dataframe thead th {\n        text-align: right;\n    }\n</style>\n<table border=\"1\" class=\"dataframe\">\n  <thead>\n    <tr style=\"text-align: right;\">\n      <th></th>\n      <th>longitude</th>\n    </tr>\n  </thead>\n  <tbody>\n    <tr>\n      <th>14196</th>\n      <td>-117.03</td>\n    </tr>\n    <tr>\n      <th>8267</th>\n      <td>-118.16</td>\n    </tr>\n    <tr>\n      <th>17445</th>\n      <td>-120.48</td>\n    </tr>\n    <tr>\n      <th>14265</th>\n      <td>-117.11</td>\n    </tr>\n    <tr>\n      <th>2271</th>\n      <td>-119.80</td>\n    </tr>\n    <tr>\n      <th>...</th>\n      <td>...</td>\n    </tr>\n    <tr>\n      <th>11284</th>\n      <td>-117.96</td>\n    </tr>\n    <tr>\n      <th>11964</th>\n      <td>-117.43</td>\n    </tr>\n    <tr>\n      <th>5390</th>\n      <td>-118.38</td>\n    </tr>\n    <tr>\n      <th>860</th>\n      <td>-121.96</td>\n    </tr>\n    <tr>\n      <th>15795</th>\n      <td>-122.42</td>\n    </tr>\n  </tbody>\n</table>\n<p>16512 rows × 1 columns</p>\n</div>"
     },
     "execution_count": 151,
     "metadata": {},
     "output_type": "execute_result"
    }
   ],
   "source": [
    "pal.train_Y"
   ],
   "metadata": {
    "collapsed": false
   }
  },
  {
   "cell_type": "code",
   "execution_count": 48,
   "outputs": [
    {
     "data": {
      "text/plain": "ColumnTransformer(transformers=[])",
      "text/html": "<style>#sk-container-id-1 {color: black;background-color: white;}#sk-container-id-1 pre{padding: 0;}#sk-container-id-1 div.sk-toggleable {background-color: white;}#sk-container-id-1 label.sk-toggleable__label {cursor: pointer;display: block;width: 100%;margin-bottom: 0;padding: 0.3em;box-sizing: border-box;text-align: center;}#sk-container-id-1 label.sk-toggleable__label-arrow:before {content: \"▸\";float: left;margin-right: 0.25em;color: #696969;}#sk-container-id-1 label.sk-toggleable__label-arrow:hover:before {color: black;}#sk-container-id-1 div.sk-estimator:hover label.sk-toggleable__label-arrow:before {color: black;}#sk-container-id-1 div.sk-toggleable__content {max-height: 0;max-width: 0;overflow: hidden;text-align: left;background-color: #f0f8ff;}#sk-container-id-1 div.sk-toggleable__content pre {margin: 0.2em;color: black;border-radius: 0.25em;background-color: #f0f8ff;}#sk-container-id-1 input.sk-toggleable__control:checked~div.sk-toggleable__content {max-height: 200px;max-width: 100%;overflow: auto;}#sk-container-id-1 input.sk-toggleable__control:checked~label.sk-toggleable__label-arrow:before {content: \"▾\";}#sk-container-id-1 div.sk-estimator input.sk-toggleable__control:checked~label.sk-toggleable__label {background-color: #d4ebff;}#sk-container-id-1 div.sk-label input.sk-toggleable__control:checked~label.sk-toggleable__label {background-color: #d4ebff;}#sk-container-id-1 input.sk-hidden--visually {border: 0;clip: rect(1px 1px 1px 1px);clip: rect(1px, 1px, 1px, 1px);height: 1px;margin: -1px;overflow: hidden;padding: 0;position: absolute;width: 1px;}#sk-container-id-1 div.sk-estimator {font-family: monospace;background-color: #f0f8ff;border: 1px dotted black;border-radius: 0.25em;box-sizing: border-box;margin-bottom: 0.5em;}#sk-container-id-1 div.sk-estimator:hover {background-color: #d4ebff;}#sk-container-id-1 div.sk-parallel-item::after {content: \"\";width: 100%;border-bottom: 1px solid gray;flex-grow: 1;}#sk-container-id-1 div.sk-label:hover label.sk-toggleable__label {background-color: #d4ebff;}#sk-container-id-1 div.sk-serial::before {content: \"\";position: absolute;border-left: 1px solid gray;box-sizing: border-box;top: 0;bottom: 0;left: 50%;z-index: 0;}#sk-container-id-1 div.sk-serial {display: flex;flex-direction: column;align-items: center;background-color: white;padding-right: 0.2em;padding-left: 0.2em;position: relative;}#sk-container-id-1 div.sk-item {position: relative;z-index: 1;}#sk-container-id-1 div.sk-parallel {display: flex;align-items: stretch;justify-content: center;background-color: white;position: relative;}#sk-container-id-1 div.sk-item::before, #sk-container-id-1 div.sk-parallel-item::before {content: \"\";position: absolute;border-left: 1px solid gray;box-sizing: border-box;top: 0;bottom: 0;left: 50%;z-index: -1;}#sk-container-id-1 div.sk-parallel-item {display: flex;flex-direction: column;z-index: 1;position: relative;background-color: white;}#sk-container-id-1 div.sk-parallel-item:first-child::after {align-self: flex-end;width: 50%;}#sk-container-id-1 div.sk-parallel-item:last-child::after {align-self: flex-start;width: 50%;}#sk-container-id-1 div.sk-parallel-item:only-child::after {width: 0;}#sk-container-id-1 div.sk-dashed-wrapped {border: 1px dashed gray;margin: 0 0.4em 0.5em 0.4em;box-sizing: border-box;padding-bottom: 0.4em;background-color: white;}#sk-container-id-1 div.sk-label label {font-family: monospace;font-weight: bold;display: inline-block;line-height: 1.2em;}#sk-container-id-1 div.sk-label-container {text-align: center;}#sk-container-id-1 div.sk-container {/* jupyter's `normalize.less` sets `[hidden] { display: none; }` but bootstrap.min.css set `[hidden] { display: none !important; }` so we also need the `!important` here to be able to override the default hidden behavior on the sphinx rendered scikit-learn.org. See: https://github.com/scikit-learn/scikit-learn/issues/21755 */display: inline-block !important;position: relative;}#sk-container-id-1 div.sk-text-repr-fallback {display: none;}</style><div id=\"sk-container-id-1\" class=\"sk-top-container\"><div class=\"sk-text-repr-fallback\"><pre>ColumnTransformer(transformers=[])</pre><b>In a Jupyter environment, please rerun this cell to show the HTML representation or trust the notebook. <br />On GitHub, the HTML representation is unable to render, please try loading this page with nbviewer.org.</b></div><div class=\"sk-container\" hidden><div class=\"sk-item\"><div class=\"sk-estimator sk-toggleable\"><input class=\"sk-toggleable__control sk-hidden--visually\" id=\"sk-estimator-id-1\" type=\"checkbox\" checked><label for=\"sk-estimator-id-1\" class=\"sk-toggleable__label sk-toggleable__label-arrow\">ColumnTransformer</label><div class=\"sk-toggleable__content\"><pre>ColumnTransformer(transformers=[])</pre></div></div></div></div></div>"
     },
     "execution_count": 48,
     "metadata": {},
     "output_type": "execute_result"
    }
   ],
   "source": [
    "pal.transformation_history[0].get('pipeline')"
   ],
   "metadata": {
    "collapsed": false
   }
  },
  {
   "cell_type": "code",
   "execution_count": 45,
   "outputs": [
    {
     "name": "stderr",
     "output_type": "stream",
     "text": [
      "C:\\Users\\JesperFrederiksen\\AppData\\Local\\Temp\\ipykernel_18552\\1904548894.py:213: SettingWithCopyWarning: \n",
      "A value is trying to be set on a copy of a slice from a DataFrame\n",
      "\n",
      "See the caveats in the documentation: https://pandas.pydata.org/pandas-docs/stable/user_guide/indexing.html#returning-a-view-versus-a-copy\n",
      "  self.output.loc[:,columns] = output_df\n"
     ]
    },
    {
     "data": {
      "text/plain": "array([[0.21115538, 0.5674814 , 0.78431373, ..., 0.02055583, 0.53966842,\n        0.90226638],\n       [0.21215139, 0.565356  , 0.39215686, ..., 0.18697583, 0.53802706,\n        0.70824656],\n       [0.21015936, 0.5642933 , 1.        , ..., 0.02894261, 0.46602805,\n        0.69505074],\n       ...,\n       [0.31175299, 0.73219979, 0.31372549, ..., 0.07104095, 0.08276438,\n        0.15938285],\n       [0.30179283, 0.73219979, 0.33333333, ..., 0.05722743, 0.09429525,\n        0.14371281],\n       [0.30976096, 0.72582359, 0.29411765, ..., 0.08699227, 0.13025338,\n        0.15340349]])"
     },
     "execution_count": 45,
     "metadata": {},
     "output_type": "execute_result"
    }
   ],
   "source": [
    "pal.scale(strategy=\"MinMax\")"
   ],
   "metadata": {
    "collapsed": false
   }
  },
  {
   "cell_type": "code",
   "execution_count": 34,
   "outputs": [
    {
     "data": {
      "text/plain": "1"
     },
     "execution_count": 34,
     "metadata": {},
     "output_type": "execute_result"
    }
   ],
   "source": [
    "pal.current_version"
   ],
   "metadata": {
    "collapsed": false
   }
  },
  {
   "cell_type": "code",
   "execution_count": 51,
   "outputs": [
    {
     "data": {
      "text/plain": "ColumnTransformer(transformers=[('scaler', MinMaxScaler(),\n                                 ['longitude', 'latitude', 'housing_median_age',\n                                  'total_rooms', 'total_bedrooms', 'population',\n                                  'households', 'median_income',\n                                  'median_house_value'])])",
      "text/html": "<style>#sk-container-id-2 {color: black;background-color: white;}#sk-container-id-2 pre{padding: 0;}#sk-container-id-2 div.sk-toggleable {background-color: white;}#sk-container-id-2 label.sk-toggleable__label {cursor: pointer;display: block;width: 100%;margin-bottom: 0;padding: 0.3em;box-sizing: border-box;text-align: center;}#sk-container-id-2 label.sk-toggleable__label-arrow:before {content: \"▸\";float: left;margin-right: 0.25em;color: #696969;}#sk-container-id-2 label.sk-toggleable__label-arrow:hover:before {color: black;}#sk-container-id-2 div.sk-estimator:hover label.sk-toggleable__label-arrow:before {color: black;}#sk-container-id-2 div.sk-toggleable__content {max-height: 0;max-width: 0;overflow: hidden;text-align: left;background-color: #f0f8ff;}#sk-container-id-2 div.sk-toggleable__content pre {margin: 0.2em;color: black;border-radius: 0.25em;background-color: #f0f8ff;}#sk-container-id-2 input.sk-toggleable__control:checked~div.sk-toggleable__content {max-height: 200px;max-width: 100%;overflow: auto;}#sk-container-id-2 input.sk-toggleable__control:checked~label.sk-toggleable__label-arrow:before {content: \"▾\";}#sk-container-id-2 div.sk-estimator input.sk-toggleable__control:checked~label.sk-toggleable__label {background-color: #d4ebff;}#sk-container-id-2 div.sk-label input.sk-toggleable__control:checked~label.sk-toggleable__label {background-color: #d4ebff;}#sk-container-id-2 input.sk-hidden--visually {border: 0;clip: rect(1px 1px 1px 1px);clip: rect(1px, 1px, 1px, 1px);height: 1px;margin: -1px;overflow: hidden;padding: 0;position: absolute;width: 1px;}#sk-container-id-2 div.sk-estimator {font-family: monospace;background-color: #f0f8ff;border: 1px dotted black;border-radius: 0.25em;box-sizing: border-box;margin-bottom: 0.5em;}#sk-container-id-2 div.sk-estimator:hover {background-color: #d4ebff;}#sk-container-id-2 div.sk-parallel-item::after {content: \"\";width: 100%;border-bottom: 1px solid gray;flex-grow: 1;}#sk-container-id-2 div.sk-label:hover label.sk-toggleable__label {background-color: #d4ebff;}#sk-container-id-2 div.sk-serial::before {content: \"\";position: absolute;border-left: 1px solid gray;box-sizing: border-box;top: 0;bottom: 0;left: 50%;z-index: 0;}#sk-container-id-2 div.sk-serial {display: flex;flex-direction: column;align-items: center;background-color: white;padding-right: 0.2em;padding-left: 0.2em;position: relative;}#sk-container-id-2 div.sk-item {position: relative;z-index: 1;}#sk-container-id-2 div.sk-parallel {display: flex;align-items: stretch;justify-content: center;background-color: white;position: relative;}#sk-container-id-2 div.sk-item::before, #sk-container-id-2 div.sk-parallel-item::before {content: \"\";position: absolute;border-left: 1px solid gray;box-sizing: border-box;top: 0;bottom: 0;left: 50%;z-index: -1;}#sk-container-id-2 div.sk-parallel-item {display: flex;flex-direction: column;z-index: 1;position: relative;background-color: white;}#sk-container-id-2 div.sk-parallel-item:first-child::after {align-self: flex-end;width: 50%;}#sk-container-id-2 div.sk-parallel-item:last-child::after {align-self: flex-start;width: 50%;}#sk-container-id-2 div.sk-parallel-item:only-child::after {width: 0;}#sk-container-id-2 div.sk-dashed-wrapped {border: 1px dashed gray;margin: 0 0.4em 0.5em 0.4em;box-sizing: border-box;padding-bottom: 0.4em;background-color: white;}#sk-container-id-2 div.sk-label label {font-family: monospace;font-weight: bold;display: inline-block;line-height: 1.2em;}#sk-container-id-2 div.sk-label-container {text-align: center;}#sk-container-id-2 div.sk-container {/* jupyter's `normalize.less` sets `[hidden] { display: none; }` but bootstrap.min.css set `[hidden] { display: none !important; }` so we also need the `!important` here to be able to override the default hidden behavior on the sphinx rendered scikit-learn.org. See: https://github.com/scikit-learn/scikit-learn/issues/21755 */display: inline-block !important;position: relative;}#sk-container-id-2 div.sk-text-repr-fallback {display: none;}</style><div id=\"sk-container-id-2\" class=\"sk-top-container\"><div class=\"sk-text-repr-fallback\"><pre>ColumnTransformer(transformers=[(&#x27;scaler&#x27;, MinMaxScaler(),\n                                 [&#x27;longitude&#x27;, &#x27;latitude&#x27;, &#x27;housing_median_age&#x27;,\n                                  &#x27;total_rooms&#x27;, &#x27;total_bedrooms&#x27;, &#x27;population&#x27;,\n                                  &#x27;households&#x27;, &#x27;median_income&#x27;,\n                                  &#x27;median_house_value&#x27;])])</pre><b>In a Jupyter environment, please rerun this cell to show the HTML representation or trust the notebook. <br />On GitHub, the HTML representation is unable to render, please try loading this page with nbviewer.org.</b></div><div class=\"sk-container\" hidden><div class=\"sk-item sk-dashed-wrapped\"><div class=\"sk-label-container\"><div class=\"sk-label sk-toggleable\"><input class=\"sk-toggleable__control sk-hidden--visually\" id=\"sk-estimator-id-2\" type=\"checkbox\" ><label for=\"sk-estimator-id-2\" class=\"sk-toggleable__label sk-toggleable__label-arrow\">ColumnTransformer</label><div class=\"sk-toggleable__content\"><pre>ColumnTransformer(transformers=[(&#x27;scaler&#x27;, MinMaxScaler(),\n                                 [&#x27;longitude&#x27;, &#x27;latitude&#x27;, &#x27;housing_median_age&#x27;,\n                                  &#x27;total_rooms&#x27;, &#x27;total_bedrooms&#x27;, &#x27;population&#x27;,\n                                  &#x27;households&#x27;, &#x27;median_income&#x27;,\n                                  &#x27;median_house_value&#x27;])])</pre></div></div></div><div class=\"sk-parallel\"><div class=\"sk-parallel-item\"><div class=\"sk-item\"><div class=\"sk-label-container\"><div class=\"sk-label sk-toggleable\"><input class=\"sk-toggleable__control sk-hidden--visually\" id=\"sk-estimator-id-3\" type=\"checkbox\" ><label for=\"sk-estimator-id-3\" class=\"sk-toggleable__label sk-toggleable__label-arrow\">scaler</label><div class=\"sk-toggleable__content\"><pre>[&#x27;longitude&#x27;, &#x27;latitude&#x27;, &#x27;housing_median_age&#x27;, &#x27;total_rooms&#x27;, &#x27;total_bedrooms&#x27;, &#x27;population&#x27;, &#x27;households&#x27;, &#x27;median_income&#x27;, &#x27;median_house_value&#x27;]</pre></div></div></div><div class=\"sk-serial\"><div class=\"sk-item\"><div class=\"sk-estimator sk-toggleable\"><input class=\"sk-toggleable__control sk-hidden--visually\" id=\"sk-estimator-id-4\" type=\"checkbox\" ><label for=\"sk-estimator-id-4\" class=\"sk-toggleable__label sk-toggleable__label-arrow\">MinMaxScaler</label><div class=\"sk-toggleable__content\"><pre>MinMaxScaler()</pre></div></div></div></div></div></div></div></div></div></div>"
     },
     "execution_count": 51,
     "metadata": {},
     "output_type": "execute_result"
    }
   ],
   "source": [
    "pal.transformation_history[-1].get('pipeline')"
   ],
   "metadata": {
    "collapsed": false
   }
  },
  {
   "cell_type": "code",
   "execution_count": 53,
   "outputs": [
    {
     "data": {
      "text/plain": "       longitude  latitude  housing_median_age  total_rooms  total_bedrooms  \\\n14196   0.729084  0.017021            0.627451     0.079455        0.097145   \n8267    0.616534  0.129787            0.941176     0.085966        0.121974   \n17445   0.385458  0.224468            0.058824     0.048197        0.051210   \n14265   0.721116  0.014894            0.686275     0.036090        0.056797   \n2271    0.453187  0.450000            0.823529     0.060532        0.066729   \n...          ...       ...                 ...          ...             ...   \n11284   0.636454  0.130851            0.666667     0.033776        0.031037   \n11964   0.689243  0.156383            0.627451     0.078386        0.088299   \n5390    0.594622  0.157447            0.686275     0.053385        0.088144   \n860     0.238048  0.535106            0.274510     0.090874        0.092489   \n15795   0.192231  0.555319            1.000000     0.107432        0.203911   \n\n       population  households  median_income  median_house_value  \n14196    0.064380    0.102286       0.190322            0.181445  \n8267     0.036744    0.124157       0.228452            0.756906  \n17445    0.025561    0.055090       0.252162            0.324949  \n14265    0.039659    0.058214       0.099488            0.161651  \n2271     0.024412    0.062325       0.210638            0.168043  \n...           ...         ...            ...                 ...  \n11284    0.018358    0.035520       0.404829            0.441650  \n11964    0.049048    0.073672       0.175867            0.170723  \n5390     0.049133    0.086499       0.167894            0.427011  \n860      0.049721    0.091761       0.359947            0.553608  \n15795    0.073320    0.204078       0.143143            0.639175  \n\n[16512 rows x 9 columns]",
      "text/html": "<div>\n<style scoped>\n    .dataframe tbody tr th:only-of-type {\n        vertical-align: middle;\n    }\n\n    .dataframe tbody tr th {\n        vertical-align: top;\n    }\n\n    .dataframe thead th {\n        text-align: right;\n    }\n</style>\n<table border=\"1\" class=\"dataframe\">\n  <thead>\n    <tr style=\"text-align: right;\">\n      <th></th>\n      <th>longitude</th>\n      <th>latitude</th>\n      <th>housing_median_age</th>\n      <th>total_rooms</th>\n      <th>total_bedrooms</th>\n      <th>population</th>\n      <th>households</th>\n      <th>median_income</th>\n      <th>median_house_value</th>\n    </tr>\n  </thead>\n  <tbody>\n    <tr>\n      <th>14196</th>\n      <td>0.729084</td>\n      <td>0.017021</td>\n      <td>0.627451</td>\n      <td>0.079455</td>\n      <td>0.097145</td>\n      <td>0.064380</td>\n      <td>0.102286</td>\n      <td>0.190322</td>\n      <td>0.181445</td>\n    </tr>\n    <tr>\n      <th>8267</th>\n      <td>0.616534</td>\n      <td>0.129787</td>\n      <td>0.941176</td>\n      <td>0.085966</td>\n      <td>0.121974</td>\n      <td>0.036744</td>\n      <td>0.124157</td>\n      <td>0.228452</td>\n      <td>0.756906</td>\n    </tr>\n    <tr>\n      <th>17445</th>\n      <td>0.385458</td>\n      <td>0.224468</td>\n      <td>0.058824</td>\n      <td>0.048197</td>\n      <td>0.051210</td>\n      <td>0.025561</td>\n      <td>0.055090</td>\n      <td>0.252162</td>\n      <td>0.324949</td>\n    </tr>\n    <tr>\n      <th>14265</th>\n      <td>0.721116</td>\n      <td>0.014894</td>\n      <td>0.686275</td>\n      <td>0.036090</td>\n      <td>0.056797</td>\n      <td>0.039659</td>\n      <td>0.058214</td>\n      <td>0.099488</td>\n      <td>0.161651</td>\n    </tr>\n    <tr>\n      <th>2271</th>\n      <td>0.453187</td>\n      <td>0.450000</td>\n      <td>0.823529</td>\n      <td>0.060532</td>\n      <td>0.066729</td>\n      <td>0.024412</td>\n      <td>0.062325</td>\n      <td>0.210638</td>\n      <td>0.168043</td>\n    </tr>\n    <tr>\n      <th>...</th>\n      <td>...</td>\n      <td>...</td>\n      <td>...</td>\n      <td>...</td>\n      <td>...</td>\n      <td>...</td>\n      <td>...</td>\n      <td>...</td>\n      <td>...</td>\n    </tr>\n    <tr>\n      <th>11284</th>\n      <td>0.636454</td>\n      <td>0.130851</td>\n      <td>0.666667</td>\n      <td>0.033776</td>\n      <td>0.031037</td>\n      <td>0.018358</td>\n      <td>0.035520</td>\n      <td>0.404829</td>\n      <td>0.441650</td>\n    </tr>\n    <tr>\n      <th>11964</th>\n      <td>0.689243</td>\n      <td>0.156383</td>\n      <td>0.627451</td>\n      <td>0.078386</td>\n      <td>0.088299</td>\n      <td>0.049048</td>\n      <td>0.073672</td>\n      <td>0.175867</td>\n      <td>0.170723</td>\n    </tr>\n    <tr>\n      <th>5390</th>\n      <td>0.594622</td>\n      <td>0.157447</td>\n      <td>0.686275</td>\n      <td>0.053385</td>\n      <td>0.088144</td>\n      <td>0.049133</td>\n      <td>0.086499</td>\n      <td>0.167894</td>\n      <td>0.427011</td>\n    </tr>\n    <tr>\n      <th>860</th>\n      <td>0.238048</td>\n      <td>0.535106</td>\n      <td>0.274510</td>\n      <td>0.090874</td>\n      <td>0.092489</td>\n      <td>0.049721</td>\n      <td>0.091761</td>\n      <td>0.359947</td>\n      <td>0.553608</td>\n    </tr>\n    <tr>\n      <th>15795</th>\n      <td>0.192231</td>\n      <td>0.555319</td>\n      <td>1.000000</td>\n      <td>0.107432</td>\n      <td>0.203911</td>\n      <td>0.073320</td>\n      <td>0.204078</td>\n      <td>0.143143</td>\n      <td>0.639175</td>\n    </tr>\n  </tbody>\n</table>\n<p>16512 rows × 9 columns</p>\n</div>"
     },
     "execution_count": 53,
     "metadata": {},
     "output_type": "execute_result"
    }
   ],
   "source": [
    "pal.fill_nulls()"
   ],
   "metadata": {
    "collapsed": false
   }
  },
  {
   "cell_type": "code",
   "execution_count": 54,
   "outputs": [
    {
     "data": {
      "text/plain": "2"
     },
     "execution_count": 54,
     "metadata": {},
     "output_type": "execute_result"
    }
   ],
   "source": [
    "pal.current_version"
   ],
   "metadata": {
    "collapsed": false
   }
  },
  {
   "cell_type": "code",
   "execution_count": 55,
   "outputs": [
    {
     "data": {
      "text/plain": "ColumnTransformer(transformers=[('scaler', MinMaxScaler(),\n                                 ['longitude', 'latitude', 'housing_median_age',\n                                  'total_rooms', 'total_bedrooms', 'population',\n                                  'households', 'median_income',\n                                  'median_house_value']),\n                                ('impute', SimpleImputer(strategy='median'),\n                                 ['longitude', 'latitude', 'housing_median_age',\n                                  'total_rooms', 'total_bedrooms', 'population',\n                                  'households', 'median_income',\n                                  'median_house_value'])])",
      "text/html": "<style>#sk-container-id-3 {color: black;background-color: white;}#sk-container-id-3 pre{padding: 0;}#sk-container-id-3 div.sk-toggleable {background-color: white;}#sk-container-id-3 label.sk-toggleable__label {cursor: pointer;display: block;width: 100%;margin-bottom: 0;padding: 0.3em;box-sizing: border-box;text-align: center;}#sk-container-id-3 label.sk-toggleable__label-arrow:before {content: \"▸\";float: left;margin-right: 0.25em;color: #696969;}#sk-container-id-3 label.sk-toggleable__label-arrow:hover:before {color: black;}#sk-container-id-3 div.sk-estimator:hover label.sk-toggleable__label-arrow:before {color: black;}#sk-container-id-3 div.sk-toggleable__content {max-height: 0;max-width: 0;overflow: hidden;text-align: left;background-color: #f0f8ff;}#sk-container-id-3 div.sk-toggleable__content pre {margin: 0.2em;color: black;border-radius: 0.25em;background-color: #f0f8ff;}#sk-container-id-3 input.sk-toggleable__control:checked~div.sk-toggleable__content {max-height: 200px;max-width: 100%;overflow: auto;}#sk-container-id-3 input.sk-toggleable__control:checked~label.sk-toggleable__label-arrow:before {content: \"▾\";}#sk-container-id-3 div.sk-estimator input.sk-toggleable__control:checked~label.sk-toggleable__label {background-color: #d4ebff;}#sk-container-id-3 div.sk-label input.sk-toggleable__control:checked~label.sk-toggleable__label {background-color: #d4ebff;}#sk-container-id-3 input.sk-hidden--visually {border: 0;clip: rect(1px 1px 1px 1px);clip: rect(1px, 1px, 1px, 1px);height: 1px;margin: -1px;overflow: hidden;padding: 0;position: absolute;width: 1px;}#sk-container-id-3 div.sk-estimator {font-family: monospace;background-color: #f0f8ff;border: 1px dotted black;border-radius: 0.25em;box-sizing: border-box;margin-bottom: 0.5em;}#sk-container-id-3 div.sk-estimator:hover {background-color: #d4ebff;}#sk-container-id-3 div.sk-parallel-item::after {content: \"\";width: 100%;border-bottom: 1px solid gray;flex-grow: 1;}#sk-container-id-3 div.sk-label:hover label.sk-toggleable__label {background-color: #d4ebff;}#sk-container-id-3 div.sk-serial::before {content: \"\";position: absolute;border-left: 1px solid gray;box-sizing: border-box;top: 0;bottom: 0;left: 50%;z-index: 0;}#sk-container-id-3 div.sk-serial {display: flex;flex-direction: column;align-items: center;background-color: white;padding-right: 0.2em;padding-left: 0.2em;position: relative;}#sk-container-id-3 div.sk-item {position: relative;z-index: 1;}#sk-container-id-3 div.sk-parallel {display: flex;align-items: stretch;justify-content: center;background-color: white;position: relative;}#sk-container-id-3 div.sk-item::before, #sk-container-id-3 div.sk-parallel-item::before {content: \"\";position: absolute;border-left: 1px solid gray;box-sizing: border-box;top: 0;bottom: 0;left: 50%;z-index: -1;}#sk-container-id-3 div.sk-parallel-item {display: flex;flex-direction: column;z-index: 1;position: relative;background-color: white;}#sk-container-id-3 div.sk-parallel-item:first-child::after {align-self: flex-end;width: 50%;}#sk-container-id-3 div.sk-parallel-item:last-child::after {align-self: flex-start;width: 50%;}#sk-container-id-3 div.sk-parallel-item:only-child::after {width: 0;}#sk-container-id-3 div.sk-dashed-wrapped {border: 1px dashed gray;margin: 0 0.4em 0.5em 0.4em;box-sizing: border-box;padding-bottom: 0.4em;background-color: white;}#sk-container-id-3 div.sk-label label {font-family: monospace;font-weight: bold;display: inline-block;line-height: 1.2em;}#sk-container-id-3 div.sk-label-container {text-align: center;}#sk-container-id-3 div.sk-container {/* jupyter's `normalize.less` sets `[hidden] { display: none; }` but bootstrap.min.css set `[hidden] { display: none !important; }` so we also need the `!important` here to be able to override the default hidden behavior on the sphinx rendered scikit-learn.org. See: https://github.com/scikit-learn/scikit-learn/issues/21755 */display: inline-block !important;position: relative;}#sk-container-id-3 div.sk-text-repr-fallback {display: none;}</style><div id=\"sk-container-id-3\" class=\"sk-top-container\"><div class=\"sk-text-repr-fallback\"><pre>ColumnTransformer(transformers=[(&#x27;scaler&#x27;, MinMaxScaler(),\n                                 [&#x27;longitude&#x27;, &#x27;latitude&#x27;, &#x27;housing_median_age&#x27;,\n                                  &#x27;total_rooms&#x27;, &#x27;total_bedrooms&#x27;, &#x27;population&#x27;,\n                                  &#x27;households&#x27;, &#x27;median_income&#x27;,\n                                  &#x27;median_house_value&#x27;]),\n                                (&#x27;impute&#x27;, SimpleImputer(strategy=&#x27;median&#x27;),\n                                 [&#x27;longitude&#x27;, &#x27;latitude&#x27;, &#x27;housing_median_age&#x27;,\n                                  &#x27;total_rooms&#x27;, &#x27;total_bedrooms&#x27;, &#x27;population&#x27;,\n                                  &#x27;households&#x27;, &#x27;median_income&#x27;,\n                                  &#x27;median_house_value&#x27;])])</pre><b>In a Jupyter environment, please rerun this cell to show the HTML representation or trust the notebook. <br />On GitHub, the HTML representation is unable to render, please try loading this page with nbviewer.org.</b></div><div class=\"sk-container\" hidden><div class=\"sk-item sk-dashed-wrapped\"><div class=\"sk-label-container\"><div class=\"sk-label sk-toggleable\"><input class=\"sk-toggleable__control sk-hidden--visually\" id=\"sk-estimator-id-5\" type=\"checkbox\" ><label for=\"sk-estimator-id-5\" class=\"sk-toggleable__label sk-toggleable__label-arrow\">ColumnTransformer</label><div class=\"sk-toggleable__content\"><pre>ColumnTransformer(transformers=[(&#x27;scaler&#x27;, MinMaxScaler(),\n                                 [&#x27;longitude&#x27;, &#x27;latitude&#x27;, &#x27;housing_median_age&#x27;,\n                                  &#x27;total_rooms&#x27;, &#x27;total_bedrooms&#x27;, &#x27;population&#x27;,\n                                  &#x27;households&#x27;, &#x27;median_income&#x27;,\n                                  &#x27;median_house_value&#x27;]),\n                                (&#x27;impute&#x27;, SimpleImputer(strategy=&#x27;median&#x27;),\n                                 [&#x27;longitude&#x27;, &#x27;latitude&#x27;, &#x27;housing_median_age&#x27;,\n                                  &#x27;total_rooms&#x27;, &#x27;total_bedrooms&#x27;, &#x27;population&#x27;,\n                                  &#x27;households&#x27;, &#x27;median_income&#x27;,\n                                  &#x27;median_house_value&#x27;])])</pre></div></div></div><div class=\"sk-parallel\"><div class=\"sk-parallel-item\"><div class=\"sk-item\"><div class=\"sk-label-container\"><div class=\"sk-label sk-toggleable\"><input class=\"sk-toggleable__control sk-hidden--visually\" id=\"sk-estimator-id-6\" type=\"checkbox\" ><label for=\"sk-estimator-id-6\" class=\"sk-toggleable__label sk-toggleable__label-arrow\">scaler</label><div class=\"sk-toggleable__content\"><pre>[&#x27;longitude&#x27;, &#x27;latitude&#x27;, &#x27;housing_median_age&#x27;, &#x27;total_rooms&#x27;, &#x27;total_bedrooms&#x27;, &#x27;population&#x27;, &#x27;households&#x27;, &#x27;median_income&#x27;, &#x27;median_house_value&#x27;]</pre></div></div></div><div class=\"sk-serial\"><div class=\"sk-item\"><div class=\"sk-estimator sk-toggleable\"><input class=\"sk-toggleable__control sk-hidden--visually\" id=\"sk-estimator-id-7\" type=\"checkbox\" ><label for=\"sk-estimator-id-7\" class=\"sk-toggleable__label sk-toggleable__label-arrow\">MinMaxScaler</label><div class=\"sk-toggleable__content\"><pre>MinMaxScaler()</pre></div></div></div></div></div></div><div class=\"sk-parallel-item\"><div class=\"sk-item\"><div class=\"sk-label-container\"><div class=\"sk-label sk-toggleable\"><input class=\"sk-toggleable__control sk-hidden--visually\" id=\"sk-estimator-id-8\" type=\"checkbox\" ><label for=\"sk-estimator-id-8\" class=\"sk-toggleable__label sk-toggleable__label-arrow\">impute</label><div class=\"sk-toggleable__content\"><pre>[&#x27;longitude&#x27;, &#x27;latitude&#x27;, &#x27;housing_median_age&#x27;, &#x27;total_rooms&#x27;, &#x27;total_bedrooms&#x27;, &#x27;population&#x27;, &#x27;households&#x27;, &#x27;median_income&#x27;, &#x27;median_house_value&#x27;]</pre></div></div></div><div class=\"sk-serial\"><div class=\"sk-item\"><div class=\"sk-estimator sk-toggleable\"><input class=\"sk-toggleable__control sk-hidden--visually\" id=\"sk-estimator-id-9\" type=\"checkbox\" ><label for=\"sk-estimator-id-9\" class=\"sk-toggleable__label sk-toggleable__label-arrow\">SimpleImputer</label><div class=\"sk-toggleable__content\"><pre>SimpleImputer(strategy=&#x27;median&#x27;)</pre></div></div></div></div></div></div></div></div></div></div>"
     },
     "execution_count": 55,
     "metadata": {},
     "output_type": "execute_result"
    }
   ],
   "source": [
    "pal.transformation_history[-1].get('pipeline')"
   ],
   "metadata": {
    "collapsed": false
   }
  },
  {
   "cell_type": "code",
   "execution_count": 56,
   "outputs": [
    {
     "name": "stdout",
     "output_type": "stream",
     "text": [
      "[0.37455444 0.66565168 0.9160475  0.95963728 0.98823227 0.99820514\n",
      " 0.99904317 0.99976643 1.        ]\n"
     ]
    },
    {
     "data": {
      "text/plain": "<Figure size 640x480 with 1 Axes>",
      "image/png": "[encoded data removed]"
     },
     "metadata": {},
     "output_type": "display_data"
    },
    {
     "data": {
      "text/plain": "          PCA_1     PCA_2     PCA_3\n14196 -0.346314 -0.161293 -0.255307\n8267  -0.256607  0.478539 -0.186819\n17445 -0.060488 -0.306309  0.343711\n14265 -0.323302 -0.161691 -0.350513\n2271   0.174545 -0.015436 -0.320787\n...         ...       ...       ...\n11284 -0.253504  0.136474 -0.087312\n11964 -0.213511 -0.167414 -0.243784\n5390  -0.188160  0.072353 -0.160775\n860    0.237957  0.032746  0.389031\n15795  0.356023  0.448117 -0.178985\n\n[16512 rows x 3 columns]",
      "text/html": "<div>\n<style scoped>\n    .dataframe tbody tr th:only-of-type {\n        vertical-align: middle;\n    }\n\n    .dataframe tbody tr th {\n        vertical-align: top;\n    }\n\n    .dataframe thead th {\n        text-align: right;\n    }\n</style>\n<table border=\"1\" class=\"dataframe\">\n  <thead>\n    <tr style=\"text-align: right;\">\n      <th></th>\n      <th>PCA_1</th>\n      <th>PCA_2</th>\n      <th>PCA_3</th>\n    </tr>\n  </thead>\n  <tbody>\n    <tr>\n      <th>14196</th>\n      <td>-0.346314</td>\n      <td>-0.161293</td>\n      <td>-0.255307</td>\n    </tr>\n    <tr>\n      <th>8267</th>\n      <td>-0.256607</td>\n      <td>0.478539</td>\n      <td>-0.186819</td>\n    </tr>\n    <tr>\n      <th>17445</th>\n      <td>-0.060488</td>\n      <td>-0.306309</td>\n      <td>0.343711</td>\n    </tr>\n    <tr>\n      <th>14265</th>\n      <td>-0.323302</td>\n      <td>-0.161691</td>\n      <td>-0.350513</td>\n    </tr>\n    <tr>\n      <th>2271</th>\n      <td>0.174545</td>\n      <td>-0.015436</td>\n      <td>-0.320787</td>\n    </tr>\n    <tr>\n      <th>...</th>\n      <td>...</td>\n      <td>...</td>\n      <td>...</td>\n    </tr>\n    <tr>\n      <th>11284</th>\n      <td>-0.253504</td>\n      <td>0.136474</td>\n      <td>-0.087312</td>\n    </tr>\n    <tr>\n      <th>11964</th>\n      <td>-0.213511</td>\n      <td>-0.167414</td>\n      <td>-0.243784</td>\n    </tr>\n    <tr>\n      <th>5390</th>\n      <td>-0.188160</td>\n      <td>0.072353</td>\n      <td>-0.160775</td>\n    </tr>\n    <tr>\n      <th>860</th>\n      <td>0.237957</td>\n      <td>0.032746</td>\n      <td>0.389031</td>\n    </tr>\n    <tr>\n      <th>15795</th>\n      <td>0.356023</td>\n      <td>0.448117</td>\n      <td>-0.178985</td>\n    </tr>\n  </tbody>\n</table>\n<p>16512 rows × 3 columns</p>\n</div>"
     },
     "execution_count": 56,
     "metadata": {},
     "output_type": "execute_result"
    }
   ],
   "source": [
    "pal.PCA()"
   ],
   "metadata": {
    "collapsed": false
   }
  },
  {
   "cell_type": "code",
   "execution_count": 57,
   "outputs": [
    {
     "data": {
      "text/plain": "3"
     },
     "execution_count": 57,
     "metadata": {},
     "output_type": "execute_result"
    }
   ],
   "source": [
    "pal.current_version"
   ],
   "metadata": {
    "collapsed": false
   }
  },
  {
   "cell_type": "code",
   "execution_count": 58,
   "outputs": [
    {
     "data": {
      "text/plain": "ColumnTransformer(transformers=[('scaler', MinMaxScaler(),\n                                 ['longitude', 'latitude', 'housing_median_age',\n                                  'total_rooms', 'total_bedrooms', 'population',\n                                  'households', 'median_income',\n                                  'median_house_value']),\n                                ('impute', SimpleImputer(strategy='median'),\n                                 ['longitude', 'latitude', 'housing_median_age',\n                                  'total_rooms', 'total_bedrooms', 'population',\n                                  'households', 'median_income',\n                                  'median_house_value']),\n                                ('pca', PCA(n_components=0.8),\n                                 ['longitude', 'latitude', 'housing_median_age',\n                                  'total_rooms', 'total_bedrooms', 'population',\n                                  'households', 'median_income',\n                                  'median_house_value'])])",
      "text/html": "<style>#sk-container-id-4 {color: black;background-color: white;}#sk-container-id-4 pre{padding: 0;}#sk-container-id-4 div.sk-toggleable {background-color: white;}#sk-container-id-4 label.sk-toggleable__label {cursor: pointer;display: block;width: 100%;margin-bottom: 0;padding: 0.3em;box-sizing: border-box;text-align: center;}#sk-container-id-4 label.sk-toggleable__label-arrow:before {content: \"▸\";float: left;margin-right: 0.25em;color: #696969;}#sk-container-id-4 label.sk-toggleable__label-arrow:hover:before {color: black;}#sk-container-id-4 div.sk-estimator:hover label.sk-toggleable__label-arrow:before {color: black;}#sk-container-id-4 div.sk-toggleable__content {max-height: 0;max-width: 0;overflow: hidden;text-align: left;background-color: #f0f8ff;}#sk-container-id-4 div.sk-toggleable__content pre {margin: 0.2em;color: black;border-radius: 0.25em;background-color: #f0f8ff;}#sk-container-id-4 input.sk-toggleable__control:checked~div.sk-toggleable__content {max-height: 200px;max-width: 100%;overflow: auto;}#sk-container-id-4 input.sk-toggleable__control:checked~label.sk-toggleable__label-arrow:before {content: \"▾\";}#sk-container-id-4 div.sk-estimator input.sk-toggleable__control:checked~label.sk-toggleable__label {background-color: #d4ebff;}#sk-container-id-4 div.sk-label input.sk-toggleable__control:checked~label.sk-toggleable__label {background-color: #d4ebff;}#sk-container-id-4 input.sk-hidden--visually {border: 0;clip: rect(1px 1px 1px 1px);clip: rect(1px, 1px, 1px, 1px);height: 1px;margin: -1px;overflow: hidden;padding: 0;position: absolute;width: 1px;}#sk-container-id-4 div.sk-estimator {font-family: monospace;background-color: #f0f8ff;border: 1px dotted black;border-radius: 0.25em;box-sizing: border-box;margin-bottom: 0.5em;}#sk-container-id-4 div.sk-estimator:hover {background-color: #d4ebff;}#sk-container-id-4 div.sk-parallel-item::after {content: \"\";width: 100%;border-bottom: 1px solid gray;flex-grow: 1;}#sk-container-id-4 div.sk-label:hover label.sk-toggleable__label {background-color: #d4ebff;}#sk-container-id-4 div.sk-serial::before {content: \"\";position: absolute;border-left: 1px solid gray;box-sizing: border-box;top: 0;bottom: 0;left: 50%;z-index: 0;}#sk-container-id-4 div.sk-serial {display: flex;flex-direction: column;align-items: center;background-color: white;padding-right: 0.2em;padding-left: 0.2em;position: relative;}#sk-container-id-4 div.sk-item {position: relative;z-index: 1;}#sk-container-id-4 div.sk-parallel {display: flex;align-items: stretch;justify-content: center;background-color: white;position: relative;}#sk-container-id-4 div.sk-item::before, #sk-container-id-4 div.sk-parallel-item::before {content: \"\";position: absolute;border-left: 1px solid gray;box-sizing: border-box;top: 0;bottom: 0;left: 50%;z-index: -1;}#sk-container-id-4 div.sk-parallel-item {display: flex;flex-direction: column;z-index: 1;position: relative;background-color: white;}#sk-container-id-4 div.sk-parallel-item:first-child::after {align-self: flex-end;width: 50%;}#sk-container-id-4 div.sk-parallel-item:last-child::after {align-self: flex-start;width: 50%;}#sk-container-id-4 div.sk-parallel-item:only-child::after {width: 0;}#sk-container-id-4 div.sk-dashed-wrapped {border: 1px dashed gray;margin: 0 0.4em 0.5em 0.4em;box-sizing: border-box;padding-bottom: 0.4em;background-color: white;}#sk-container-id-4 div.sk-label label {font-family: monospace;font-weight: bold;display: inline-block;line-height: 1.2em;}#sk-container-id-4 div.sk-label-container {text-align: center;}#sk-container-id-4 div.sk-container {/* jupyter's `normalize.less` sets `[hidden] { display: none; }` but bootstrap.min.css set `[hidden] { display: none !important; }` so we also need the `!important` here to be able to override the default hidden behavior on the sphinx rendered scikit-learn.org. See: https://github.com/scikit-learn/scikit-learn/issues/21755 */display: inline-block !important;position: relative;}#sk-container-id-4 div.sk-text-repr-fallback {display: none;}</style><div id=\"sk-container-id-4\" class=\"sk-top-container\"><div class=\"sk-text-repr-fallback\"><pre>ColumnTransformer(transformers=[(&#x27;scaler&#x27;, MinMaxScaler(),\n                                 [&#x27;longitude&#x27;, &#x27;latitude&#x27;, &#x27;housing_median_age&#x27;,\n                                  &#x27;total_rooms&#x27;, &#x27;total_bedrooms&#x27;, &#x27;population&#x27;,\n                                  &#x27;households&#x27;, &#x27;median_income&#x27;,\n                                  &#x27;median_house_value&#x27;]),\n                                (&#x27;impute&#x27;, SimpleImputer(strategy=&#x27;median&#x27;),\n                                 [&#x27;longitude&#x27;, &#x27;latitude&#x27;, &#x27;housing_median_age&#x27;,\n                                  &#x27;total_rooms&#x27;, &#x27;total_bedrooms&#x27;, &#x27;population&#x27;,\n                                  &#x27;households&#x27;, &#x27;median_income&#x27;,\n                                  &#x27;median_house_value&#x27;]),\n                                (&#x27;pca&#x27;, PCA(n_components=0.8),\n                                 [&#x27;longitude&#x27;, &#x27;latitude&#x27;, &#x27;housing_median_age&#x27;,\n                                  &#x27;total_rooms&#x27;, &#x27;total_bedrooms&#x27;, &#x27;population&#x27;,\n                                  &#x27;households&#x27;, &#x27;median_income&#x27;,\n                                  &#x27;median_house_value&#x27;])])</pre><b>In a Jupyter environment, please rerun this cell to show the HTML representation or trust the notebook. <br />On GitHub, the HTML representation is unable to render, please try loading this page with nbviewer.org.</b></div><div class=\"sk-container\" hidden><div class=\"sk-item sk-dashed-wrapped\"><div class=\"sk-label-container\"><div class=\"sk-label sk-toggleable\"><input class=\"sk-toggleable__control sk-hidden--visually\" id=\"sk-estimator-id-10\" type=\"checkbox\" ><label for=\"sk-estimator-id-10\" class=\"sk-toggleable__label sk-toggleable__label-arrow\">ColumnTransformer</label><div class=\"sk-toggleable__content\"><pre>ColumnTransformer(transformers=[(&#x27;scaler&#x27;, MinMaxScaler(),\n                                 [&#x27;longitude&#x27;, &#x27;latitude&#x27;, &#x27;housing_median_age&#x27;,\n                                  &#x27;total_rooms&#x27;, &#x27;total_bedrooms&#x27;, &#x27;population&#x27;,\n                                  &#x27;households&#x27;, &#x27;median_income&#x27;,\n                                  &#x27;median_house_value&#x27;]),\n                                (&#x27;impute&#x27;, SimpleImputer(strategy=&#x27;median&#x27;),\n                                 [&#x27;longitude&#x27;, &#x27;latitude&#x27;, &#x27;housing_median_age&#x27;,\n                                  &#x27;total_rooms&#x27;, &#x27;total_bedrooms&#x27;, &#x27;population&#x27;,\n                                  &#x27;households&#x27;, &#x27;median_income&#x27;,\n                                  &#x27;median_house_value&#x27;]),\n                                (&#x27;pca&#x27;, PCA(n_components=0.8),\n                                 [&#x27;longitude&#x27;, &#x27;latitude&#x27;, &#x27;housing_median_age&#x27;,\n                                  &#x27;total_rooms&#x27;, &#x27;total_bedrooms&#x27;, &#x27;population&#x27;,\n                                  &#x27;households&#x27;, &#x27;median_income&#x27;,\n                                  &#x27;median_house_value&#x27;])])</pre></div></div></div><div class=\"sk-parallel\"><div class=\"sk-parallel-item\"><div class=\"sk-item\"><div class=\"sk-label-container\"><div class=\"sk-label sk-toggleable\"><input class=\"sk-toggleable__control sk-hidden--visually\" id=\"sk-estimator-id-11\" type=\"checkbox\" ><label for=\"sk-estimator-id-11\" class=\"sk-toggleable__label sk-toggleable__label-arrow\">scaler</label><div class=\"sk-toggleable__content\"><pre>[&#x27;longitude&#x27;, &#x27;latitude&#x27;, &#x27;housing_median_age&#x27;, &#x27;total_rooms&#x27;, &#x27;total_bedrooms&#x27;, &#x27;population&#x27;, &#x27;households&#x27;, &#x27;median_income&#x27;, &#x27;median_house_value&#x27;]</pre></div></div></div><div class=\"sk-serial\"><div class=\"sk-item\"><div class=\"sk-estimator sk-toggleable\"><input class=\"sk-toggleable__control sk-hidden--visually\" id=\"sk-estimator-id-12\" type=\"checkbox\" ><label for=\"sk-estimator-id-12\" class=\"sk-toggleable__label sk-toggleable__label-arrow\">MinMaxScaler</label><div class=\"sk-toggleable__content\"><pre>MinMaxScaler()</pre></div></div></div></div></div></div><div class=\"sk-parallel-item\"><div class=\"sk-item\"><div class=\"sk-label-container\"><div class=\"sk-label sk-toggleable\"><input class=\"sk-toggleable__control sk-hidden--visually\" id=\"sk-estimator-id-13\" type=\"checkbox\" ><label for=\"sk-estimator-id-13\" class=\"sk-toggleable__label sk-toggleable__label-arrow\">impute</label><div class=\"sk-toggleable__content\"><pre>[&#x27;longitude&#x27;, &#x27;latitude&#x27;, &#x27;housing_median_age&#x27;, &#x27;total_rooms&#x27;, &#x27;total_bedrooms&#x27;, &#x27;population&#x27;, &#x27;households&#x27;, &#x27;median_income&#x27;, &#x27;median_house_value&#x27;]</pre></div></div></div><div class=\"sk-serial\"><div class=\"sk-item\"><div class=\"sk-estimator sk-toggleable\"><input class=\"sk-toggleable__control sk-hidden--visually\" id=\"sk-estimator-id-14\" type=\"checkbox\" ><label for=\"sk-estimator-id-14\" class=\"sk-toggleable__label sk-toggleable__label-arrow\">SimpleImputer</label><div class=\"sk-toggleable__content\"><pre>SimpleImputer(strategy=&#x27;median&#x27;)</pre></div></div></div></div></div></div><div class=\"sk-parallel-item\"><div class=\"sk-item\"><div class=\"sk-label-container\"><div class=\"sk-label sk-toggleable\"><input class=\"sk-toggleable__control sk-hidden--visually\" id=\"sk-estimator-id-15\" type=\"checkbox\" ><label for=\"sk-estimator-id-15\" class=\"sk-toggleable__label sk-toggleable__label-arrow\">pca</label><div class=\"sk-toggleable__content\"><pre>[&#x27;longitude&#x27;, &#x27;latitude&#x27;, &#x27;housing_median_age&#x27;, &#x27;total_rooms&#x27;, &#x27;total_bedrooms&#x27;, &#x27;population&#x27;, &#x27;households&#x27;, &#x27;median_income&#x27;, &#x27;median_house_value&#x27;]</pre></div></div></div><div class=\"sk-serial\"><div class=\"sk-item\"><div class=\"sk-estimator sk-toggleable\"><input class=\"sk-toggleable__control sk-hidden--visually\" id=\"sk-estimator-id-16\" type=\"checkbox\" ><label for=\"sk-estimator-id-16\" class=\"sk-toggleable__label sk-toggleable__label-arrow\">PCA</label><div class=\"sk-toggleable__content\"><pre>PCA(n_components=0.8)</pre></div></div></div></div></div></div></div></div></div></div>"
     },
     "execution_count": 58,
     "metadata": {},
     "output_type": "execute_result"
    }
   ],
   "source": [
    "pal.transformation_history[-1].get('pipeline')"
   ],
   "metadata": {
    "collapsed": false
   }
  },
  {
   "cell_type": "code",
   "execution_count": 59,
   "outputs": [],
   "source": [
    "pal.restore()"
   ],
   "metadata": {
    "collapsed": false
   }
  },
  {
   "cell_type": "code",
   "execution_count": 60,
   "outputs": [
    {
     "data": {
      "text/plain": "2"
     },
     "execution_count": 60,
     "metadata": {},
     "output_type": "execute_result"
    }
   ],
   "source": [
    "pal.current_version"
   ],
   "metadata": {
    "collapsed": false
   }
  },
  {
   "cell_type": "code",
   "execution_count": 61,
   "outputs": [
    {
     "data": {
      "text/plain": "ColumnTransformer(transformers=[('scaler', MinMaxScaler(),\n                                 ['longitude', 'latitude', 'housing_median_age',\n                                  'total_rooms', 'total_bedrooms', 'population',\n                                  'households', 'median_income',\n                                  'median_house_value']),\n                                ('impute', SimpleImputer(strategy='median'),\n                                 ['longitude', 'latitude', 'housing_median_age',\n                                  'total_rooms', 'total_bedrooms', 'population',\n                                  'households', 'median_income',\n                                  'median_house_value'])])",
      "text/html": "<style>#sk-container-id-5 {color: black;background-color: white;}#sk-container-id-5 pre{padding: 0;}#sk-container-id-5 div.sk-toggleable {background-color: white;}#sk-container-id-5 label.sk-toggleable__label {cursor: pointer;display: block;width: 100%;margin-bottom: 0;padding: 0.3em;box-sizing: border-box;text-align: center;}#sk-container-id-5 label.sk-toggleable__label-arrow:before {content: \"▸\";float: left;margin-right: 0.25em;color: #696969;}#sk-container-id-5 label.sk-toggleable__label-arrow:hover:before {color: black;}#sk-container-id-5 div.sk-estimator:hover label.sk-toggleable__label-arrow:before {color: black;}#sk-container-id-5 div.sk-toggleable__content {max-height: 0;max-width: 0;overflow: hidden;text-align: left;background-color: #f0f8ff;}#sk-container-id-5 div.sk-toggleable__content pre {margin: 0.2em;color: black;border-radius: 0.25em;background-color: #f0f8ff;}#sk-container-id-5 input.sk-toggleable__control:checked~div.sk-toggleable__content {max-height: 200px;max-width: 100%;overflow: auto;}#sk-container-id-5 input.sk-toggleable__control:checked~label.sk-toggleable__label-arrow:before {content: \"▾\";}#sk-container-id-5 div.sk-estimator input.sk-toggleable__control:checked~label.sk-toggleable__label {background-color: #d4ebff;}#sk-container-id-5 div.sk-label input.sk-toggleable__control:checked~label.sk-toggleable__label {background-color: #d4ebff;}#sk-container-id-5 input.sk-hidden--visually {border: 0;clip: rect(1px 1px 1px 1px);clip: rect(1px, 1px, 1px, 1px);height: 1px;margin: -1px;overflow: hidden;padding: 0;position: absolute;width: 1px;}#sk-container-id-5 div.sk-estimator {font-family: monospace;background-color: #f0f8ff;border: 1px dotted black;border-radius: 0.25em;box-sizing: border-box;margin-bottom: 0.5em;}#sk-container-id-5 div.sk-estimator:hover {background-color: #d4ebff;}#sk-container-id-5 div.sk-parallel-item::after {content: \"\";width: 100%;border-bottom: 1px solid gray;flex-grow: 1;}#sk-container-id-5 div.sk-label:hover label.sk-toggleable__label {background-color: #d4ebff;}#sk-container-id-5 div.sk-serial::before {content: \"\";position: absolute;border-left: 1px solid gray;box-sizing: border-box;top: 0;bottom: 0;left: 50%;z-index: 0;}#sk-container-id-5 div.sk-serial {display: flex;flex-direction: column;align-items: center;background-color: white;padding-right: 0.2em;padding-left: 0.2em;position: relative;}#sk-container-id-5 div.sk-item {position: relative;z-index: 1;}#sk-container-id-5 div.sk-parallel {display: flex;align-items: stretch;justify-content: center;background-color: white;position: relative;}#sk-container-id-5 div.sk-item::before, #sk-container-id-5 div.sk-parallel-item::before {content: \"\";position: absolute;border-left: 1px solid gray;box-sizing: border-box;top: 0;bottom: 0;left: 50%;z-index: -1;}#sk-container-id-5 div.sk-parallel-item {display: flex;flex-direction: column;z-index: 1;position: relative;background-color: white;}#sk-container-id-5 div.sk-parallel-item:first-child::after {align-self: flex-end;width: 50%;}#sk-container-id-5 div.sk-parallel-item:last-child::after {align-self: flex-start;width: 50%;}#sk-container-id-5 div.sk-parallel-item:only-child::after {width: 0;}#sk-container-id-5 div.sk-dashed-wrapped {border: 1px dashed gray;margin: 0 0.4em 0.5em 0.4em;box-sizing: border-box;padding-bottom: 0.4em;background-color: white;}#sk-container-id-5 div.sk-label label {font-family: monospace;font-weight: bold;display: inline-block;line-height: 1.2em;}#sk-container-id-5 div.sk-label-container {text-align: center;}#sk-container-id-5 div.sk-container {/* jupyter's `normalize.less` sets `[hidden] { display: none; }` but bootstrap.min.css set `[hidden] { display: none !important; }` so we also need the `!important` here to be able to override the default hidden behavior on the sphinx rendered scikit-learn.org. See: https://github.com/scikit-learn/scikit-learn/issues/21755 */display: inline-block !important;position: relative;}#sk-container-id-5 div.sk-text-repr-fallback {display: none;}</style><div id=\"sk-container-id-5\" class=\"sk-top-container\"><div class=\"sk-text-repr-fallback\"><pre>ColumnTransformer(transformers=[(&#x27;scaler&#x27;, MinMaxScaler(),\n                                 [&#x27;longitude&#x27;, &#x27;latitude&#x27;, &#x27;housing_median_age&#x27;,\n                                  &#x27;total_rooms&#x27;, &#x27;total_bedrooms&#x27;, &#x27;population&#x27;,\n                                  &#x27;households&#x27;, &#x27;median_income&#x27;,\n                                  &#x27;median_house_value&#x27;]),\n                                (&#x27;impute&#x27;, SimpleImputer(strategy=&#x27;median&#x27;),\n                                 [&#x27;longitude&#x27;, &#x27;latitude&#x27;, &#x27;housing_median_age&#x27;,\n                                  &#x27;total_rooms&#x27;, &#x27;total_bedrooms&#x27;, &#x27;population&#x27;,\n                                  &#x27;households&#x27;, &#x27;median_income&#x27;,\n                                  &#x27;median_house_value&#x27;])])</pre><b>In a Jupyter environment, please rerun this cell to show the HTML representation or trust the notebook. <br />On GitHub, the HTML representation is unable to render, please try loading this page with nbviewer.org.</b></div><div class=\"sk-container\" hidden><div class=\"sk-item sk-dashed-wrapped\"><div class=\"sk-label-container\"><div class=\"sk-label sk-toggleable\"><input class=\"sk-toggleable__control sk-hidden--visually\" id=\"sk-estimator-id-17\" type=\"checkbox\" ><label for=\"sk-estimator-id-17\" class=\"sk-toggleable__label sk-toggleable__label-arrow\">ColumnTransformer</label><div class=\"sk-toggleable__content\"><pre>ColumnTransformer(transformers=[(&#x27;scaler&#x27;, MinMaxScaler(),\n                                 [&#x27;longitude&#x27;, &#x27;latitude&#x27;, &#x27;housing_median_age&#x27;,\n                                  &#x27;total_rooms&#x27;, &#x27;total_bedrooms&#x27;, &#x27;population&#x27;,\n                                  &#x27;households&#x27;, &#x27;median_income&#x27;,\n                                  &#x27;median_house_value&#x27;]),\n                                (&#x27;impute&#x27;, SimpleImputer(strategy=&#x27;median&#x27;),\n                                 [&#x27;longitude&#x27;, &#x27;latitude&#x27;, &#x27;housing_median_age&#x27;,\n                                  &#x27;total_rooms&#x27;, &#x27;total_bedrooms&#x27;, &#x27;population&#x27;,\n                                  &#x27;households&#x27;, &#x27;median_income&#x27;,\n                                  &#x27;median_house_value&#x27;])])</pre></div></div></div><div class=\"sk-parallel\"><div class=\"sk-parallel-item\"><div class=\"sk-item\"><div class=\"sk-label-container\"><div class=\"sk-label sk-toggleable\"><input class=\"sk-toggleable__control sk-hidden--visually\" id=\"sk-estimator-id-18\" type=\"checkbox\" ><label for=\"sk-estimator-id-18\" class=\"sk-toggleable__label sk-toggleable__label-arrow\">scaler</label><div class=\"sk-toggleable__content\"><pre>[&#x27;longitude&#x27;, &#x27;latitude&#x27;, &#x27;housing_median_age&#x27;, &#x27;total_rooms&#x27;, &#x27;total_bedrooms&#x27;, &#x27;population&#x27;, &#x27;households&#x27;, &#x27;median_income&#x27;, &#x27;median_house_value&#x27;]</pre></div></div></div><div class=\"sk-serial\"><div class=\"sk-item\"><div class=\"sk-estimator sk-toggleable\"><input class=\"sk-toggleable__control sk-hidden--visually\" id=\"sk-estimator-id-19\" type=\"checkbox\" ><label for=\"sk-estimator-id-19\" class=\"sk-toggleable__label sk-toggleable__label-arrow\">MinMaxScaler</label><div class=\"sk-toggleable__content\"><pre>MinMaxScaler()</pre></div></div></div></div></div></div><div class=\"sk-parallel-item\"><div class=\"sk-item\"><div class=\"sk-label-container\"><div class=\"sk-label sk-toggleable\"><input class=\"sk-toggleable__control sk-hidden--visually\" id=\"sk-estimator-id-20\" type=\"checkbox\" ><label for=\"sk-estimator-id-20\" class=\"sk-toggleable__label sk-toggleable__label-arrow\">impute</label><div class=\"sk-toggleable__content\"><pre>[&#x27;longitude&#x27;, &#x27;latitude&#x27;, &#x27;housing_median_age&#x27;, &#x27;total_rooms&#x27;, &#x27;total_bedrooms&#x27;, &#x27;population&#x27;, &#x27;households&#x27;, &#x27;median_income&#x27;, &#x27;median_house_value&#x27;]</pre></div></div></div><div class=\"sk-serial\"><div class=\"sk-item\"><div class=\"sk-estimator sk-toggleable\"><input class=\"sk-toggleable__control sk-hidden--visually\" id=\"sk-estimator-id-21\" type=\"checkbox\" ><label for=\"sk-estimator-id-21\" class=\"sk-toggleable__label sk-toggleable__label-arrow\">SimpleImputer</label><div class=\"sk-toggleable__content\"><pre>SimpleImputer(strategy=&#x27;median&#x27;)</pre></div></div></div></div></div></div></div></div></div></div>"
     },
     "execution_count": 61,
     "metadata": {},
     "output_type": "execute_result"
    }
   ],
   "source": [
    "pal.transformation_history[-1].get('pipeline')"
   ],
   "metadata": {
    "collapsed": false
   }
  },
  {
   "cell_type": "code",
   "execution_count": 64,
   "outputs": [
    {
     "data": {
      "text/plain": "Empty DataFrame\nColumns: []\nIndex: [14196, 8267, 17445, 14265, 2271, 17848, 6252, 9389, 6113, 6061, 16030, 8364, 9448, 17529, 5865, 7615, 9707, 16332, 3449, 5199, 13496, 18056, 9529, 5128, 18796, 413, 1175, 4387, 11628, 9787, 15557, 9132, 5514, 6504, 15028, 7816, 18758, 7369, 7898, 10823, 5252, 6442, 11934, 5549, 11568, 15167, 12536, 7779, 10711, 6624, 4420, 1413, 1130, 15026, 4707, 10537, 1621, 7592, 4731, 14435, 14301, 6626, 3298, 19807, 16993, 5736, 10855, 5020, 8239, 11982, 17189, 8126, 14128, 17777, 12914, 16257, 11135, 13987, 7711, 18591, 6529, 483, 3846, 12826, 1315, 7222, 14016, 4226, 9279, 1576, 11301, 16519, 16394, 5290, 10353, 11471, 11886, 1989, 16457, 8063, ...]\n\n[16512 rows x 0 columns]",
      "text/html": "<div>\n<style scoped>\n    .dataframe tbody tr th:only-of-type {\n        vertical-align: middle;\n    }\n\n    .dataframe tbody tr th {\n        vertical-align: top;\n    }\n\n    .dataframe thead th {\n        text-align: right;\n    }\n</style>\n<table border=\"1\" class=\"dataframe\">\n  <thead>\n    <tr style=\"text-align: right;\">\n      <th></th>\n    </tr>\n  </thead>\n  <tbody>\n    <tr>\n      <th>14196</th>\n    </tr>\n    <tr>\n      <th>8267</th>\n    </tr>\n    <tr>\n      <th>17445</th>\n    </tr>\n    <tr>\n      <th>14265</th>\n    </tr>\n    <tr>\n      <th>2271</th>\n    </tr>\n    <tr>\n      <th>...</th>\n    </tr>\n    <tr>\n      <th>11284</th>\n    </tr>\n    <tr>\n      <th>11964</th>\n    </tr>\n    <tr>\n      <th>5390</th>\n    </tr>\n    <tr>\n      <th>860</th>\n    </tr>\n    <tr>\n      <th>15795</th>\n    </tr>\n  </tbody>\n</table>\n<p>16512 rows × 0 columns</p>\n</div>"
     },
     "execution_count": 64,
     "metadata": {},
     "output_type": "execute_result"
    }
   ],
   "source": [
    "pal.encode_order()"
   ],
   "metadata": {
    "collapsed": false
   }
  },
  {
   "cell_type": "code",
   "execution_count": 65,
   "outputs": [
    {
     "name": "stderr",
     "output_type": "stream",
     "text": [
      "C:\\Users\\JesperFrederiksen\\PycharmProjects\\ML-code\\venv\\Lib\\site-packages\\sklearn\\cluster\\_kmeans.py:870: FutureWarning: The default value of `n_init` will change from 10 to 'auto' in 1.4. Set the value of `n_init` explicitly to suppress the warning\n",
      "  warnings.warn(\n",
      "C:\\Users\\JesperFrederiksen\\PycharmProjects\\ML-code\\venv\\Lib\\site-packages\\sklearn\\cluster\\_kmeans.py:870: FutureWarning: The default value of `n_init` will change from 10 to 'auto' in 1.4. Set the value of `n_init` explicitly to suppress the warning\n",
      "  warnings.warn(\n",
      "C:\\Users\\JesperFrederiksen\\PycharmProjects\\ML-code\\venv\\Lib\\site-packages\\sklearn\\cluster\\_kmeans.py:870: FutureWarning: The default value of `n_init` will change from 10 to 'auto' in 1.4. Set the value of `n_init` explicitly to suppress the warning\n",
      "  warnings.warn(\n",
      "C:\\Users\\JesperFrederiksen\\PycharmProjects\\ML-code\\venv\\Lib\\site-packages\\sklearn\\cluster\\_kmeans.py:870: FutureWarning: The default value of `n_init` will change from 10 to 'auto' in 1.4. Set the value of `n_init` explicitly to suppress the warning\n",
      "  warnings.warn(\n",
      "C:\\Users\\JesperFrederiksen\\PycharmProjects\\ML-code\\venv\\Lib\\site-packages\\sklearn\\cluster\\_kmeans.py:870: FutureWarning: The default value of `n_init` will change from 10 to 'auto' in 1.4. Set the value of `n_init` explicitly to suppress the warning\n",
      "  warnings.warn(\n",
      "C:\\Users\\JesperFrederiksen\\PycharmProjects\\ML-code\\venv\\Lib\\site-packages\\sklearn\\cluster\\_kmeans.py:870: FutureWarning: The default value of `n_init` will change from 10 to 'auto' in 1.4. Set the value of `n_init` explicitly to suppress the warning\n",
      "  warnings.warn(\n",
      "C:\\Users\\JesperFrederiksen\\PycharmProjects\\ML-code\\venv\\Lib\\site-packages\\sklearn\\cluster\\_kmeans.py:870: FutureWarning: The default value of `n_init` will change from 10 to 'auto' in 1.4. Set the value of `n_init` explicitly to suppress the warning\n",
      "  warnings.warn(\n",
      "C:\\Users\\JesperFrederiksen\\PycharmProjects\\ML-code\\venv\\Lib\\site-packages\\sklearn\\cluster\\_kmeans.py:870: FutureWarning: The default value of `n_init` will change from 10 to 'auto' in 1.4. Set the value of `n_init` explicitly to suppress the warning\n",
      "  warnings.warn(\n",
      "C:\\Users\\JesperFrederiksen\\PycharmProjects\\ML-code\\venv\\Lib\\site-packages\\sklearn\\cluster\\_kmeans.py:870: FutureWarning: The default value of `n_init` will change from 10 to 'auto' in 1.4. Set the value of `n_init` explicitly to suppress the warning\n",
      "  warnings.warn(\n",
      "C:\\Users\\JesperFrederiksen\\PycharmProjects\\ML-code\\venv\\Lib\\site-packages\\sklearn\\cluster\\_kmeans.py:870: FutureWarning: The default value of `n_init` will change from 10 to 'auto' in 1.4. Set the value of `n_init` explicitly to suppress the warning\n",
      "  warnings.warn(\n"
     ]
    },
    {
     "data": {
      "text/plain": "<Figure size 640x480 with 1 Axes>",
      "image/png": "[encoded data removed]"
     },
     "metadata": {},
     "output_type": "display_data"
    },
    {
     "name": "stdout",
     "output_type": "stream",
     "text": [
      "Best silhouette is obtained with k as:  2\n"
     ]
    },
    {
     "name": "stderr",
     "output_type": "stream",
     "text": [
      "C:\\Users\\JesperFrederiksen\\PycharmProjects\\ML-code\\venv\\Lib\\site-packages\\sklearn\\cluster\\_kmeans.py:870: FutureWarning: The default value of `n_init` will change from 10 to 'auto' in 1.4. Set the value of `n_init` explicitly to suppress the warning\n",
      "  warnings.warn(\n"
     ]
    },
    {
     "data": {
      "text/plain": "       longitude  latitude  housing_median_age  total_rooms  total_bedrooms  \\\n14196   0.729084  0.017021            0.627451     0.079455        0.097145   \n8267    0.616534  0.129787            0.941176     0.085966        0.121974   \n17445   0.385458  0.224468            0.058824     0.048197        0.051210   \n14265   0.721116  0.014894            0.686275     0.036090        0.056797   \n2271    0.453187  0.450000            0.823529     0.060532        0.066729   \n...          ...       ...                 ...          ...             ...   \n11284   0.636454  0.130851            0.666667     0.033776        0.031037   \n11964   0.689243  0.156383            0.627451     0.078386        0.088299   \n5390    0.594622  0.157447            0.686275     0.053385        0.088144   \n860     0.238048  0.535106            0.274510     0.090874        0.092489   \n15795   0.192231  0.555319            1.000000     0.107432        0.203911   \n\n       population  households  median_income  median_house_value  \\\n14196    0.064380    0.102286       0.190322            0.181445   \n8267     0.036744    0.124157       0.228452            0.756906   \n17445    0.025561    0.055090       0.252162            0.324949   \n14265    0.039659    0.058214       0.099488            0.161651   \n2271     0.024412    0.062325       0.210638            0.168043   \n...           ...         ...            ...                 ...   \n11284    0.018358    0.035520       0.404829            0.441650   \n11964    0.049048    0.073672       0.175867            0.170723   \n5390     0.049133    0.086499       0.167894            0.427011   \n860      0.049721    0.091761       0.359947            0.553608   \n15795    0.073320    0.204078       0.143143            0.639175   \n\n       ocean_proximity    Cluster  \n14196              4.0  Cluster 1  \n8267               4.0  Cluster 1  \n17445              4.0  Cluster 1  \n14265              4.0  Cluster 1  \n2271               1.0  Cluster 0  \n...                ...        ...  \n11284              0.0  Cluster 0  \n11964              1.0  Cluster 0  \n5390               0.0  Cluster 0  \n860                0.0  Cluster 0  \n15795              3.0  Cluster 1  \n\n[16512 rows x 11 columns]",
      "text/html": "<div>\n<style scoped>\n    .dataframe tbody tr th:only-of-type {\n        vertical-align: middle;\n    }\n\n    .dataframe tbody tr th {\n        vertical-align: top;\n    }\n\n    .dataframe thead th {\n        text-align: right;\n    }\n</style>\n<table border=\"1\" class=\"dataframe\">\n  <thead>\n    <tr style=\"text-align: right;\">\n      <th></th>\n      <th>longitude</th>\n      <th>latitude</th>\n      <th>housing_median_age</th>\n      <th>total_rooms</th>\n      <th>total_bedrooms</th>\n      <th>population</th>\n      <th>households</th>\n      <th>median_income</th>\n      <th>median_house_value</th>\n      <th>ocean_proximity</th>\n      <th>Cluster</th>\n    </tr>\n  </thead>\n  <tbody>\n    <tr>\n      <th>14196</th>\n      <td>0.729084</td>\n      <td>0.017021</td>\n      <td>0.627451</td>\n      <td>0.079455</td>\n      <td>0.097145</td>\n      <td>0.064380</td>\n      <td>0.102286</td>\n      <td>0.190322</td>\n      <td>0.181445</td>\n      <td>4.0</td>\n      <td>Cluster 1</td>\n    </tr>\n    <tr>\n      <th>8267</th>\n      <td>0.616534</td>\n      <td>0.129787</td>\n      <td>0.941176</td>\n      <td>0.085966</td>\n      <td>0.121974</td>\n      <td>0.036744</td>\n      <td>0.124157</td>\n      <td>0.228452</td>\n      <td>0.756906</td>\n      <td>4.0</td>\n      <td>Cluster 1</td>\n    </tr>\n    <tr>\n      <th>17445</th>\n      <td>0.385458</td>\n      <td>0.224468</td>\n      <td>0.058824</td>\n      <td>0.048197</td>\n      <td>0.051210</td>\n      <td>0.025561</td>\n      <td>0.055090</td>\n      <td>0.252162</td>\n      <td>0.324949</td>\n      <td>4.0</td>\n      <td>Cluster 1</td>\n    </tr>\n    <tr>\n      <th>14265</th>\n      <td>0.721116</td>\n      <td>0.014894</td>\n      <td>0.686275</td>\n      <td>0.036090</td>\n      <td>0.056797</td>\n      <td>0.039659</td>\n      <td>0.058214</td>\n      <td>0.099488</td>\n      <td>0.161651</td>\n      <td>4.0</td>\n      <td>Cluster 1</td>\n    </tr>\n    <tr>\n      <th>2271</th>\n      <td>0.453187</td>\n      <td>0.450000</td>\n      <td>0.823529</td>\n      <td>0.060532</td>\n      <td>0.066729</td>\n      <td>0.024412</td>\n      <td>0.062325</td>\n      <td>0.210638</td>\n      <td>0.168043</td>\n      <td>1.0</td>\n      <td>Cluster 0</td>\n    </tr>\n    <tr>\n      <th>...</th>\n      <td>...</td>\n      <td>...</td>\n      <td>...</td>\n      <td>...</td>\n      <td>...</td>\n      <td>...</td>\n      <td>...</td>\n      <td>...</td>\n      <td>...</td>\n      <td>...</td>\n      <td>...</td>\n    </tr>\n    <tr>\n      <th>11284</th>\n      <td>0.636454</td>\n      <td>0.130851</td>\n      <td>0.666667</td>\n      <td>0.033776</td>\n      <td>0.031037</td>\n      <td>0.018358</td>\n      <td>0.035520</td>\n      <td>0.404829</td>\n      <td>0.441650</td>\n      <td>0.0</td>\n      <td>Cluster 0</td>\n    </tr>\n    <tr>\n      <th>11964</th>\n      <td>0.689243</td>\n      <td>0.156383</td>\n      <td>0.627451</td>\n      <td>0.078386</td>\n      <td>0.088299</td>\n      <td>0.049048</td>\n      <td>0.073672</td>\n      <td>0.175867</td>\n      <td>0.170723</td>\n      <td>1.0</td>\n      <td>Cluster 0</td>\n    </tr>\n    <tr>\n      <th>5390</th>\n      <td>0.594622</td>\n      <td>0.157447</td>\n      <td>0.686275</td>\n      <td>0.053385</td>\n      <td>0.088144</td>\n      <td>0.049133</td>\n      <td>0.086499</td>\n      <td>0.167894</td>\n      <td>0.427011</td>\n      <td>0.0</td>\n      <td>Cluster 0</td>\n    </tr>\n    <tr>\n      <th>860</th>\n      <td>0.238048</td>\n      <td>0.535106</td>\n      <td>0.274510</td>\n      <td>0.090874</td>\n      <td>0.092489</td>\n      <td>0.049721</td>\n      <td>0.091761</td>\n      <td>0.359947</td>\n      <td>0.553608</td>\n      <td>0.0</td>\n      <td>Cluster 0</td>\n    </tr>\n    <tr>\n      <th>15795</th>\n      <td>0.192231</td>\n      <td>0.555319</td>\n      <td>1.000000</td>\n      <td>0.107432</td>\n      <td>0.203911</td>\n      <td>0.073320</td>\n      <td>0.204078</td>\n      <td>0.143143</td>\n      <td>0.639175</td>\n      <td>3.0</td>\n      <td>Cluster 1</td>\n    </tr>\n  </tbody>\n</table>\n<p>16512 rows × 11 columns</p>\n</div>"
     },
     "execution_count": 65,
     "metadata": {},
     "output_type": "execute_result"
    }
   ],
   "source": [
    "pal.cluster()"
   ],
   "metadata": {
    "collapsed": false
   }
  },
  {
   "cell_type": "code",
   "execution_count": 66,
   "outputs": [
    {
     "data": {
      "text/plain": "       Cluster\n14196      1.0\n8267       1.0\n17445      1.0\n14265      1.0\n2271       0.0\n...        ...\n11284      0.0\n11964      0.0\n5390       0.0\n860        0.0\n15795      1.0\n\n[16512 rows x 1 columns]",
      "text/html": "<div>\n<style scoped>\n    .dataframe tbody tr th:only-of-type {\n        vertical-align: middle;\n    }\n\n    .dataframe tbody tr th {\n        vertical-align: top;\n    }\n\n    .dataframe thead th {\n        text-align: right;\n    }\n</style>\n<table border=\"1\" class=\"dataframe\">\n  <thead>\n    <tr style=\"text-align: right;\">\n      <th></th>\n      <th>Cluster</th>\n    </tr>\n  </thead>\n  <tbody>\n    <tr>\n      <th>14196</th>\n      <td>1.0</td>\n    </tr>\n    <tr>\n      <th>8267</th>\n      <td>1.0</td>\n    </tr>\n    <tr>\n      <th>17445</th>\n      <td>1.0</td>\n    </tr>\n    <tr>\n      <th>14265</th>\n      <td>1.0</td>\n    </tr>\n    <tr>\n      <th>2271</th>\n      <td>0.0</td>\n    </tr>\n    <tr>\n      <th>...</th>\n      <td>...</td>\n    </tr>\n    <tr>\n      <th>11284</th>\n      <td>0.0</td>\n    </tr>\n    <tr>\n      <th>11964</th>\n      <td>0.0</td>\n    </tr>\n    <tr>\n      <th>5390</th>\n      <td>0.0</td>\n    </tr>\n    <tr>\n      <th>860</th>\n      <td>0.0</td>\n    </tr>\n    <tr>\n      <th>15795</th>\n      <td>1.0</td>\n    </tr>\n  </tbody>\n</table>\n<p>16512 rows × 1 columns</p>\n</div>"
     },
     "execution_count": 66,
     "metadata": {},
     "output_type": "execute_result"
    }
   ],
   "source": [
    "pal.encode_order(include_features=['Cluster'])"
   ],
   "metadata": {
    "collapsed": false
   }
  },
  {
   "cell_type": "code",
   "execution_count": 67,
   "outputs": [
    {
     "data": {
      "text/plain": "       longitude  latitude  housing_median_age  total_rooms  total_bedrooms  \\\n14196   0.729084  0.017021            0.627451     0.079455        0.097145   \n8267    0.616534  0.129787            0.941176     0.085966        0.121974   \n17445   0.385458  0.224468            0.058824     0.048197        0.051210   \n14265   0.721116  0.014894            0.686275     0.036090        0.056797   \n2271    0.453187  0.450000            0.823529     0.060532        0.066729   \n...          ...       ...                 ...          ...             ...   \n11284   0.636454  0.130851            0.666667     0.033776        0.031037   \n11964   0.689243  0.156383            0.627451     0.078386        0.088299   \n5390    0.594622  0.157447            0.686275     0.053385        0.088144   \n860     0.238048  0.535106            0.274510     0.090874        0.092489   \n15795   0.192231  0.555319            1.000000     0.107432        0.203911   \n\n       population  households  median_income  median_house_value  \\\n14196    0.064380    0.102286       0.190322            0.181445   \n8267     0.036744    0.124157       0.228452            0.756906   \n17445    0.025561    0.055090       0.252162            0.324949   \n14265    0.039659    0.058214       0.099488            0.161651   \n2271     0.024412    0.062325       0.210638            0.168043   \n...           ...         ...            ...                 ...   \n11284    0.018358    0.035520       0.404829            0.441650   \n11964    0.049048    0.073672       0.175867            0.170723   \n5390     0.049133    0.086499       0.167894            0.427011   \n860      0.049721    0.091761       0.359947            0.553608   \n15795    0.073320    0.204078       0.143143            0.639175   \n\n       ocean_proximity  Cluster  \n14196              4.0      1.0  \n8267               4.0      1.0  \n17445              4.0      1.0  \n14265              4.0      1.0  \n2271               1.0      0.0  \n...                ...      ...  \n11284              0.0      0.0  \n11964              1.0      0.0  \n5390               0.0      0.0  \n860                0.0      0.0  \n15795              3.0      1.0  \n\n[16512 rows x 11 columns]",
      "text/html": "<div>\n<style scoped>\n    .dataframe tbody tr th:only-of-type {\n        vertical-align: middle;\n    }\n\n    .dataframe tbody tr th {\n        vertical-align: top;\n    }\n\n    .dataframe thead th {\n        text-align: right;\n    }\n</style>\n<table border=\"1\" class=\"dataframe\">\n  <thead>\n    <tr style=\"text-align: right;\">\n      <th></th>\n      <th>longitude</th>\n      <th>latitude</th>\n      <th>housing_median_age</th>\n      <th>total_rooms</th>\n      <th>total_bedrooms</th>\n      <th>population</th>\n      <th>households</th>\n      <th>median_income</th>\n      <th>median_house_value</th>\n      <th>ocean_proximity</th>\n      <th>Cluster</th>\n    </tr>\n  </thead>\n  <tbody>\n    <tr>\n      <th>14196</th>\n      <td>0.729084</td>\n      <td>0.017021</td>\n      <td>0.627451</td>\n      <td>0.079455</td>\n      <td>0.097145</td>\n      <td>0.064380</td>\n      <td>0.102286</td>\n      <td>0.190322</td>\n      <td>0.181445</td>\n      <td>4.0</td>\n      <td>1.0</td>\n    </tr>\n    <tr>\n      <th>8267</th>\n      <td>0.616534</td>\n      <td>0.129787</td>\n      <td>0.941176</td>\n      <td>0.085966</td>\n      <td>0.121974</td>\n      <td>0.036744</td>\n      <td>0.124157</td>\n      <td>0.228452</td>\n      <td>0.756906</td>\n      <td>4.0</td>\n      <td>1.0</td>\n    </tr>\n    <tr>\n      <th>17445</th>\n      <td>0.385458</td>\n      <td>0.224468</td>\n      <td>0.058824</td>\n      <td>0.048197</td>\n      <td>0.051210</td>\n      <td>0.025561</td>\n      <td>0.055090</td>\n      <td>0.252162</td>\n      <td>0.324949</td>\n      <td>4.0</td>\n      <td>1.0</td>\n    </tr>\n    <tr>\n      <th>14265</th>\n      <td>0.721116</td>\n      <td>0.014894</td>\n      <td>0.686275</td>\n      <td>0.036090</td>\n      <td>0.056797</td>\n      <td>0.039659</td>\n      <td>0.058214</td>\n      <td>0.099488</td>\n      <td>0.161651</td>\n      <td>4.0</td>\n      <td>1.0</td>\n    </tr>\n    <tr>\n      <th>2271</th>\n      <td>0.453187</td>\n      <td>0.450000</td>\n      <td>0.823529</td>\n      <td>0.060532</td>\n      <td>0.066729</td>\n      <td>0.024412</td>\n      <td>0.062325</td>\n      <td>0.210638</td>\n      <td>0.168043</td>\n      <td>1.0</td>\n      <td>0.0</td>\n    </tr>\n    <tr>\n      <th>...</th>\n      <td>...</td>\n      <td>...</td>\n      <td>...</td>\n      <td>...</td>\n      <td>...</td>\n      <td>...</td>\n      <td>...</td>\n      <td>...</td>\n      <td>...</td>\n      <td>...</td>\n      <td>...</td>\n    </tr>\n    <tr>\n      <th>11284</th>\n      <td>0.636454</td>\n      <td>0.130851</td>\n      <td>0.666667</td>\n      <td>0.033776</td>\n      <td>0.031037</td>\n      <td>0.018358</td>\n      <td>0.035520</td>\n      <td>0.404829</td>\n      <td>0.441650</td>\n      <td>0.0</td>\n      <td>0.0</td>\n    </tr>\n    <tr>\n      <th>11964</th>\n      <td>0.689243</td>\n      <td>0.156383</td>\n      <td>0.627451</td>\n      <td>0.078386</td>\n      <td>0.088299</td>\n      <td>0.049048</td>\n      <td>0.073672</td>\n      <td>0.175867</td>\n      <td>0.170723</td>\n      <td>1.0</td>\n      <td>0.0</td>\n    </tr>\n    <tr>\n      <th>5390</th>\n      <td>0.594622</td>\n      <td>0.157447</td>\n      <td>0.686275</td>\n      <td>0.053385</td>\n      <td>0.088144</td>\n      <td>0.049133</td>\n      <td>0.086499</td>\n      <td>0.167894</td>\n      <td>0.427011</td>\n      <td>0.0</td>\n      <td>0.0</td>\n    </tr>\n    <tr>\n      <th>860</th>\n      <td>0.238048</td>\n      <td>0.535106</td>\n      <td>0.274510</td>\n      <td>0.090874</td>\n      <td>0.092489</td>\n      <td>0.049721</td>\n      <td>0.091761</td>\n      <td>0.359947</td>\n      <td>0.553608</td>\n      <td>0.0</td>\n      <td>0.0</td>\n    </tr>\n    <tr>\n      <th>15795</th>\n      <td>0.192231</td>\n      <td>0.555319</td>\n      <td>1.000000</td>\n      <td>0.107432</td>\n      <td>0.203911</td>\n      <td>0.073320</td>\n      <td>0.204078</td>\n      <td>0.143143</td>\n      <td>0.639175</td>\n      <td>3.0</td>\n      <td>1.0</td>\n    </tr>\n  </tbody>\n</table>\n<p>16512 rows × 11 columns</p>\n</div>"
     },
     "execution_count": 67,
     "metadata": {},
     "output_type": "execute_result"
    }
   ],
   "source": [
    "pal.output"
   ],
   "metadata": {
    "collapsed": false
   }
  },
  {
   "cell_type": "code",
   "execution_count": 70,
   "outputs": [
    {
     "data": {
      "text/plain": "6"
     },
     "execution_count": 70,
     "metadata": {},
     "output_type": "execute_result"
    }
   ],
   "source": [
    "pal.current_version"
   ],
   "metadata": {
    "collapsed": false
   }
  },
  {
   "cell_type": "code",
   "execution_count": 71,
   "outputs": [
    {
     "data": {
      "text/plain": "ColumnTransformer(transformers=[('scaler', MinMaxScaler(),\n                                 ['longitude', 'latitude', 'housing_median_age',\n                                  'total_rooms', 'total_bedrooms', 'population',\n                                  'households', 'median_income',\n                                  'median_house_value']),\n                                ('impute', SimpleImputer(strategy='median'),\n                                 ['longitude', 'latitude', 'housing_median_age',\n                                  'total_rooms', 'total_bedrooms', 'population',\n                                  'households', 'median_income',\n                                  'median_house_value']),\n                                ('ordinal', OrdinalEncoder(),\n                                 ['ocean_proximity']),\n                                ('ordinal', OrdinalEncoder(), []),\n                                (None, None, None),\n                                ('ordinal', OrdinalEncoder(), ['Cluster'])])",
      "text/html": "<style>#sk-container-id-7 {color: black;background-color: white;}#sk-container-id-7 pre{padding: 0;}#sk-container-id-7 div.sk-toggleable {background-color: white;}#sk-container-id-7 label.sk-toggleable__label {cursor: pointer;display: block;width: 100%;margin-bottom: 0;padding: 0.3em;box-sizing: border-box;text-align: center;}#sk-container-id-7 label.sk-toggleable__label-arrow:before {content: \"▸\";float: left;margin-right: 0.25em;color: #696969;}#sk-container-id-7 label.sk-toggleable__label-arrow:hover:before {color: black;}#sk-container-id-7 div.sk-estimator:hover label.sk-toggleable__label-arrow:before {color: black;}#sk-container-id-7 div.sk-toggleable__content {max-height: 0;max-width: 0;overflow: hidden;text-align: left;background-color: #f0f8ff;}#sk-container-id-7 div.sk-toggleable__content pre {margin: 0.2em;color: black;border-radius: 0.25em;background-color: #f0f8ff;}#sk-container-id-7 input.sk-toggleable__control:checked~div.sk-toggleable__content {max-height: 200px;max-width: 100%;overflow: auto;}#sk-container-id-7 input.sk-toggleable__control:checked~label.sk-toggleable__label-arrow:before {content: \"▾\";}#sk-container-id-7 div.sk-estimator input.sk-toggleable__control:checked~label.sk-toggleable__label {background-color: #d4ebff;}#sk-container-id-7 div.sk-label input.sk-toggleable__control:checked~label.sk-toggleable__label {background-color: #d4ebff;}#sk-container-id-7 input.sk-hidden--visually {border: 0;clip: rect(1px 1px 1px 1px);clip: rect(1px, 1px, 1px, 1px);height: 1px;margin: -1px;overflow: hidden;padding: 0;position: absolute;width: 1px;}#sk-container-id-7 div.sk-estimator {font-family: monospace;background-color: #f0f8ff;border: 1px dotted black;border-radius: 0.25em;box-sizing: border-box;margin-bottom: 0.5em;}#sk-container-id-7 div.sk-estimator:hover {background-color: #d4ebff;}#sk-container-id-7 div.sk-parallel-item::after {content: \"\";width: 100%;border-bottom: 1px solid gray;flex-grow: 1;}#sk-container-id-7 div.sk-label:hover label.sk-toggleable__label {background-color: #d4ebff;}#sk-container-id-7 div.sk-serial::before {content: \"\";position: absolute;border-left: 1px solid gray;box-sizing: border-box;top: 0;bottom: 0;left: 50%;z-index: 0;}#sk-container-id-7 div.sk-serial {display: flex;flex-direction: column;align-items: center;background-color: white;padding-right: 0.2em;padding-left: 0.2em;position: relative;}#sk-container-id-7 div.sk-item {position: relative;z-index: 1;}#sk-container-id-7 div.sk-parallel {display: flex;align-items: stretch;justify-content: center;background-color: white;position: relative;}#sk-container-id-7 div.sk-item::before, #sk-container-id-7 div.sk-parallel-item::before {content: \"\";position: absolute;border-left: 1px solid gray;box-sizing: border-box;top: 0;bottom: 0;left: 50%;z-index: -1;}#sk-container-id-7 div.sk-parallel-item {display: flex;flex-direction: column;z-index: 1;position: relative;background-color: white;}#sk-container-id-7 div.sk-parallel-item:first-child::after {align-self: flex-end;width: 50%;}#sk-container-id-7 div.sk-parallel-item:last-child::after {align-self: flex-start;width: 50%;}#sk-container-id-7 div.sk-parallel-item:only-child::after {width: 0;}#sk-container-id-7 div.sk-dashed-wrapped {border: 1px dashed gray;margin: 0 0.4em 0.5em 0.4em;box-sizing: border-box;padding-bottom: 0.4em;background-color: white;}#sk-container-id-7 div.sk-label label {font-family: monospace;font-weight: bold;display: inline-block;line-height: 1.2em;}#sk-container-id-7 div.sk-label-container {text-align: center;}#sk-container-id-7 div.sk-container {/* jupyter's `normalize.less` sets `[hidden] { display: none; }` but bootstrap.min.css set `[hidden] { display: none !important; }` so we also need the `!important` here to be able to override the default hidden behavior on the sphinx rendered scikit-learn.org. See: https://github.com/scikit-learn/scikit-learn/issues/21755 */display: inline-block !important;position: relative;}#sk-container-id-7 div.sk-text-repr-fallback {display: none;}</style><div id=\"sk-container-id-7\" class=\"sk-top-container\"><div class=\"sk-text-repr-fallback\"><pre>ColumnTransformer(transformers=[(&#x27;scaler&#x27;, MinMaxScaler(),\n                                 [&#x27;longitude&#x27;, &#x27;latitude&#x27;, &#x27;housing_median_age&#x27;,\n                                  &#x27;total_rooms&#x27;, &#x27;total_bedrooms&#x27;, &#x27;population&#x27;,\n                                  &#x27;households&#x27;, &#x27;median_income&#x27;,\n                                  &#x27;median_house_value&#x27;]),\n                                (&#x27;impute&#x27;, SimpleImputer(strategy=&#x27;median&#x27;),\n                                 [&#x27;longitude&#x27;, &#x27;latitude&#x27;, &#x27;housing_median_age&#x27;,\n                                  &#x27;total_rooms&#x27;, &#x27;total_bedrooms&#x27;, &#x27;population&#x27;,\n                                  &#x27;households&#x27;, &#x27;median_income&#x27;,\n                                  &#x27;median_house_value&#x27;]),\n                                (&#x27;ordinal&#x27;, OrdinalEncoder(),\n                                 [&#x27;ocean_proximity&#x27;]),\n                                (&#x27;ordinal&#x27;, OrdinalEncoder(), []),\n                                (None, None, None),\n                                (&#x27;ordinal&#x27;, OrdinalEncoder(), [&#x27;Cluster&#x27;])])</pre><b>In a Jupyter environment, please rerun this cell to show the HTML representation or trust the notebook. <br />On GitHub, the HTML representation is unable to render, please try loading this page with nbviewer.org.</b></div><div class=\"sk-container\" hidden><div class=\"sk-item sk-dashed-wrapped\"><div class=\"sk-label-container\"><div class=\"sk-label sk-toggleable\"><input class=\"sk-toggleable__control sk-hidden--visually\" id=\"sk-estimator-id-34\" type=\"checkbox\" ><label for=\"sk-estimator-id-34\" class=\"sk-toggleable__label sk-toggleable__label-arrow\">ColumnTransformer</label><div class=\"sk-toggleable__content\"><pre>ColumnTransformer(transformers=[(&#x27;scaler&#x27;, MinMaxScaler(),\n                                 [&#x27;longitude&#x27;, &#x27;latitude&#x27;, &#x27;housing_median_age&#x27;,\n                                  &#x27;total_rooms&#x27;, &#x27;total_bedrooms&#x27;, &#x27;population&#x27;,\n                                  &#x27;households&#x27;, &#x27;median_income&#x27;,\n                                  &#x27;median_house_value&#x27;]),\n                                (&#x27;impute&#x27;, SimpleImputer(strategy=&#x27;median&#x27;),\n                                 [&#x27;longitude&#x27;, &#x27;latitude&#x27;, &#x27;housing_median_age&#x27;,\n                                  &#x27;total_rooms&#x27;, &#x27;total_bedrooms&#x27;, &#x27;population&#x27;,\n                                  &#x27;households&#x27;, &#x27;median_income&#x27;,\n                                  &#x27;median_house_value&#x27;]),\n                                (&#x27;ordinal&#x27;, OrdinalEncoder(),\n                                 [&#x27;ocean_proximity&#x27;]),\n                                (&#x27;ordinal&#x27;, OrdinalEncoder(), []),\n                                (None, None, None),\n                                (&#x27;ordinal&#x27;, OrdinalEncoder(), [&#x27;Cluster&#x27;])])</pre></div></div></div><div class=\"sk-parallel\"><div class=\"sk-parallel-item\"><div class=\"sk-item\"><div class=\"sk-label-container\"><div class=\"sk-label sk-toggleable\"><input class=\"sk-toggleable__control sk-hidden--visually\" id=\"sk-estimator-id-35\" type=\"checkbox\" ><label for=\"sk-estimator-id-35\" class=\"sk-toggleable__label sk-toggleable__label-arrow\">scaler</label><div class=\"sk-toggleable__content\"><pre>[&#x27;longitude&#x27;, &#x27;latitude&#x27;, &#x27;housing_median_age&#x27;, &#x27;total_rooms&#x27;, &#x27;total_bedrooms&#x27;, &#x27;population&#x27;, &#x27;households&#x27;, &#x27;median_income&#x27;, &#x27;median_house_value&#x27;]</pre></div></div></div><div class=\"sk-serial\"><div class=\"sk-item\"><div class=\"sk-estimator sk-toggleable\"><input class=\"sk-toggleable__control sk-hidden--visually\" id=\"sk-estimator-id-36\" type=\"checkbox\" ><label for=\"sk-estimator-id-36\" class=\"sk-toggleable__label sk-toggleable__label-arrow\">MinMaxScaler</label><div class=\"sk-toggleable__content\"><pre>MinMaxScaler()</pre></div></div></div></div></div></div><div class=\"sk-parallel-item\"><div class=\"sk-item\"><div class=\"sk-label-container\"><div class=\"sk-label sk-toggleable\"><input class=\"sk-toggleable__control sk-hidden--visually\" id=\"sk-estimator-id-37\" type=\"checkbox\" ><label for=\"sk-estimator-id-37\" class=\"sk-toggleable__label sk-toggleable__label-arrow\">impute</label><div class=\"sk-toggleable__content\"><pre>[&#x27;longitude&#x27;, &#x27;latitude&#x27;, &#x27;housing_median_age&#x27;, &#x27;total_rooms&#x27;, &#x27;total_bedrooms&#x27;, &#x27;population&#x27;, &#x27;households&#x27;, &#x27;median_income&#x27;, &#x27;median_house_value&#x27;]</pre></div></div></div><div class=\"sk-serial\"><div class=\"sk-item\"><div class=\"sk-estimator sk-toggleable\"><input class=\"sk-toggleable__control sk-hidden--visually\" id=\"sk-estimator-id-38\" type=\"checkbox\" ><label for=\"sk-estimator-id-38\" class=\"sk-toggleable__label sk-toggleable__label-arrow\">SimpleImputer</label><div class=\"sk-toggleable__content\"><pre>SimpleImputer(strategy=&#x27;median&#x27;)</pre></div></div></div></div></div></div><div class=\"sk-parallel-item\"><div class=\"sk-item\"><div class=\"sk-label-container\"><div class=\"sk-label sk-toggleable\"><input class=\"sk-toggleable__control sk-hidden--visually\" id=\"sk-estimator-id-39\" type=\"checkbox\" ><label for=\"sk-estimator-id-39\" class=\"sk-toggleable__label sk-toggleable__label-arrow\">ordinal</label><div class=\"sk-toggleable__content\"><pre>[&#x27;ocean_proximity&#x27;]</pre></div></div></div><div class=\"sk-serial\"><div class=\"sk-item\"><div class=\"sk-estimator sk-toggleable\"><input class=\"sk-toggleable__control sk-hidden--visually\" id=\"sk-estimator-id-40\" type=\"checkbox\" ><label for=\"sk-estimator-id-40\" class=\"sk-toggleable__label sk-toggleable__label-arrow\">OrdinalEncoder</label><div class=\"sk-toggleable__content\"><pre>OrdinalEncoder()</pre></div></div></div></div></div></div><div class=\"sk-parallel-item\"><div class=\"sk-item\"><div class=\"sk-label-container\"><div class=\"sk-label sk-toggleable\"><input class=\"sk-toggleable__control sk-hidden--visually\" id=\"sk-estimator-id-41\" type=\"checkbox\" ><label for=\"sk-estimator-id-41\" class=\"sk-toggleable__label sk-toggleable__label-arrow\">ordinal</label><div class=\"sk-toggleable__content\"><pre>[]</pre></div></div></div><div class=\"sk-serial\"><div class=\"sk-item\"><div class=\"sk-estimator sk-toggleable\"><input class=\"sk-toggleable__control sk-hidden--visually\" id=\"sk-estimator-id-42\" type=\"checkbox\" ><label for=\"sk-estimator-id-42\" class=\"sk-toggleable__label sk-toggleable__label-arrow\">OrdinalEncoder</label><div class=\"sk-toggleable__content\"><pre>OrdinalEncoder()</pre></div></div></div></div></div></div><div class=\"sk-parallel-item\"><div class=\"sk-item\"><div class=\"sk-serial\"><div class=\"sk-item\"><div class=\"sk-estimator sk-toggleable\"><input class=\"sk-toggleable__control sk-hidden--visually\" id=\"sk-estimator-id-43\" type=\"checkbox\" ><label for=\"sk-estimator-id-43\" class=\"sk-toggleable__label sk-toggleable__label-arrow\">None</label><div class=\"sk-toggleable__content\"><pre>None</pre></div></div></div></div></div></div><div class=\"sk-parallel-item\"><div class=\"sk-item\"><div class=\"sk-label-container\"><div class=\"sk-label sk-toggleable\"><input class=\"sk-toggleable__control sk-hidden--visually\" id=\"sk-estimator-id-44\" type=\"checkbox\" ><label for=\"sk-estimator-id-44\" class=\"sk-toggleable__label sk-toggleable__label-arrow\">ordinal</label><div class=\"sk-toggleable__content\"><pre>[&#x27;Cluster&#x27;]</pre></div></div></div><div class=\"sk-serial\"><div class=\"sk-item\"><div class=\"sk-estimator sk-toggleable\"><input class=\"sk-toggleable__control sk-hidden--visually\" id=\"sk-estimator-id-45\" type=\"checkbox\" ><label for=\"sk-estimator-id-45\" class=\"sk-toggleable__label sk-toggleable__label-arrow\">OrdinalEncoder</label><div class=\"sk-toggleable__content\"><pre>OrdinalEncoder()</pre></div></div></div></div></div></div></div></div></div></div>"
     },
     "execution_count": 71,
     "metadata": {},
     "output_type": "execute_result"
    }
   ],
   "source": [
    "pal.transformation_history[-1].get('pipeline')"
   ],
   "metadata": {
    "collapsed": false
   }
  },
  {
   "cell_type": "code",
   "execution_count": 140,
   "outputs": [],
   "source": [
    "pal.restore(version=3)"
   ],
   "metadata": {
    "collapsed": false
   }
  },
  {
   "cell_type": "code",
   "execution_count": 141,
   "outputs": [
    {
     "data": {
      "text/plain": "3"
     },
     "execution_count": 141,
     "metadata": {},
     "output_type": "execute_result"
    }
   ],
   "source": [
    "pal.current_version"
   ],
   "metadata": {
    "collapsed": false
   }
  },
  {
   "cell_type": "code",
   "execution_count": 142,
   "outputs": [
    {
     "data": {
      "text/plain": "ColumnTransformer(transformers=['scaler', MinMaxScaler(),\n                                ['longitude', 'latitude'], 'impute',\n                                SimpleImputer(strategy='median'),\n                                ['longitude', 'latitude'], 'pca',\n                                PCA(n_components=0.8), ['median_income']])",
      "text/html": "<style>#sk-container-id-39 {color: black;background-color: white;}#sk-container-id-39 pre{padding: 0;}#sk-container-id-39 div.sk-toggleable {background-color: white;}#sk-container-id-39 label.sk-toggleable__label {cursor: pointer;display: block;width: 100%;margin-bottom: 0;padding: 0.3em;box-sizing: border-box;text-align: center;}#sk-container-id-39 label.sk-toggleable__label-arrow:before {content: \"▸\";float: left;margin-right: 0.25em;color: #696969;}#sk-container-id-39 label.sk-toggleable__label-arrow:hover:before {color: black;}#sk-container-id-39 div.sk-estimator:hover label.sk-toggleable__label-arrow:before {color: black;}#sk-container-id-39 div.sk-toggleable__content {max-height: 0;max-width: 0;overflow: hidden;text-align: left;background-color: #f0f8ff;}#sk-container-id-39 div.sk-toggleable__content pre {margin: 0.2em;color: black;border-radius: 0.25em;background-color: #f0f8ff;}#sk-container-id-39 input.sk-toggleable__control:checked~div.sk-toggleable__content {max-height: 200px;max-width: 100%;overflow: auto;}#sk-container-id-39 input.sk-toggleable__control:checked~label.sk-toggleable__label-arrow:before {content: \"▾\";}#sk-container-id-39 div.sk-estimator input.sk-toggleable__control:checked~label.sk-toggleable__label {background-color: #d4ebff;}#sk-container-id-39 div.sk-label input.sk-toggleable__control:checked~label.sk-toggleable__label {background-color: #d4ebff;}#sk-container-id-39 input.sk-hidden--visually {border: 0;clip: rect(1px 1px 1px 1px);clip: rect(1px, 1px, 1px, 1px);height: 1px;margin: -1px;overflow: hidden;padding: 0;position: absolute;width: 1px;}#sk-container-id-39 div.sk-estimator {font-family: monospace;background-color: #f0f8ff;border: 1px dotted black;border-radius: 0.25em;box-sizing: border-box;margin-bottom: 0.5em;}#sk-container-id-39 div.sk-estimator:hover {background-color: #d4ebff;}#sk-container-id-39 div.sk-parallel-item::after {content: \"\";width: 100%;border-bottom: 1px solid gray;flex-grow: 1;}#sk-container-id-39 div.sk-label:hover label.sk-toggleable__label {background-color: #d4ebff;}#sk-container-id-39 div.sk-serial::before {content: \"\";position: absolute;border-left: 1px solid gray;box-sizing: border-box;top: 0;bottom: 0;left: 50%;z-index: 0;}#sk-container-id-39 div.sk-serial {display: flex;flex-direction: column;align-items: center;background-color: white;padding-right: 0.2em;padding-left: 0.2em;position: relative;}#sk-container-id-39 div.sk-item {position: relative;z-index: 1;}#sk-container-id-39 div.sk-parallel {display: flex;align-items: stretch;justify-content: center;background-color: white;position: relative;}#sk-container-id-39 div.sk-item::before, #sk-container-id-39 div.sk-parallel-item::before {content: \"\";position: absolute;border-left: 1px solid gray;box-sizing: border-box;top: 0;bottom: 0;left: 50%;z-index: -1;}#sk-container-id-39 div.sk-parallel-item {display: flex;flex-direction: column;z-index: 1;position: relative;background-color: white;}#sk-container-id-39 div.sk-parallel-item:first-child::after {align-self: flex-end;width: 50%;}#sk-container-id-39 div.sk-parallel-item:last-child::after {align-self: flex-start;width: 50%;}#sk-container-id-39 div.sk-parallel-item:only-child::after {width: 0;}#sk-container-id-39 div.sk-dashed-wrapped {border: 1px dashed gray;margin: 0 0.4em 0.5em 0.4em;box-sizing: border-box;padding-bottom: 0.4em;background-color: white;}#sk-container-id-39 div.sk-label label {font-family: monospace;font-weight: bold;display: inline-block;line-height: 1.2em;}#sk-container-id-39 div.sk-label-container {text-align: center;}#sk-container-id-39 div.sk-container {/* jupyter's `normalize.less` sets `[hidden] { display: none; }` but bootstrap.min.css set `[hidden] { display: none !important; }` so we also need the `!important` here to be able to override the default hidden behavior on the sphinx rendered scikit-learn.org. See: https://github.com/scikit-learn/scikit-learn/issues/21755 */display: inline-block !important;position: relative;}#sk-container-id-39 div.sk-text-repr-fallback {display: none;}</style><div id=\"sk-container-id-39\" class=\"sk-top-container\"><div class=\"sk-text-repr-fallback\"><pre>ColumnTransformer(transformers=[&#x27;scaler&#x27;, MinMaxScaler(),\n                                [&#x27;longitude&#x27;, &#x27;latitude&#x27;], &#x27;impute&#x27;,\n                                SimpleImputer(strategy=&#x27;median&#x27;),\n                                [&#x27;longitude&#x27;, &#x27;latitude&#x27;], &#x27;pca&#x27;,\n                                PCA(n_components=0.8), [&#x27;median_income&#x27;]])</pre><b>In a Jupyter environment, please rerun this cell to show the HTML representation or trust the notebook. <br />On GitHub, the HTML representation is unable to render, please try loading this page with nbviewer.org.</b></div><div class=\"sk-container\" hidden><div class=\"sk-item\"><div class=\"sk-estimator sk-toggleable\"><input class=\"sk-toggleable__control sk-hidden--visually\" id=\"sk-estimator-id-39\" type=\"checkbox\" checked><label for=\"sk-estimator-id-39\" class=\"sk-toggleable__label sk-toggleable__label-arrow\">ColumnTransformer</label><div class=\"sk-toggleable__content\"><pre>ColumnTransformer(transformers=[&#x27;scaler&#x27;, MinMaxScaler(),\n                                [&#x27;longitude&#x27;, &#x27;latitude&#x27;], &#x27;impute&#x27;,\n                                SimpleImputer(strategy=&#x27;median&#x27;),\n                                [&#x27;longitude&#x27;, &#x27;latitude&#x27;], &#x27;pca&#x27;,\n                                PCA(n_components=0.8), [&#x27;median_income&#x27;]])</pre></div></div></div></div></div>"
     },
     "execution_count": 142,
     "metadata": {},
     "output_type": "execute_result"
    }
   ],
   "source": [
    "pal.transformation_history[-1].get('pipeline')"
   ],
   "metadata": {
    "collapsed": false
   }
  },
  {
   "cell_type": "code",
   "execution_count": null,
   "outputs": [],
   "source": [
    "X = df.drop(columns=['ocean_proximity'])\n",
    "Y = df['ocean_proximity']"
   ],
   "metadata": {
    "collapsed": false
   }
  },
  {
   "cell_type": "code",
   "execution_count": 28,
   "outputs": [],
   "source": [
    "from sklearn.model_selection import train_test_split\n",
    "train_X, test_X, train_Y, test_Y = train_test_split(X,Y, test_size=0.20, random_state=42)"
   ],
   "metadata": {
    "collapsed": false
   }
  },
  {
   "cell_type": "code",
   "execution_count": 33,
   "outputs": [
    {
     "data": {
      "text/plain": "4128"
     },
     "execution_count": 33,
     "metadata": {},
     "output_type": "execute_result"
    }
   ],
   "source": [
    "len(test_X)"
   ],
   "metadata": {
    "collapsed": false
   }
  },
  {
   "cell_type": "code",
   "execution_count": null,
   "outputs": [],
   "source": [],
   "metadata": {
    "collapsed": false
   }
  }
 ],
 "metadata": {
  "kernelspec": {
   "display_name": "Python 3",
   "language": "python",
   "name": "python3"
  },
  "language_info": {
   "codemirror_mode": {
    "name": "ipython",
    "version": 2
   },
   "file_extension": ".py",
   "mimetype": "text/x-python",
   "name": "python",
   "nbconvert_exporter": "python",
   "pygments_lexer": "ipython2",
   "version": "2.7.6"
  }
 },
 "nbformat": 4,
 "nbformat_minor": 0
}
