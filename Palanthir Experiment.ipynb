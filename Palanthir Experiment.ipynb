{
 "cells": [
  {
   "cell_type": "code",
   "execution_count": 1044,
   "outputs": [],
   "source": [
    "import numpy as np\n",
    "import pandas as pd\n",
    "import matplotlib.pyplot as plt\n",
    "from sklearn.model_selection import train_test_split\n",
    "from sklearn.pipeline import Pipeline\n",
    "from sklearn.compose import ColumnTransformer\n",
    "from sklearn.base import BaseEstimator,TransformerMixin\n",
    "\n",
    "class Palanthir(object):\n",
    "## Native attributes\n",
    "    def __init__(self, input, target_feature:str=None, init_test_size:(float,None)=None):\n",
    "        \"\"\"Initiates a Palanthir-class on-top a Pandas Dataframe. The class-attributes describes the overall structure and composition of the data\"\"\"\n",
    "        self.input_data = input\n",
    "        ##When the Palanthir is born with a target variable:\n",
    "        if isinstance(target_feature,str):\n",
    "        #...AND is to be split into test-train subsets\n",
    "            self.Y_col = [target_feature]\n",
    "            self.X_cols = [col for col in self.input_data.columns if col not in self.Y_col]\n",
    "            if isinstance(init_test_size,float):\n",
    "                self.train_X, self.test_X, self.train_Y, self.test_Y = train_test_split(self.input_data[self.X_cols],self.input_data[self.Y_col],test_size=0.2,random_state=42)\n",
    "                self.output = self.train_X.copy(deep=True)\n",
    "        #...BUT IS NOT to be split into test-train subsets\n",
    "            else:\n",
    "                self.Y = self.input_data.copy(deep=True)[self.Y_col]\n",
    "                self.X = self.input_data.copy(deep=True)[self.X_cols]\n",
    "                self.output = self.X.copy(deep=True)\n",
    "        ##When the Palanthir is NOT born with a target variable:\n",
    "        else:\n",
    "        # ...BUT IS to be split into test-train subsets\n",
    "            if isinstance(init_test_size,float):\n",
    "                self.train, self.test = train_test_split(self.input_data,test_size=0.2,random_state=42)\n",
    "                self.output = self.train.copy(deep=True)\n",
    "        #...AND IS NOT to be split into test-train subsets.\n",
    "            else:\n",
    "                self.output = self.input_data.copy(deep=True)\n",
    "        self.size = len(self.output)\n",
    "        self.features = list(self.output)\n",
    "        self.features_num = list(self.output.loc[:, self.output.dtypes != object])\n",
    "        self.features_cat = list(self.output.loc[:, self.output.dtypes == object])\n",
    "        self.current_version = 0\n",
    "        self.transformation_history = [dict(version=0,transformation='input',result=self.input_data,pipeline=ColumnTransformer([]))]\n",
    "\n",
    "## Self-update and audit commands\n",
    "\n",
    "    def update_attributes(self):\n",
    "        self.size = len(self.output)\n",
    "        self.features = list(self.output)\n",
    "        self.features_num = list(self.output.loc[:, self.output.dtypes != object])\n",
    "        self.features_cat = list(self.output.loc[:, self.output.dtypes == object])\n",
    "\n",
    "    def update_history(self, step=None, snapshot=None,text=None,transformer=None,cols=None):\n",
    "        pipelineSteps = self.transformation_history[-1].get('pipeline').get_params().get('transformers') + [(text,transformer,cols)]\n",
    "        updatedPipeline = ColumnTransformer(pipelineSteps)\n",
    "        self.current_version += 1\n",
    "        self.transformation_history.append(\n",
    "            dict(\n",
    "                version=self.current_version\n",
    "                ,transformation=step\n",
    "                ,result=snapshot\n",
    "                ,pipeline=updatedPipeline\n",
    "            )\n",
    "        )\n",
    "\n",
    "    def restore(self, version=None):\n",
    "        versionCheckpoint = (self.current_version - 1) if version == None else version\n",
    "        self.current_version = versionCheckpoint\n",
    "        self.output = self.transformation_history[versionCheckpoint].get('result')\n",
    "        self.update_attributes()\n",
    "        self.transformation_history.append(\n",
    "            dict(\n",
    "                version=self.current_version\n",
    "                ,transformation=f\"Restored to version {self.current_version}\"\n",
    "                ,result=self.transformation_history[self.current_version].get('result')\n",
    "                ,pipeline=self.transformation_history[self.current_version].get('pipeline')\n",
    "            )\n",
    "        )\n",
    "        return self.transformation_history[self.current_version].get('pipeline')\n",
    "\n",
    "    ##NOTE: DEEPCOPY - Perhaps it makes sense changing the self.output to a dynamic version of train_x. Likewise for the X and Y\n",
    "    def declare_target(self,target_feature:str):\n",
    "        self.current_version += 1\n",
    "        self.Y_col = [target_feature]\n",
    "        self.X_cols = [col for col in self.input_data.columns if col not in self.Y_col]\n",
    "        ## Palanthir has already been split into test-train subsets:\n",
    "        if hasattr(self,'train') or hasattr(self,'test'):\n",
    "            self.train_X = self.train[self.X_cols]\n",
    "            self.train_Y = self.train[self.Y_col]\n",
    "            self.test_X = self.test[self.X_cols]\n",
    "            self.test_Y = self.test[self.Y_col]\n",
    "            self.output = self.train_X.copy(deep=True)\n",
    "            del self.train, self.test\n",
    "        ## Palanthir has NOT already been split into test-train subsets:\n",
    "        else:\n",
    "            self.Y = self.input_data.copy(deep=True)[self.Y_col]\n",
    "            self.X = self.input_data.copy(deep=True)[self.X_cols]\n",
    "            self.output = self.X.copy(deep=True)\n",
    "        self.update_attributes()\n",
    "        self.transformation_history.append(\n",
    "            dict(\n",
    "                version=self.current_version\n",
    "                ,transformation=f\"Split into X and Y\"\n",
    "                ,result=self.output\n",
    "                ,pipeline=self.transformation_history[self.current_version-1].get('pipeline'))\n",
    "        )\n",
    "        return self.Y_col\n",
    "\n",
    "    ##NOTE: DEEPCOPY - Perhaps it makes sense changing the self.output to a dynamic version of train_x. Likewise for the X and Y\n",
    "    def random_split(self, test_size=0.2):\n",
    "        \"\"\"Uses the SKLearn Train_Test_Split to divide the dataset into random training and test subset\"\"\"\n",
    "        from sklearn.model_selection import train_test_split\n",
    "        self.current_version += 1\n",
    "        ## Palanthir is already split into X-Y features:\n",
    "        if hasattr(self,'Y') or hasattr(self,'X'):\n",
    "            self.train_X, self.test_X, self.train_Y, self.test_Y = train_test_split(self.X,self.Y,test_size=test_size,random_state=42)\n",
    "            self.output = self.train_X.copy(deep=True)\n",
    "        ## Palanthir is NOT already split into X-Y features:\n",
    "        else:\n",
    "            self.train, self.test = train_test_split(self.input_data,test_size=test_size,random_state=42)\n",
    "            self.output = self.train.copy(deep=True)\n",
    "        self.update_attributes()\n",
    "        self.transformation_history.append(\n",
    "            dict(\n",
    "                version=self.current_version\n",
    "                ,transformation=f\"Split into Test and Train\"\n",
    "                ,result=self.output\n",
    "                ,pipeline=self.transformation_history[self.current_version-1].get('pipeline'))\n",
    "        )\n",
    "        return self.output\n",
    "\n",
    "## Summarization and description commands\n",
    "    def summarize(self):\n",
    "        \"\"\"Prints the info, description and any missing value-counts for the class\"\"\"\n",
    "        dataset = self.output\n",
    "        return print(\n",
    "            \"Info: \", dataset.info(),\n",
    "            \"\\n\",\n",
    "            \"Description: \", dataset.describe(),\n",
    "            \"\\n\",\n",
    "            \"Missing values: \", dataset.isna().sum()\n",
    "\n",
    "        )\n",
    "\n",
    "## Data preprocessing commands\n",
    "\n",
    "    ## TO BE DEVELOPED\n",
    "    def stratified_split(self, cols, store=True):\n",
    "        \"\"\"Uses the SKLearn StratigiesShuffleSplit to divide the dataset into stratified training and test subset\"\"\"\n",
    "        dataset = self.output\n",
    "        from sklearn.model_selection import StratifiedShuffleSplit\n",
    "        split = StratifiedShuffleSplit(n_split=1, test_size=0.2, random_state=42)\n",
    "        for train_index, test_index in split.split(dataset, dataset[cols]):\n",
    "            strat_train_set = dataset.loc[train_index]\n",
    "            strat_test_set = dataset.loc[test_index]\n",
    "        if store:\n",
    "            self.train_subset, self.test_subset = [strat_train_set], [strat_test_set]\n",
    "        return strat_train_set, strat_test_set\n",
    "\n",
    "    def execute_pipeline(self, dataset=None, pipeline_version=None):\n",
    "        \"\"\"Uses the SKLearn ColumnTransformer build via previous transformations and apply its transformations to the target dataset\"\"\"\n",
    "        versionCheckpoint = self.current_version if pipeline_version == None else pipeline_version\n",
    "        pipeline = self.transformation_history[versionCheckpoint].get('pipeline')\n",
    "        ## Check if a dataset is given at function-runtime\n",
    "        if isinstance(dataset,pd.core.frame.DataFrame):\n",
    "            dataset = dataset\n",
    "            fitted_pipeline = pipeline.fit(self.input_data)\n",
    "        ## Alternatively check if the Palanthir has already got a X-Y split in its test-train subsets:\n",
    "        else:\n",
    "            dataset = self.test_X if hasattr(self,'test_X') else self.test\n",
    "            fitted_pipeline = pipeline.fit(self.train_X) if hasattr(self,'train_X') else pipeline.fit(self.test)\n",
    "        self.transformed_test = fitted_pipeline.transform(dataset)\n",
    "        return self.transformed_test\n",
    "\n",
    "## Transformation commands\n",
    "    def PCA(self, n_components=0.80, include_features = [], exclude_features=[],store=True):\n",
    "        columns = [col for col in self.features_num if col not in exclude_features] if include_features == [] else [col for col in include_features if col not in exclude_features]\n",
    "        dataset = self.output[columns]\n",
    "        from sklearn.decomposition import PCA\n",
    "        PCAtransformer = PCA(n_components=n_components).fit(dataset)\n",
    "        pca_data = PCAtransformer.transform(dataset)\n",
    "        output_df = pd.DataFrame(pca_data, columns=[\"PCA_\" + str(col + 1) for col in range(pca_data.shape[1])],index=dataset.index)\n",
    "        if store:\n",
    "            self.output = output_df\n",
    "            self.update_attributes()\n",
    "            self.update_history(step=\"Performed Principal Component Analysis\",snapshot=self.output,text='pca',transformer=PCAtransformer,cols=columns)\n",
    "        explained_variance = PCA().fit(dataset).explained_variance_ratio_\n",
    "        cumsum = np.cumsum(explained_variance)\n",
    "        print(cumsum)\n",
    "        plt.plot([\"PCA\" + str(num) for num in range(1, len(cumsum) + 1)], cumsum)\n",
    "        plt.show()\n",
    "        return output_df\n",
    "\n",
    "    def fill_nulls(self, strategy=\"median\", include_features = [], exclude_features=[], store=True):\n",
    "        \"\"\"Uses the SKLearn SimpleImputer to fill out any missing values in the numerical features of the dataset\"\"\"\n",
    "        columns = [col for col in self.features_num if col not in exclude_features] if include_features == [] else [col for col in include_features if col not in exclude_features]\n",
    "        dataset = self.output[columns]\n",
    "        from sklearn.impute import SimpleImputer\n",
    "        imputer = SimpleImputer(strategy=strategy).fit(dataset)\n",
    "        imputed_data = imputer.transform(dataset)\n",
    "        output_df = pd.DataFrame(imputed_data, columns=dataset.columns, index=dataset.index)\n",
    "        if store:\n",
    "            self.output[columns] = output_df\n",
    "            self.update_attributes()\n",
    "            self.update_history(step=\"Filled nulls\",snapshot=self.output,text='impute',transformer=imputer,cols=columns)\n",
    "        return output_df\n",
    "\n",
    "    def encode_order(self, include_features = [], exclude_features=[], store=True):\n",
    "        \"\"\"Uses the SKLearn OrdinalEncoder to order any categorical features of the dataset\"\"\"\n",
    "        columns = [col for col in self.features_cat if col not in exclude_features] if include_features == [] else [col for col in include_features if col not in exclude_features]\n",
    "        dataset = self.output[columns]\n",
    "        from sklearn.preprocessing import OrdinalEncoder\n",
    "        encoder = OrdinalEncoder().fit(dataset)\n",
    "        encoded_data = encoder.transform(dataset)\n",
    "        output_df = pd.DataFrame(encoded_data, columns=dataset.columns, index=dataset.index)\n",
    "        if store:\n",
    "            self.output[columns] = output_df\n",
    "            self.update_attributes()\n",
    "            self.update_history(step=\"Encoded order of categorial features\",snapshot=self.output,text='ordinal',transformer=encoder,cols=columns)\n",
    "        return output_df\n",
    "\n",
    "    def make_dummies(self, include_features = [], exclude_features=[], store=True):\n",
    "        \"\"\"Uses the SKLearn OneHotEncoder to turn categorical features of the dataset into dummy-variables\"\"\"\n",
    "        columns = [col for col in self.features_cat if col not in exclude_features] if include_features == [] else [col for col in include_features if col not in exclude_features]\n",
    "        remain_columns = [col for col in self.output.columns if col not in columns]\n",
    "        dataset = self.output[columns]\n",
    "        from sklearn.preprocessing import OneHotEncoder\n",
    "        encoder = OneHotEncoder().fit(dataset)\n",
    "        new_column_names = encoder.get_feature_names_out(dataset.columns)\n",
    "        dummy_data = encoder.transform(dataset).toarray()\n",
    "        dummy_data_df = pd.DataFrame(dummy_data, columns=[name for name in new_column_names], index=dataset.index)\n",
    "        output_df = pd.merge(self.output[remain_columns], dummy_data_df, left_index=True, right_index=True)\n",
    "        if store == True:\n",
    "            self.output = output_df\n",
    "            self.update_attributes()\n",
    "            self.update_history(step=\"Turned categorical features into dummy variables\",snapshot=self.output,text='onehot',transformer=encoder,cols=columns)\n",
    "        return output_df\n",
    "\n",
    "    def scale(self, strategy:str, include_features = [], exclude_features=[], store=True):\n",
    "        \"\"\"Uses the SKLearn StandardScaler or MinMaxScaler to scale all numerical features of the dataset\"\"\"\n",
    "        columns = [col for col in self.features_num if col not in exclude_features] if include_features == [] else [col for col in include_features if col not in exclude_features]\n",
    "        dataset = self.output[columns]\n",
    "        from sklearn.preprocessing import StandardScaler, MinMaxScaler\n",
    "        if strategy==\"Standard\":\n",
    "            scaler = StandardScaler().fit(dataset)\n",
    "        elif strategy==\"MinMax\":\n",
    "            scaler = MinMaxScaler().fit(dataset)\n",
    "        else:\n",
    "            print('Not a proper scaler')\n",
    "        output_df = scaler.transform(dataset)\n",
    "        if store:\n",
    "            self.output[columns] = output_df\n",
    "            self.update_attributes()\n",
    "            self.update_history(step=f\"\"\"Scaled feature-values using {'Standard-scaler' if strategy=='Standard' else 'MinMax-scaler'}\"\"\",snapshot=self.output,text='scaler',transformer=scaler,cols=columns)\n",
    "        return output_df\n",
    "\n",
    "    def cluster(self, max_k=10, store=True):\n",
    "        \"\"\"Uses the SKLearn KMeans to cluster the dataset\"\"\"\n",
    "        dataset = self.output\n",
    "        from sklearn.cluster import KMeans\n",
    "        from matplotlib import pyplot\n",
    "        from sklearn.metrics import silhouette_score\n",
    "        kmeans_per_k = [KMeans(n_clusters=k, random_state=42).fit(dataset) for k in range(1, max_k + 1)]\n",
    "        silhouettes = [silhouette_score(dataset, model.labels_) for model in kmeans_per_k[1:]]\n",
    "        best_k = silhouettes.index(max(silhouettes)) + 2\n",
    "        plt.plot(range(2, max_k + 1), silhouettes)\n",
    "        plt.xlabel(\"KMeans\")\n",
    "        plt.ylabel(\"Silhouette-score\")\n",
    "        plt.show()\n",
    "        print(\"Best silhouette is obtained with k as: \", best_k)\n",
    "        if store:\n",
    "            self.output[\"Cluster\"] = [\"Cluster \" + str(i) for i in KMeans(n_clusters=best_k, random_state=42).fit_predict(dataset)]\n",
    "            self.update_attributes()\n",
    "            self.update_history(step=\"Added Cluster-label as column to dataset\",snapshot=self.output)\n",
    "        return self.output\n",
    "\n",
    "    def clusterV2(self, max_k=10, include_features = [], exclude_features=[], store=True):\n",
    "        \"\"\"Uses the SKLearn KMeans to cluster the dataset\"\"\"\n",
    "        from sklearn.base import BaseEstimator,TransformerMixin\n",
    "        from sklearn.cluster import KMeans\n",
    "        from sklearn.utils import check_random_state\n",
    "        from sklearn.metrics import silhouette_score\n",
    "        from matplotlib import pyplot\n",
    "\n",
    "        columns = [col for col in self.features_num if col not in exclude_features] if include_features == [] else [col for col in include_features if col not in exclude_features]\n",
    "        dataset = self.output[columns]\n",
    "        kmeans_per_k = [KMeans(n_clusters=k, n_init='auto', random_state=42).fit(dataset) for k in range(1, max_k + 1)]\n",
    "        silhouettes = [silhouette_score(dataset, model.labels_) for model in kmeans_per_k[1:]]\n",
    "        best_k = silhouettes.index(max(silhouettes)) + 2\n",
    "        plt.plot(range(2, max_k + 1), silhouettes)\n",
    "        plt.xlabel(\"KMeans\")\n",
    "        plt.ylabel(\"Silhouette-score\")\n",
    "        plt.show()\n",
    "        print(\"Best silhouette is obtained with k as: \", best_k)\n",
    "        if store:\n",
    "        ## Create Custom Transformer for updating Cluster-label column\n",
    "            class ClusterIdentifier(BaseEstimator,TransformerMixin):\n",
    "                def __init__(self, Ks=best_k,random_state=None):\n",
    "                    self.random_state = random_state\n",
    "                    self.Ks = Ks\n",
    "\n",
    "                def fit(self, X, y=None):\n",
    "                    self.random_state_ = check_random_state(self.random_state)\n",
    "                    self.estimator = KMeans(n_clusters=self.Ks, n_init='auto', random_state=42).fit(X)\n",
    "                    return self\n",
    "\n",
    "                def transform(self, X, y=None):\n",
    "                    X_trans = pd.DataFrame(data=self.estimator.transform(X)).apply(lambda x: x.astype(float))\n",
    "                    X_trans['cluster'] = X_trans.idxmin(axis=1)\n",
    "                    return X_trans\n",
    "\n",
    "            bestKMeans = KMeans(n_clusters=best_k, random_state=42).fit(dataset)\n",
    "            #self.output[\"Cluster\"] = [\"Cluster \" + str(i) for i in bestKMeans.predict(dataset)]\n",
    "            transformer = ClusterIdentifier().fit(dataset)\n",
    "            self.output = transformer.transform(X=dataset)\n",
    "            self.update_attributes()\n",
    "            self.update_history(step=\"Added Cluster-label as column to dataset\",snapshot=self.output,text='Cluster-label',transformer=transformer,cols=columns)\n",
    "        return self.output\n",
    "\n",
    "    def remove_outliers(self, include_features = [], exclude_features = [], factor=1.5):\n",
    "        from sklearn.base import BaseEstimator,TransformerMixin\n",
    "        class OutlierRemover(BaseEstimator,TransformerMixin):\n",
    "            def __init__(self,factor=factor):\n",
    "                self.factor = factor\n",
    "\n",
    "            def outlier_detector(self,X,y=None):\n",
    "                X = pd.Series(X).copy()\n",
    "                q1 = X.quantile(0.25)\n",
    "                q3 = X.quantile(0.75)\n",
    "                iqr = q3 - q1\n",
    "                self.lower_bound.append(q1 - (self.factor * iqr))\n",
    "                self.upper_bound.append(q3 + (self.factor * iqr))\n",
    "\n",
    "            def fit(self,X,y=None):\n",
    "                self.lower_bound = []\n",
    "                self.upper_bound = []\n",
    "                X.apply(self.outlier_detector)\n",
    "                return self\n",
    "\n",
    "            def transform(self,X,y=None):\n",
    "                X = pd.DataFrame(X).copy()\n",
    "                for i in range(X.shape[1]):\n",
    "                    x = X.iloc[:, i].copy()\n",
    "                    x[(x < self.lower_bound[i]) | (x > self.upper_bound[i])] = np.nan\n",
    "                    X.iloc[:, i] = x\n",
    "                return X\n",
    "        columns = [col for col in self.features_num if col not in exclude_features] if include_features == [] else [col for col in include_features if col not in exclude_features]\n",
    "        dataset = self.output[columns]\n",
    "\n",
    "\n",
    "\n",
    "## Analysis commands\n",
    "    def cross_validate(self, model, x, y, score_measure=\"neg_mean_squared_error\", folds=10):\n",
    "        \"\"\"Uses the SKLearn Cross_Val_Score to cross-validate one/several models on the training subset\"\"\"\n",
    "        from sklearn.model_selection import cross_val_score\n",
    "        scores = cross_val_score(model, x, y, scoring=score_measure, cv=folds)\n",
    "        return scores\n",
    "\n",
    "    def full_analysis(self, model):\n",
    "        \"\"\"Conducts a full data-analysis pipeline on the dataset, including model training, evaluation and tuning\"\"\"\n",
    "        dataset = self.output\n",
    "        X_train, X_test, Y_train, Y_test = self.random_split(dataset)\n",
    "\n",
    "        sqrt_scores = np.sqrt(-self.cross_validate(model, X_train, Y_train, score_measure=\"neg_mean_squared_error\", folds=10))\n",
    "        print(\n",
    "            \"RMSE-scores: \", sqrt_scores,\n",
    "            \"RMSE-mean: \", sqrt_scores.mean(),\n",
    "            \"RMSE-std: \", sqrt_scores.std()\n",
    "        )"
   ],
   "metadata": {
    "collapsed": false
   }
  },
  {
   "cell_type": "markdown",
   "source": [
    "# **Declare the Palanthir-object on the input dataframe**"
   ],
   "metadata": {
    "collapsed": false
   }
  },
  {
   "cell_type": "code",
   "execution_count": 1045,
   "outputs": [],
   "source": [
    "dir = 'C:/Users/JesperFrederiksen/PycharmProjects/ML-code/datasets/housing/housing.csv'\n",
    "df = pd.read_csv(dir)"
   ],
   "metadata": {
    "collapsed": false
   }
  },
  {
   "cell_type": "code",
   "execution_count": 1046,
   "outputs": [],
   "source": [
    "pal = Palanthir(df,target_feature='ocean_proximity',init_test_size=0.2)"
   ],
   "metadata": {
    "collapsed": false
   }
  },
  {
   "cell_type": "code",
   "execution_count": 1048,
   "outputs": [
    {
     "data": {
      "text/plain": "numpy.ndarray"
     },
     "execution_count": 1048,
     "metadata": {},
     "output_type": "execute_result"
    }
   ],
   "source": [
    "from sklearn.impute import SimpleImputer\n",
    "from sklearn.pipeline import Pipeline\n",
    "from sklearn.preprocessing import MinMaxScaler\n",
    "pipeline = Pipeline([\n",
    "    ('impute',SimpleImputer()),\n",
    "    #('scale',MinMaxScaler()),\n",
    "    #('test',ClusterIdentifier(best_K=2))\n",
    "])\n",
    "pipeline_fitted = pipeline.fit_transform(pal.train_X)\n",
    "pipeline_fitted\n",
    "#type(pipeline_fitted)"
   ],
   "metadata": {
    "collapsed": false
   }
  },
  {
   "cell_type": "code",
   "execution_count": 1116,
   "outputs": [
    {
     "data": {
      "text/plain": "       impute__longitude  impute__latitude  impute__housing_median_age  \\\n14196            -117.03             32.71                        33.0   \n8267             -118.16             33.77                        49.0   \n17445            -120.48             34.66                         4.0   \n14265            -117.11             32.69                        36.0   \n2271             -119.80             36.78                        43.0   \n...                  ...               ...                         ...   \n11284            -117.96             33.78                        35.0   \n11964            -117.43             34.02                        33.0   \n5390             -118.38             34.03                        36.0   \n860              -121.96             37.58                        15.0   \n15795            -122.42             37.77                        52.0   \n\n       impute__total_rooms  impute__total_bedrooms  impute__population  \\\n14196               3126.0                   627.0              2300.0   \n8267                3382.0                   787.0              1314.0   \n17445               1897.0                   331.0               915.0   \n14265               1421.0                   367.0              1418.0   \n2271                2382.0                   431.0               874.0   \n...                    ...                     ...                 ...   \n11284               1330.0                   201.0               658.0   \n11964               3084.0                   570.0              1753.0   \n5390                2101.0                   569.0              1756.0   \n860                 3575.0                   597.0              1777.0   \n15795               4226.0                  1315.0              2619.0   \n\n       impute__households  impute__median_income  impute__median_house_value  \\\n14196               623.0                 3.2596                    103000.0   \n8267                756.0                 3.8125                    382100.0   \n17445               336.0                 4.1563                    172600.0   \n14265               355.0                 1.9425                     93400.0   \n2271                380.0                 3.5542                     96500.0   \n...                   ...                    ...                         ...   \n11284               217.0                 6.3700                    229200.0   \n11964               449.0                 3.0500                     97800.0   \n5390                527.0                 2.9344                    222100.0   \n860                 559.0                 5.7192                    283500.0   \n15795              1242.0                 2.5755                    325000.0   \n\n       scale__longitude  scale__latitude  scale__housing_median_age  \\\n14196          0.729084         0.017021                   0.627451   \n8267           0.616534         0.129787                   0.941176   \n17445          0.385458         0.224468                   0.058824   \n14265          0.721116         0.014894                   0.686275   \n2271           0.453187         0.450000                   0.823529   \n...                 ...              ...                        ...   \n11284          0.636454         0.130851                   0.666667   \n11964          0.689243         0.156383                   0.627451   \n5390           0.594622         0.157447                   0.686275   \n860            0.238048         0.535106                   0.274510   \n15795          0.192231         0.555319                   1.000000   \n\n       scale__total_rooms  scale__total_bedrooms  scale__population  \\\n14196            0.079455               0.097145           0.064380   \n8267             0.085966               0.121974           0.036744   \n17445            0.048197               0.051210           0.025561   \n14265            0.036090               0.056797           0.039659   \n2271             0.060532               0.066729           0.024412   \n...                   ...                    ...                ...   \n11284            0.033776               0.031037           0.018358   \n11964            0.078386               0.088299           0.049048   \n5390             0.053385               0.088144           0.049133   \n860              0.090874               0.092489           0.049721   \n15795            0.107432               0.203911           0.073320   \n\n       scale__households  scale__median_income  scale__median_house_value  \n14196           0.102286              0.190322                   0.181445  \n8267            0.124157              0.228452                   0.756906  \n17445           0.055090              0.252162                   0.324949  \n14265           0.058214              0.099488                   0.161651  \n2271            0.062325              0.210638                   0.168043  \n...                  ...                   ...                        ...  \n11284           0.035520              0.404829                   0.441650  \n11964           0.073672              0.175867                   0.170723  \n5390            0.086499              0.167894                   0.427011  \n860             0.091761              0.359947                   0.553608  \n15795           0.204078              0.143143                   0.639175  \n\n[16512 rows x 18 columns]",
      "text/html": "<div>\n<style scoped>\n    .dataframe tbody tr th:only-of-type {\n        vertical-align: middle;\n    }\n\n    .dataframe tbody tr th {\n        vertical-align: top;\n    }\n\n    .dataframe thead th {\n        text-align: right;\n    }\n</style>\n<table border=\"1\" class=\"dataframe\">\n  <thead>\n    <tr style=\"text-align: right;\">\n      <th></th>\n      <th>impute__longitude</th>\n      <th>impute__latitude</th>\n      <th>impute__housing_median_age</th>\n      <th>impute__total_rooms</th>\n      <th>impute__total_bedrooms</th>\n      <th>impute__population</th>\n      <th>impute__households</th>\n      <th>impute__median_income</th>\n      <th>impute__median_house_value</th>\n      <th>scale__longitude</th>\n      <th>scale__latitude</th>\n      <th>scale__housing_median_age</th>\n      <th>scale__total_rooms</th>\n      <th>scale__total_bedrooms</th>\n      <th>scale__population</th>\n      <th>scale__households</th>\n      <th>scale__median_income</th>\n      <th>scale__median_house_value</th>\n    </tr>\n  </thead>\n  <tbody>\n    <tr>\n      <th>14196</th>\n      <td>-117.03</td>\n      <td>32.71</td>\n      <td>33.0</td>\n      <td>3126.0</td>\n      <td>627.0</td>\n      <td>2300.0</td>\n      <td>623.0</td>\n      <td>3.2596</td>\n      <td>103000.0</td>\n      <td>0.729084</td>\n      <td>0.017021</td>\n      <td>0.627451</td>\n      <td>0.079455</td>\n      <td>0.097145</td>\n      <td>0.064380</td>\n      <td>0.102286</td>\n      <td>0.190322</td>\n      <td>0.181445</td>\n    </tr>\n    <tr>\n      <th>8267</th>\n      <td>-118.16</td>\n      <td>33.77</td>\n      <td>49.0</td>\n      <td>3382.0</td>\n      <td>787.0</td>\n      <td>1314.0</td>\n      <td>756.0</td>\n      <td>3.8125</td>\n      <td>382100.0</td>\n      <td>0.616534</td>\n      <td>0.129787</td>\n      <td>0.941176</td>\n      <td>0.085966</td>\n      <td>0.121974</td>\n      <td>0.036744</td>\n      <td>0.124157</td>\n      <td>0.228452</td>\n      <td>0.756906</td>\n    </tr>\n    <tr>\n      <th>17445</th>\n      <td>-120.48</td>\n      <td>34.66</td>\n      <td>4.0</td>\n      <td>1897.0</td>\n      <td>331.0</td>\n      <td>915.0</td>\n      <td>336.0</td>\n      <td>4.1563</td>\n      <td>172600.0</td>\n      <td>0.385458</td>\n      <td>0.224468</td>\n      <td>0.058824</td>\n      <td>0.048197</td>\n      <td>0.051210</td>\n      <td>0.025561</td>\n      <td>0.055090</td>\n      <td>0.252162</td>\n      <td>0.324949</td>\n    </tr>\n    <tr>\n      <th>14265</th>\n      <td>-117.11</td>\n      <td>32.69</td>\n      <td>36.0</td>\n      <td>1421.0</td>\n      <td>367.0</td>\n      <td>1418.0</td>\n      <td>355.0</td>\n      <td>1.9425</td>\n      <td>93400.0</td>\n      <td>0.721116</td>\n      <td>0.014894</td>\n      <td>0.686275</td>\n      <td>0.036090</td>\n      <td>0.056797</td>\n      <td>0.039659</td>\n      <td>0.058214</td>\n      <td>0.099488</td>\n      <td>0.161651</td>\n    </tr>\n    <tr>\n      <th>2271</th>\n      <td>-119.80</td>\n      <td>36.78</td>\n      <td>43.0</td>\n      <td>2382.0</td>\n      <td>431.0</td>\n      <td>874.0</td>\n      <td>380.0</td>\n      <td>3.5542</td>\n      <td>96500.0</td>\n      <td>0.453187</td>\n      <td>0.450000</td>\n      <td>0.823529</td>\n      <td>0.060532</td>\n      <td>0.066729</td>\n      <td>0.024412</td>\n      <td>0.062325</td>\n      <td>0.210638</td>\n      <td>0.168043</td>\n    </tr>\n    <tr>\n      <th>...</th>\n      <td>...</td>\n      <td>...</td>\n      <td>...</td>\n      <td>...</td>\n      <td>...</td>\n      <td>...</td>\n      <td>...</td>\n      <td>...</td>\n      <td>...</td>\n      <td>...</td>\n      <td>...</td>\n      <td>...</td>\n      <td>...</td>\n      <td>...</td>\n      <td>...</td>\n      <td>...</td>\n      <td>...</td>\n      <td>...</td>\n    </tr>\n    <tr>\n      <th>11284</th>\n      <td>-117.96</td>\n      <td>33.78</td>\n      <td>35.0</td>\n      <td>1330.0</td>\n      <td>201.0</td>\n      <td>658.0</td>\n      <td>217.0</td>\n      <td>6.3700</td>\n      <td>229200.0</td>\n      <td>0.636454</td>\n      <td>0.130851</td>\n      <td>0.666667</td>\n      <td>0.033776</td>\n      <td>0.031037</td>\n      <td>0.018358</td>\n      <td>0.035520</td>\n      <td>0.404829</td>\n      <td>0.441650</td>\n    </tr>\n    <tr>\n      <th>11964</th>\n      <td>-117.43</td>\n      <td>34.02</td>\n      <td>33.0</td>\n      <td>3084.0</td>\n      <td>570.0</td>\n      <td>1753.0</td>\n      <td>449.0</td>\n      <td>3.0500</td>\n      <td>97800.0</td>\n      <td>0.689243</td>\n      <td>0.156383</td>\n      <td>0.627451</td>\n      <td>0.078386</td>\n      <td>0.088299</td>\n      <td>0.049048</td>\n      <td>0.073672</td>\n      <td>0.175867</td>\n      <td>0.170723</td>\n    </tr>\n    <tr>\n      <th>5390</th>\n      <td>-118.38</td>\n      <td>34.03</td>\n      <td>36.0</td>\n      <td>2101.0</td>\n      <td>569.0</td>\n      <td>1756.0</td>\n      <td>527.0</td>\n      <td>2.9344</td>\n      <td>222100.0</td>\n      <td>0.594622</td>\n      <td>0.157447</td>\n      <td>0.686275</td>\n      <td>0.053385</td>\n      <td>0.088144</td>\n      <td>0.049133</td>\n      <td>0.086499</td>\n      <td>0.167894</td>\n      <td>0.427011</td>\n    </tr>\n    <tr>\n      <th>860</th>\n      <td>-121.96</td>\n      <td>37.58</td>\n      <td>15.0</td>\n      <td>3575.0</td>\n      <td>597.0</td>\n      <td>1777.0</td>\n      <td>559.0</td>\n      <td>5.7192</td>\n      <td>283500.0</td>\n      <td>0.238048</td>\n      <td>0.535106</td>\n      <td>0.274510</td>\n      <td>0.090874</td>\n      <td>0.092489</td>\n      <td>0.049721</td>\n      <td>0.091761</td>\n      <td>0.359947</td>\n      <td>0.553608</td>\n    </tr>\n    <tr>\n      <th>15795</th>\n      <td>-122.42</td>\n      <td>37.77</td>\n      <td>52.0</td>\n      <td>4226.0</td>\n      <td>1315.0</td>\n      <td>2619.0</td>\n      <td>1242.0</td>\n      <td>2.5755</td>\n      <td>325000.0</td>\n      <td>0.192231</td>\n      <td>0.555319</td>\n      <td>1.000000</td>\n      <td>0.107432</td>\n      <td>0.203911</td>\n      <td>0.073320</td>\n      <td>0.204078</td>\n      <td>0.143143</td>\n      <td>0.639175</td>\n    </tr>\n  </tbody>\n</table>\n<p>16512 rows × 18 columns</p>\n</div>"
     },
     "execution_count": 1116,
     "metadata": {},
     "output_type": "execute_result"
    }
   ],
   "source": [
    "from sklearn.impute import SimpleImputer\n",
    "from sklearn.pipeline import Pipeline, FeatureUnion\n",
    "from sklearn.compose import ColumnTransformer, make_column_selector\n",
    "from sklearn.preprocessing import MinMaxScaler\n",
    "pipeline = ColumnTransformer(\n",
    "    [\n",
    "        ('impute',SimpleImputer(),pal.features_num),\n",
    "        ('scale',MinMaxScaler(),pal.features_num),#),\n",
    "        #('test',ClusterIdentifier(best_K=2),pal.features_num)\n",
    "    ]#,verbose_feature_names_out=False\n",
    "    #,remainder='passthrough'\n",
    ").set_output(transform='pandas')\n",
    "pipeline_fitted = pipeline.fit_transform(pal.train_X)\n",
    "pipeline_fitted\n",
    "#type(pipeline_fitted)\n",
    "#pipeline.get_feature_names_out()"
   ],
   "metadata": {
    "collapsed": false
   }
  },
  {
   "cell_type": "code",
   "execution_count": 1054,
   "outputs": [
    {
     "data": {
      "text/plain": "array(['impute__longitude', 'impute__latitude',\n       'impute__housing_median_age', 'impute__total_rooms',\n       'impute__total_bedrooms', 'impute__population',\n       'impute__households', 'impute__median_income',\n       'impute__median_house_value', 'scale__longitude',\n       'scale__latitude', 'scale__housing_median_age',\n       'scale__total_rooms', 'scale__total_bedrooms', 'scale__population',\n       'scale__households', 'scale__median_income',\n       'scale__median_house_value'], dtype=object)"
     },
     "execution_count": 1054,
     "metadata": {},
     "output_type": "execute_result"
    }
   ],
   "source": [
    "pipeline.get_feature_names_out()"
   ],
   "metadata": {
    "collapsed": false
   }
  },
  {
   "cell_type": "markdown",
   "source": [
    "# **Preliminary analysis**"
   ],
   "metadata": {
    "collapsed": false
   }
  },
  {
   "cell_type": "code",
   "execution_count": 999,
   "outputs": [
    {
     "name": "stdout",
     "output_type": "stream",
     "text": [
      "<class 'pandas.core.frame.DataFrame'>\n",
      "Int64Index: 16346 entries, 17727 to 15948\n",
      "Data columns (total 9 columns):\n",
      " #   Column              Non-Null Count  Dtype  \n",
      "---  ------              --------------  -----  \n",
      " 0   longitude           16346 non-null  float64\n",
      " 1   latitude            16346 non-null  float64\n",
      " 2   housing_median_age  16346 non-null  float64\n",
      " 3   total_rooms         16346 non-null  float64\n",
      " 4   total_bedrooms      16346 non-null  float64\n",
      " 5   population          16346 non-null  float64\n",
      " 6   households          16346 non-null  float64\n",
      " 7   median_income       16346 non-null  float64\n",
      " 8   median_house_value  16346 non-null  float64\n",
      "dtypes: float64(9)\n",
      "memory usage: 1.2 MB\n",
      "Info:  None \n",
      " Description:            longitude      latitude  housing_median_age   total_rooms  \\\n",
      "count  16346.000000  16346.000000        16346.000000  16346.000000   \n",
      "mean    -119.580513     35.640569           28.615013   2626.293466   \n",
      "std        2.005898      2.136181           12.577173   2153.306818   \n",
      "min     -124.350000     32.540000            1.000000      2.000000   \n",
      "25%     -121.810000     33.930000           18.000000   1450.000000   \n",
      "50%     -118.510000     34.260000           29.000000   2125.000000   \n",
      "75%     -118.010000     37.720000           37.000000   3131.750000   \n",
      "max     -114.470000     41.950000           52.000000  39320.000000   \n",
      "\n",
      "       total_bedrooms    population    households  median_income  \\\n",
      "count    16346.000000  16346.000000  16346.000000   16346.000000   \n",
      "mean       536.057751   1420.589991    497.613483       3.870697   \n",
      "std        417.470689   1129.376716    377.997450       1.897825   \n",
      "min          1.000000      3.000000      1.000000       0.499900   \n",
      "25%        295.250000    787.000000    280.000000       2.564550   \n",
      "50%        434.000000   1165.000000    408.000000       3.536650   \n",
      "75%        646.000000   1720.000000    603.000000       4.750000   \n",
      "max       6445.000000  35682.000000   6082.000000      15.000100   \n",
      "\n",
      "       median_house_value  \n",
      "count        16346.000000  \n",
      "mean        206644.400098  \n",
      "std         115055.153216  \n",
      "min          14999.000000  \n",
      "25%         119300.000000  \n",
      "50%         180100.000000  \n",
      "75%         263800.000000  \n",
      "max         500001.000000   \n",
      " Missing values:  longitude             0\n",
      "latitude              0\n",
      "housing_median_age    0\n",
      "total_rooms           0\n",
      "total_bedrooms        0\n",
      "population            0\n",
      "households            0\n",
      "median_income         0\n",
      "median_house_value    0\n",
      "dtype: int64\n"
     ]
    }
   ],
   "source": [
    "pal.summarize()"
   ],
   "metadata": {
    "collapsed": false
   }
  },
  {
   "cell_type": "code",
   "execution_count": 856,
   "outputs": [
    {
     "name": "stdout",
     "output_type": "stream",
     "text": [
      "Target-variable is set to: ['ocean_proximity'] \n",
      " Explanatory variables are set to: ['longitude', 'latitude', 'housing_median_age', 'total_rooms', 'total_bedrooms', 'population', 'households', 'median_income', 'median_house_value'] \n",
      "\n"
     ]
    }
   ],
   "source": [
    "print(\n",
    "    f\"Target-variable is set to: {pal.Y_col}\",\n",
    "    \"\\n\",\n",
    "    f\"Explanatory variables are set to: {pal.X_cols}\",\n",
    "    \"\\n\"\n",
    ")"
   ],
   "metadata": {
    "collapsed": false
   }
  },
  {
   "cell_type": "markdown",
   "source": [
    "# **Apply transformations**"
   ],
   "metadata": {
    "collapsed": false
   }
  },
  {
   "cell_type": "markdown",
   "source": [
    "## Fill out nulls"
   ],
   "metadata": {
    "collapsed": false
   }
  },
  {
   "cell_type": "code",
   "execution_count": 1011,
   "outputs": [
    {
     "data": {
      "text/plain": "       longitude  latitude  housing_median_age  total_rooms  total_bedrooms  \\\n17727    -121.80     37.32                14.0       4412.0           924.0   \n2057     -119.63     36.64                33.0       1036.0           181.0   \n6453     -118.06     34.12                25.0       3891.0           848.0   \n4619     -118.31     34.07                28.0       2362.0           949.0   \n15266    -117.27     33.04                27.0       1839.0           392.0   \n...          ...       ...                 ...          ...             ...   \n11397    -117.97     33.72                24.0       2991.0           500.0   \n12081    -117.54     33.76                 5.0       5846.0          1035.0   \n5447     -118.42     34.01                42.0       1594.0           369.0   \n866      -122.04     37.57                12.0       5719.0          1064.0   \n15948    -122.43     37.73                52.0       3602.0           738.0   \n\n       population  households  median_income  median_house_value  \n17727      2698.0       891.0         4.7027            227600.0  \n2057        620.0       174.0         3.4107            110400.0  \n6453       1848.0       759.0         3.6639            248100.0  \n4619       2759.0       894.0         2.2364            305600.0  \n15266      1302.0       404.0         3.5500            214600.0  \n...           ...         ...            ...                 ...  \n11397      1437.0       453.0         5.4286            273400.0  \n12081      3258.0      1001.0         4.7965            160800.0  \n5447        952.0       362.0         3.0990            335400.0  \n866        3436.0      1057.0         5.2879            231200.0  \n15948      2270.0       647.0         3.8934            251800.0  \n\n[16346 rows x 9 columns]",
      "text/html": "<div>\n<style scoped>\n    .dataframe tbody tr th:only-of-type {\n        vertical-align: middle;\n    }\n\n    .dataframe tbody tr th {\n        vertical-align: top;\n    }\n\n    .dataframe thead th {\n        text-align: right;\n    }\n</style>\n<table border=\"1\" class=\"dataframe\">\n  <thead>\n    <tr style=\"text-align: right;\">\n      <th></th>\n      <th>longitude</th>\n      <th>latitude</th>\n      <th>housing_median_age</th>\n      <th>total_rooms</th>\n      <th>total_bedrooms</th>\n      <th>population</th>\n      <th>households</th>\n      <th>median_income</th>\n      <th>median_house_value</th>\n    </tr>\n  </thead>\n  <tbody>\n    <tr>\n      <th>17727</th>\n      <td>-121.80</td>\n      <td>37.32</td>\n      <td>14.0</td>\n      <td>4412.0</td>\n      <td>924.0</td>\n      <td>2698.0</td>\n      <td>891.0</td>\n      <td>4.7027</td>\n      <td>227600.0</td>\n    </tr>\n    <tr>\n      <th>2057</th>\n      <td>-119.63</td>\n      <td>36.64</td>\n      <td>33.0</td>\n      <td>1036.0</td>\n      <td>181.0</td>\n      <td>620.0</td>\n      <td>174.0</td>\n      <td>3.4107</td>\n      <td>110400.0</td>\n    </tr>\n    <tr>\n      <th>6453</th>\n      <td>-118.06</td>\n      <td>34.12</td>\n      <td>25.0</td>\n      <td>3891.0</td>\n      <td>848.0</td>\n      <td>1848.0</td>\n      <td>759.0</td>\n      <td>3.6639</td>\n      <td>248100.0</td>\n    </tr>\n    <tr>\n      <th>4619</th>\n      <td>-118.31</td>\n      <td>34.07</td>\n      <td>28.0</td>\n      <td>2362.0</td>\n      <td>949.0</td>\n      <td>2759.0</td>\n      <td>894.0</td>\n      <td>2.2364</td>\n      <td>305600.0</td>\n    </tr>\n    <tr>\n      <th>15266</th>\n      <td>-117.27</td>\n      <td>33.04</td>\n      <td>27.0</td>\n      <td>1839.0</td>\n      <td>392.0</td>\n      <td>1302.0</td>\n      <td>404.0</td>\n      <td>3.5500</td>\n      <td>214600.0</td>\n    </tr>\n    <tr>\n      <th>...</th>\n      <td>...</td>\n      <td>...</td>\n      <td>...</td>\n      <td>...</td>\n      <td>...</td>\n      <td>...</td>\n      <td>...</td>\n      <td>...</td>\n      <td>...</td>\n    </tr>\n    <tr>\n      <th>11397</th>\n      <td>-117.97</td>\n      <td>33.72</td>\n      <td>24.0</td>\n      <td>2991.0</td>\n      <td>500.0</td>\n      <td>1437.0</td>\n      <td>453.0</td>\n      <td>5.4286</td>\n      <td>273400.0</td>\n    </tr>\n    <tr>\n      <th>12081</th>\n      <td>-117.54</td>\n      <td>33.76</td>\n      <td>5.0</td>\n      <td>5846.0</td>\n      <td>1035.0</td>\n      <td>3258.0</td>\n      <td>1001.0</td>\n      <td>4.7965</td>\n      <td>160800.0</td>\n    </tr>\n    <tr>\n      <th>5447</th>\n      <td>-118.42</td>\n      <td>34.01</td>\n      <td>42.0</td>\n      <td>1594.0</td>\n      <td>369.0</td>\n      <td>952.0</td>\n      <td>362.0</td>\n      <td>3.0990</td>\n      <td>335400.0</td>\n    </tr>\n    <tr>\n      <th>866</th>\n      <td>-122.04</td>\n      <td>37.57</td>\n      <td>12.0</td>\n      <td>5719.0</td>\n      <td>1064.0</td>\n      <td>3436.0</td>\n      <td>1057.0</td>\n      <td>5.2879</td>\n      <td>231200.0</td>\n    </tr>\n    <tr>\n      <th>15948</th>\n      <td>-122.43</td>\n      <td>37.73</td>\n      <td>52.0</td>\n      <td>3602.0</td>\n      <td>738.0</td>\n      <td>2270.0</td>\n      <td>647.0</td>\n      <td>3.8934</td>\n      <td>251800.0</td>\n    </tr>\n  </tbody>\n</table>\n<p>16346 rows × 9 columns</p>\n</div>"
     },
     "execution_count": 1011,
     "metadata": {},
     "output_type": "execute_result"
    }
   ],
   "source": [
    "pal.fill_nulls(strategy=\"median\")"
   ],
   "metadata": {
    "collapsed": false
   }
  },
  {
   "cell_type": "markdown",
   "source": [
    "## Scale numerical features"
   ],
   "metadata": {
    "collapsed": false
   }
  },
  {
   "cell_type": "code",
   "execution_count": 1012,
   "outputs": [
    {
     "data": {
      "text/plain": "array([[0.25809717, 0.50797024, 0.25490196, ..., 0.14635751, 0.28984428,\n        0.43835077],\n       [0.47773279, 0.4357067 , 0.62745098, ..., 0.02844927, 0.20074206,\n        0.19670228],\n       [0.63663968, 0.16790648, 0.47058824, ..., 0.12465055, 0.21820389,\n        0.48061864],\n       ...,\n       [0.60020243, 0.15621679, 0.80392157, ..., 0.05936524, 0.1792458 ,\n        0.66061789],\n       [0.23380567, 0.53453773, 0.21568627, ..., 0.17365565, 0.33020234,\n        0.44577342],\n       [0.19433198, 0.55154091, 1.        , ..., 0.10623253, 0.23403125,\n        0.48824747]])"
     },
     "execution_count": 1012,
     "metadata": {},
     "output_type": "execute_result"
    }
   ],
   "source": [
    "pal.scale(strategy=\"MinMax\")"
   ],
   "metadata": {
    "collapsed": false
   }
  },
  {
   "cell_type": "code",
   "execution_count": 1013,
   "outputs": [
    {
     "data": {
      "text/plain": "<Figure size 640x480 with 1 Axes>",
      "image/png": "[encoded data removed]"
     },
     "metadata": {},
     "output_type": "display_data"
    },
    {
     "name": "stdout",
     "output_type": "stream",
     "text": [
      "Best silhouette is obtained with k as:  2\n"
     ]
    },
    {
     "name": "stderr",
     "output_type": "stream",
     "text": [
      "C:\\Users\\JesperFrederiksen\\PycharmProjects\\ML-code\\venv\\Lib\\site-packages\\sklearn\\cluster\\_kmeans.py:870: FutureWarning: The default value of `n_init` will change from 10 to 'auto' in 1.4. Set the value of `n_init` explicitly to suppress the warning\n",
      "  warnings.warn(\n"
     ]
    },
    {
     "data": {
      "text/plain": "              0         1  cluster\n0      0.611226  0.331334        1\n1      0.420234  0.326435        1\n2      0.120909  0.567999        0\n3      0.241267  0.600119        0\n4      0.130502  0.688136        0\n...         ...       ...      ...\n16341  0.182792  0.623920        0\n16342  0.501244  0.790000        0\n16343  0.373051  0.661360        0\n16344  0.675174  0.392907        1\n16345  0.765887  0.480384        1\n\n[16346 rows x 3 columns]",
      "text/html": "<div>\n<style scoped>\n    .dataframe tbody tr th:only-of-type {\n        vertical-align: middle;\n    }\n\n    .dataframe tbody tr th {\n        vertical-align: top;\n    }\n\n    .dataframe thead th {\n        text-align: right;\n    }\n</style>\n<table border=\"1\" class=\"dataframe\">\n  <thead>\n    <tr style=\"text-align: right;\">\n      <th></th>\n      <th>0</th>\n      <th>1</th>\n      <th>cluster</th>\n    </tr>\n  </thead>\n  <tbody>\n    <tr>\n      <th>0</th>\n      <td>0.611226</td>\n      <td>0.331334</td>\n      <td>1</td>\n    </tr>\n    <tr>\n      <th>1</th>\n      <td>0.420234</td>\n      <td>0.326435</td>\n      <td>1</td>\n    </tr>\n    <tr>\n      <th>2</th>\n      <td>0.120909</td>\n      <td>0.567999</td>\n      <td>0</td>\n    </tr>\n    <tr>\n      <th>3</th>\n      <td>0.241267</td>\n      <td>0.600119</td>\n      <td>0</td>\n    </tr>\n    <tr>\n      <th>4</th>\n      <td>0.130502</td>\n      <td>0.688136</td>\n      <td>0</td>\n    </tr>\n    <tr>\n      <th>...</th>\n      <td>...</td>\n      <td>...</td>\n      <td>...</td>\n    </tr>\n    <tr>\n      <th>16341</th>\n      <td>0.182792</td>\n      <td>0.623920</td>\n      <td>0</td>\n    </tr>\n    <tr>\n      <th>16342</th>\n      <td>0.501244</td>\n      <td>0.790000</td>\n      <td>0</td>\n    </tr>\n    <tr>\n      <th>16343</th>\n      <td>0.373051</td>\n      <td>0.661360</td>\n      <td>0</td>\n    </tr>\n    <tr>\n      <th>16344</th>\n      <td>0.675174</td>\n      <td>0.392907</td>\n      <td>1</td>\n    </tr>\n    <tr>\n      <th>16345</th>\n      <td>0.765887</td>\n      <td>0.480384</td>\n      <td>1</td>\n    </tr>\n  </tbody>\n</table>\n<p>16346 rows × 3 columns</p>\n</div>"
     },
     "execution_count": 1013,
     "metadata": {},
     "output_type": "execute_result"
    }
   ],
   "source": [
    "pal.clusterV2()"
   ],
   "metadata": {
    "collapsed": false
   }
  },
  {
   "cell_type": "code",
   "execution_count": 1014,
   "outputs": [
    {
     "data": {
      "text/plain": "ColumnTransformer(transformers=[('impute', SimpleImputer(strategy='median'),\n                                 ['longitude', 'latitude', 'housing_median_age',\n                                  'total_rooms', 'total_bedrooms', 'population',\n                                  'households', 'median_income',\n                                  'median_house_value']),\n                                ('scaler', MinMaxScaler(),\n                                 ['longitude', 'latitude', 'housing_median_age',\n                                  'total_rooms', 'total_bedrooms', 'population',\n                                  'households', 'median_income',\n                                  'median_house_value']),\n                                ('Cluster-label', ClusterIdentifier(),\n                                 ['longitude', 'latitude', 'housing_median_age',\n                                  'total_rooms', 'total_bedrooms', 'population',\n                                  'households', 'median_income',\n                                  'median_house_value'])])",
      "text/html": "<style>#sk-container-id-66 {color: black;background-color: white;}#sk-container-id-66 pre{padding: 0;}#sk-container-id-66 div.sk-toggleable {background-color: white;}#sk-container-id-66 label.sk-toggleable__label {cursor: pointer;display: block;width: 100%;margin-bottom: 0;padding: 0.3em;box-sizing: border-box;text-align: center;}#sk-container-id-66 label.sk-toggleable__label-arrow:before {content: \"▸\";float: left;margin-right: 0.25em;color: #696969;}#sk-container-id-66 label.sk-toggleable__label-arrow:hover:before {color: black;}#sk-container-id-66 div.sk-estimator:hover label.sk-toggleable__label-arrow:before {color: black;}#sk-container-id-66 div.sk-toggleable__content {max-height: 0;max-width: 0;overflow: hidden;text-align: left;background-color: #f0f8ff;}#sk-container-id-66 div.sk-toggleable__content pre {margin: 0.2em;color: black;border-radius: 0.25em;background-color: #f0f8ff;}#sk-container-id-66 input.sk-toggleable__control:checked~div.sk-toggleable__content {max-height: 200px;max-width: 100%;overflow: auto;}#sk-container-id-66 input.sk-toggleable__control:checked~label.sk-toggleable__label-arrow:before {content: \"▾\";}#sk-container-id-66 div.sk-estimator input.sk-toggleable__control:checked~label.sk-toggleable__label {background-color: #d4ebff;}#sk-container-id-66 div.sk-label input.sk-toggleable__control:checked~label.sk-toggleable__label {background-color: #d4ebff;}#sk-container-id-66 input.sk-hidden--visually {border: 0;clip: rect(1px 1px 1px 1px);clip: rect(1px, 1px, 1px, 1px);height: 1px;margin: -1px;overflow: hidden;padding: 0;position: absolute;width: 1px;}#sk-container-id-66 div.sk-estimator {font-family: monospace;background-color: #f0f8ff;border: 1px dotted black;border-radius: 0.25em;box-sizing: border-box;margin-bottom: 0.5em;}#sk-container-id-66 div.sk-estimator:hover {background-color: #d4ebff;}#sk-container-id-66 div.sk-parallel-item::after {content: \"\";width: 100%;border-bottom: 1px solid gray;flex-grow: 1;}#sk-container-id-66 div.sk-label:hover label.sk-toggleable__label {background-color: #d4ebff;}#sk-container-id-66 div.sk-serial::before {content: \"\";position: absolute;border-left: 1px solid gray;box-sizing: border-box;top: 0;bottom: 0;left: 50%;z-index: 0;}#sk-container-id-66 div.sk-serial {display: flex;flex-direction: column;align-items: center;background-color: white;padding-right: 0.2em;padding-left: 0.2em;position: relative;}#sk-container-id-66 div.sk-item {position: relative;z-index: 1;}#sk-container-id-66 div.sk-parallel {display: flex;align-items: stretch;justify-content: center;background-color: white;position: relative;}#sk-container-id-66 div.sk-item::before, #sk-container-id-66 div.sk-parallel-item::before {content: \"\";position: absolute;border-left: 1px solid gray;box-sizing: border-box;top: 0;bottom: 0;left: 50%;z-index: -1;}#sk-container-id-66 div.sk-parallel-item {display: flex;flex-direction: column;z-index: 1;position: relative;background-color: white;}#sk-container-id-66 div.sk-parallel-item:first-child::after {align-self: flex-end;width: 50%;}#sk-container-id-66 div.sk-parallel-item:last-child::after {align-self: flex-start;width: 50%;}#sk-container-id-66 div.sk-parallel-item:only-child::after {width: 0;}#sk-container-id-66 div.sk-dashed-wrapped {border: 1px dashed gray;margin: 0 0.4em 0.5em 0.4em;box-sizing: border-box;padding-bottom: 0.4em;background-color: white;}#sk-container-id-66 div.sk-label label {font-family: monospace;font-weight: bold;display: inline-block;line-height: 1.2em;}#sk-container-id-66 div.sk-label-container {text-align: center;}#sk-container-id-66 div.sk-container {/* jupyter's `normalize.less` sets `[hidden] { display: none; }` but bootstrap.min.css set `[hidden] { display: none !important; }` so we also need the `!important` here to be able to override the default hidden behavior on the sphinx rendered scikit-learn.org. See: https://github.com/scikit-learn/scikit-learn/issues/21755 */display: inline-block !important;position: relative;}#sk-container-id-66 div.sk-text-repr-fallback {display: none;}</style><div id=\"sk-container-id-66\" class=\"sk-top-container\"><div class=\"sk-text-repr-fallback\"><pre>ColumnTransformer(transformers=[(&#x27;impute&#x27;, SimpleImputer(strategy=&#x27;median&#x27;),\n                                 [&#x27;longitude&#x27;, &#x27;latitude&#x27;, &#x27;housing_median_age&#x27;,\n                                  &#x27;total_rooms&#x27;, &#x27;total_bedrooms&#x27;, &#x27;population&#x27;,\n                                  &#x27;households&#x27;, &#x27;median_income&#x27;,\n                                  &#x27;median_house_value&#x27;]),\n                                (&#x27;scaler&#x27;, MinMaxScaler(),\n                                 [&#x27;longitude&#x27;, &#x27;latitude&#x27;, &#x27;housing_median_age&#x27;,\n                                  &#x27;total_rooms&#x27;, &#x27;total_bedrooms&#x27;, &#x27;population&#x27;,\n                                  &#x27;households&#x27;, &#x27;median_income&#x27;,\n                                  &#x27;median_house_value&#x27;]),\n                                (&#x27;Cluster-label&#x27;, ClusterIdentifier(),\n                                 [&#x27;longitude&#x27;, &#x27;latitude&#x27;, &#x27;housing_median_age&#x27;,\n                                  &#x27;total_rooms&#x27;, &#x27;total_bedrooms&#x27;, &#x27;population&#x27;,\n                                  &#x27;households&#x27;, &#x27;median_income&#x27;,\n                                  &#x27;median_house_value&#x27;])])</pre><b>In a Jupyter environment, please rerun this cell to show the HTML representation or trust the notebook. <br />On GitHub, the HTML representation is unable to render, please try loading this page with nbviewer.org.</b></div><div class=\"sk-container\" hidden><div class=\"sk-item sk-dashed-wrapped\"><div class=\"sk-label-container\"><div class=\"sk-label sk-toggleable\"><input class=\"sk-toggleable__control sk-hidden--visually\" id=\"sk-estimator-id-173\" type=\"checkbox\" ><label for=\"sk-estimator-id-173\" class=\"sk-toggleable__label sk-toggleable__label-arrow\">ColumnTransformer</label><div class=\"sk-toggleable__content\"><pre>ColumnTransformer(transformers=[(&#x27;impute&#x27;, SimpleImputer(strategy=&#x27;median&#x27;),\n                                 [&#x27;longitude&#x27;, &#x27;latitude&#x27;, &#x27;housing_median_age&#x27;,\n                                  &#x27;total_rooms&#x27;, &#x27;total_bedrooms&#x27;, &#x27;population&#x27;,\n                                  &#x27;households&#x27;, &#x27;median_income&#x27;,\n                                  &#x27;median_house_value&#x27;]),\n                                (&#x27;scaler&#x27;, MinMaxScaler(),\n                                 [&#x27;longitude&#x27;, &#x27;latitude&#x27;, &#x27;housing_median_age&#x27;,\n                                  &#x27;total_rooms&#x27;, &#x27;total_bedrooms&#x27;, &#x27;population&#x27;,\n                                  &#x27;households&#x27;, &#x27;median_income&#x27;,\n                                  &#x27;median_house_value&#x27;]),\n                                (&#x27;Cluster-label&#x27;, ClusterIdentifier(),\n                                 [&#x27;longitude&#x27;, &#x27;latitude&#x27;, &#x27;housing_median_age&#x27;,\n                                  &#x27;total_rooms&#x27;, &#x27;total_bedrooms&#x27;, &#x27;population&#x27;,\n                                  &#x27;households&#x27;, &#x27;median_income&#x27;,\n                                  &#x27;median_house_value&#x27;])])</pre></div></div></div><div class=\"sk-parallel\"><div class=\"sk-parallel-item\"><div class=\"sk-item\"><div class=\"sk-label-container\"><div class=\"sk-label sk-toggleable\"><input class=\"sk-toggleable__control sk-hidden--visually\" id=\"sk-estimator-id-174\" type=\"checkbox\" ><label for=\"sk-estimator-id-174\" class=\"sk-toggleable__label sk-toggleable__label-arrow\">impute</label><div class=\"sk-toggleable__content\"><pre>[&#x27;longitude&#x27;, &#x27;latitude&#x27;, &#x27;housing_median_age&#x27;, &#x27;total_rooms&#x27;, &#x27;total_bedrooms&#x27;, &#x27;population&#x27;, &#x27;households&#x27;, &#x27;median_income&#x27;, &#x27;median_house_value&#x27;]</pre></div></div></div><div class=\"sk-serial\"><div class=\"sk-item\"><div class=\"sk-estimator sk-toggleable\"><input class=\"sk-toggleable__control sk-hidden--visually\" id=\"sk-estimator-id-175\" type=\"checkbox\" ><label for=\"sk-estimator-id-175\" class=\"sk-toggleable__label sk-toggleable__label-arrow\">SimpleImputer</label><div class=\"sk-toggleable__content\"><pre>SimpleImputer(strategy=&#x27;median&#x27;)</pre></div></div></div></div></div></div><div class=\"sk-parallel-item\"><div class=\"sk-item\"><div class=\"sk-label-container\"><div class=\"sk-label sk-toggleable\"><input class=\"sk-toggleable__control sk-hidden--visually\" id=\"sk-estimator-id-176\" type=\"checkbox\" ><label for=\"sk-estimator-id-176\" class=\"sk-toggleable__label sk-toggleable__label-arrow\">scaler</label><div class=\"sk-toggleable__content\"><pre>[&#x27;longitude&#x27;, &#x27;latitude&#x27;, &#x27;housing_median_age&#x27;, &#x27;total_rooms&#x27;, &#x27;total_bedrooms&#x27;, &#x27;population&#x27;, &#x27;households&#x27;, &#x27;median_income&#x27;, &#x27;median_house_value&#x27;]</pre></div></div></div><div class=\"sk-serial\"><div class=\"sk-item\"><div class=\"sk-estimator sk-toggleable\"><input class=\"sk-toggleable__control sk-hidden--visually\" id=\"sk-estimator-id-177\" type=\"checkbox\" ><label for=\"sk-estimator-id-177\" class=\"sk-toggleable__label sk-toggleable__label-arrow\">MinMaxScaler</label><div class=\"sk-toggleable__content\"><pre>MinMaxScaler()</pre></div></div></div></div></div></div><div class=\"sk-parallel-item\"><div class=\"sk-item\"><div class=\"sk-label-container\"><div class=\"sk-label sk-toggleable\"><input class=\"sk-toggleable__control sk-hidden--visually\" id=\"sk-estimator-id-178\" type=\"checkbox\" ><label for=\"sk-estimator-id-178\" class=\"sk-toggleable__label sk-toggleable__label-arrow\">Cluster-label</label><div class=\"sk-toggleable__content\"><pre>[&#x27;longitude&#x27;, &#x27;latitude&#x27;, &#x27;housing_median_age&#x27;, &#x27;total_rooms&#x27;, &#x27;total_bedrooms&#x27;, &#x27;population&#x27;, &#x27;households&#x27;, &#x27;median_income&#x27;, &#x27;median_house_value&#x27;]</pre></div></div></div><div class=\"sk-serial\"><div class=\"sk-item\"><div class=\"sk-estimator sk-toggleable\"><input class=\"sk-toggleable__control sk-hidden--visually\" id=\"sk-estimator-id-179\" type=\"checkbox\" ><label for=\"sk-estimator-id-179\" class=\"sk-toggleable__label sk-toggleable__label-arrow\">ClusterIdentifier</label><div class=\"sk-toggleable__content\"><pre>ClusterIdentifier()</pre></div></div></div></div></div></div></div></div></div></div>"
     },
     "execution_count": 1014,
     "metadata": {},
     "output_type": "execute_result"
    }
   ],
   "source": [
    "pal.transformation_history[-1].get('pipeline')"
   ],
   "metadata": {
    "collapsed": false
   }
  },
  {
   "cell_type": "code",
   "execution_count": 1015,
   "outputs": [
    {
     "data": {
      "text/plain": "              0         1  cluster\n0      0.611226  0.331334        1\n1      0.420234  0.326435        1\n2      0.120909  0.567999        0\n3      0.241267  0.600119        0\n4      0.130502  0.688136        0\n...         ...       ...      ...\n16341  0.182792  0.623920        0\n16342  0.501244  0.790000        0\n16343  0.373051  0.661360        0\n16344  0.675174  0.392907        1\n16345  0.765887  0.480384        1\n\n[16346 rows x 3 columns]",
      "text/html": "<div>\n<style scoped>\n    .dataframe tbody tr th:only-of-type {\n        vertical-align: middle;\n    }\n\n    .dataframe tbody tr th {\n        vertical-align: top;\n    }\n\n    .dataframe thead th {\n        text-align: right;\n    }\n</style>\n<table border=\"1\" class=\"dataframe\">\n  <thead>\n    <tr style=\"text-align: right;\">\n      <th></th>\n      <th>0</th>\n      <th>1</th>\n      <th>cluster</th>\n    </tr>\n  </thead>\n  <tbody>\n    <tr>\n      <th>0</th>\n      <td>0.611226</td>\n      <td>0.331334</td>\n      <td>1</td>\n    </tr>\n    <tr>\n      <th>1</th>\n      <td>0.420234</td>\n      <td>0.326435</td>\n      <td>1</td>\n    </tr>\n    <tr>\n      <th>2</th>\n      <td>0.120909</td>\n      <td>0.567999</td>\n      <td>0</td>\n    </tr>\n    <tr>\n      <th>3</th>\n      <td>0.241267</td>\n      <td>0.600119</td>\n      <td>0</td>\n    </tr>\n    <tr>\n      <th>4</th>\n      <td>0.130502</td>\n      <td>0.688136</td>\n      <td>0</td>\n    </tr>\n    <tr>\n      <th>...</th>\n      <td>...</td>\n      <td>...</td>\n      <td>...</td>\n    </tr>\n    <tr>\n      <th>16341</th>\n      <td>0.182792</td>\n      <td>0.623920</td>\n      <td>0</td>\n    </tr>\n    <tr>\n      <th>16342</th>\n      <td>0.501244</td>\n      <td>0.790000</td>\n      <td>0</td>\n    </tr>\n    <tr>\n      <th>16343</th>\n      <td>0.373051</td>\n      <td>0.661360</td>\n      <td>0</td>\n    </tr>\n    <tr>\n      <th>16344</th>\n      <td>0.675174</td>\n      <td>0.392907</td>\n      <td>1</td>\n    </tr>\n    <tr>\n      <th>16345</th>\n      <td>0.765887</td>\n      <td>0.480384</td>\n      <td>1</td>\n    </tr>\n  </tbody>\n</table>\n<p>16346 rows × 3 columns</p>\n</div>"
     },
     "execution_count": 1015,
     "metadata": {},
     "output_type": "execute_result"
    }
   ],
   "source": [
    "pal.output"
   ],
   "metadata": {
    "collapsed": false
   }
  },
  {
   "cell_type": "code",
   "execution_count": 1016,
   "outputs": [
    {
     "data": {
      "text/plain": "       longitude  latitude  housing_median_age  total_rooms  total_bedrooms  \\\n14416    -117.24     32.79                20.0        961.0           278.0   \n16383    -121.29     38.01                 2.0       6403.0          1116.0   \n7731     -118.14     33.92                31.0       3731.0           853.0   \n1410     -122.07     37.94                30.0       1260.0           276.0   \n1335     -121.89     37.99                 4.0       2171.0           597.0   \n...          ...       ...                 ...          ...             ...   \n8291     -118.15     33.76                36.0       2916.0           785.0   \n6274     -117.95     34.03                33.0       1782.0           394.0   \n2997     -119.03     35.32                12.0       2721.0           549.0   \n13440    -117.42     34.08                28.0       2300.0           419.0   \n14797    -117.10     32.57                14.0       5058.0          1299.0   \n\n       population  households  median_income  median_house_value  \n14416       525.0       254.0         3.1838            245800.0  \n16383      3327.0       957.0         4.4871            137900.0  \n7731       2313.0       801.0         3.2237            218200.0  \n1410        707.0       221.0         2.8920            220800.0  \n1335        928.0       461.0         4.1016            170500.0  \n...           ...         ...            ...                 ...  \n8291       1183.0       749.0         3.5985            500001.0  \n6274       1517.0       376.0         3.3389            157900.0  \n2997       1294.0       523.0         2.5575            100200.0  \n13440      1312.0       444.0         3.4844            127700.0  \n14797      3662.0      1193.0         2.3253            133700.0  \n\n[4087 rows x 9 columns]",
      "text/html": "<div>\n<style scoped>\n    .dataframe tbody tr th:only-of-type {\n        vertical-align: middle;\n    }\n\n    .dataframe tbody tr th {\n        vertical-align: top;\n    }\n\n    .dataframe thead th {\n        text-align: right;\n    }\n</style>\n<table border=\"1\" class=\"dataframe\">\n  <thead>\n    <tr style=\"text-align: right;\">\n      <th></th>\n      <th>longitude</th>\n      <th>latitude</th>\n      <th>housing_median_age</th>\n      <th>total_rooms</th>\n      <th>total_bedrooms</th>\n      <th>population</th>\n      <th>households</th>\n      <th>median_income</th>\n      <th>median_house_value</th>\n    </tr>\n  </thead>\n  <tbody>\n    <tr>\n      <th>14416</th>\n      <td>-117.24</td>\n      <td>32.79</td>\n      <td>20.0</td>\n      <td>961.0</td>\n      <td>278.0</td>\n      <td>525.0</td>\n      <td>254.0</td>\n      <td>3.1838</td>\n      <td>245800.0</td>\n    </tr>\n    <tr>\n      <th>16383</th>\n      <td>-121.29</td>\n      <td>38.01</td>\n      <td>2.0</td>\n      <td>6403.0</td>\n      <td>1116.0</td>\n      <td>3327.0</td>\n      <td>957.0</td>\n      <td>4.4871</td>\n      <td>137900.0</td>\n    </tr>\n    <tr>\n      <th>7731</th>\n      <td>-118.14</td>\n      <td>33.92</td>\n      <td>31.0</td>\n      <td>3731.0</td>\n      <td>853.0</td>\n      <td>2313.0</td>\n      <td>801.0</td>\n      <td>3.2237</td>\n      <td>218200.0</td>\n    </tr>\n    <tr>\n      <th>1410</th>\n      <td>-122.07</td>\n      <td>37.94</td>\n      <td>30.0</td>\n      <td>1260.0</td>\n      <td>276.0</td>\n      <td>707.0</td>\n      <td>221.0</td>\n      <td>2.8920</td>\n      <td>220800.0</td>\n    </tr>\n    <tr>\n      <th>1335</th>\n      <td>-121.89</td>\n      <td>37.99</td>\n      <td>4.0</td>\n      <td>2171.0</td>\n      <td>597.0</td>\n      <td>928.0</td>\n      <td>461.0</td>\n      <td>4.1016</td>\n      <td>170500.0</td>\n    </tr>\n    <tr>\n      <th>...</th>\n      <td>...</td>\n      <td>...</td>\n      <td>...</td>\n      <td>...</td>\n      <td>...</td>\n      <td>...</td>\n      <td>...</td>\n      <td>...</td>\n      <td>...</td>\n    </tr>\n    <tr>\n      <th>8291</th>\n      <td>-118.15</td>\n      <td>33.76</td>\n      <td>36.0</td>\n      <td>2916.0</td>\n      <td>785.0</td>\n      <td>1183.0</td>\n      <td>749.0</td>\n      <td>3.5985</td>\n      <td>500001.0</td>\n    </tr>\n    <tr>\n      <th>6274</th>\n      <td>-117.95</td>\n      <td>34.03</td>\n      <td>33.0</td>\n      <td>1782.0</td>\n      <td>394.0</td>\n      <td>1517.0</td>\n      <td>376.0</td>\n      <td>3.3389</td>\n      <td>157900.0</td>\n    </tr>\n    <tr>\n      <th>2997</th>\n      <td>-119.03</td>\n      <td>35.32</td>\n      <td>12.0</td>\n      <td>2721.0</td>\n      <td>549.0</td>\n      <td>1294.0</td>\n      <td>523.0</td>\n      <td>2.5575</td>\n      <td>100200.0</td>\n    </tr>\n    <tr>\n      <th>13440</th>\n      <td>-117.42</td>\n      <td>34.08</td>\n      <td>28.0</td>\n      <td>2300.0</td>\n      <td>419.0</td>\n      <td>1312.0</td>\n      <td>444.0</td>\n      <td>3.4844</td>\n      <td>127700.0</td>\n    </tr>\n    <tr>\n      <th>14797</th>\n      <td>-117.10</td>\n      <td>32.57</td>\n      <td>14.0</td>\n      <td>5058.0</td>\n      <td>1299.0</td>\n      <td>3662.0</td>\n      <td>1193.0</td>\n      <td>2.3253</td>\n      <td>133700.0</td>\n    </tr>\n  </tbody>\n</table>\n<p>4087 rows × 9 columns</p>\n</div>"
     },
     "execution_count": 1016,
     "metadata": {},
     "output_type": "execute_result"
    }
   ],
   "source": [
    "pal.test_X"
   ],
   "metadata": {
    "collapsed": false
   }
  },
  {
   "cell_type": "code",
   "execution_count": 1017,
   "outputs": [
    {
     "data": {
      "text/plain": "array([[-1.17240000e+02,  3.27900000e+01,  2.00000000e+01, ...,\n         9.57229041e+04,  1.21202137e+05,  0.00000000e+00],\n       [-1.21290000e+02,  3.80100000e+01,  2.00000000e+00, ...,\n         1.29698352e+04,  2.29114866e+05,  0.00000000e+00],\n       [-1.18140000e+02,  3.39200000e+01,  3.10000000e+01, ...,\n         6.81244257e+04,  1.48785922e+05,  0.00000000e+00],\n       ...,\n       [-1.19030000e+02,  3.53200000e+01,  1.20000000e+01, ...,\n         4.98949865e+04,  2.66780914e+05,  0.00000000e+00],\n       [-1.17420000e+02,  3.40800000e+01,  2.80000000e+01, ...,\n         2.23955417e+04,  2.39281937e+05,  0.00000000e+00],\n       [-1.17100000e+02,  3.25700000e+01,  1.40000000e+01, ...,\n         1.67760433e+04,  2.33302927e+05,  0.00000000e+00]])"
     },
     "execution_count": 1017,
     "metadata": {},
     "output_type": "execute_result"
    }
   ],
   "source": [
    "pal.execute_pipeline()"
   ],
   "metadata": {
    "collapsed": false
   }
  },
  {
   "cell_type": "code",
   "execution_count": 1018,
   "outputs": [
    {
     "data": {
      "text/plain": "              0         1  cluster\n0      0.611226  0.331334        1\n1      0.420234  0.326435        1\n2      0.120909  0.567999        0\n3      0.241267  0.600119        0\n4      0.130502  0.688136        0\n...         ...       ...      ...\n16341  0.182792  0.623920        0\n16342  0.501244  0.790000        0\n16343  0.373051  0.661360        0\n16344  0.675174  0.392907        1\n16345  0.765887  0.480384        1\n\n[16346 rows x 3 columns]",
      "text/html": "<div>\n<style scoped>\n    .dataframe tbody tr th:only-of-type {\n        vertical-align: middle;\n    }\n\n    .dataframe tbody tr th {\n        vertical-align: top;\n    }\n\n    .dataframe thead th {\n        text-align: right;\n    }\n</style>\n<table border=\"1\" class=\"dataframe\">\n  <thead>\n    <tr style=\"text-align: right;\">\n      <th></th>\n      <th>0</th>\n      <th>1</th>\n      <th>cluster</th>\n    </tr>\n  </thead>\n  <tbody>\n    <tr>\n      <th>0</th>\n      <td>0.611226</td>\n      <td>0.331334</td>\n      <td>1</td>\n    </tr>\n    <tr>\n      <th>1</th>\n      <td>0.420234</td>\n      <td>0.326435</td>\n      <td>1</td>\n    </tr>\n    <tr>\n      <th>2</th>\n      <td>0.120909</td>\n      <td>0.567999</td>\n      <td>0</td>\n    </tr>\n    <tr>\n      <th>3</th>\n      <td>0.241267</td>\n      <td>0.600119</td>\n      <td>0</td>\n    </tr>\n    <tr>\n      <th>4</th>\n      <td>0.130502</td>\n      <td>0.688136</td>\n      <td>0</td>\n    </tr>\n    <tr>\n      <th>...</th>\n      <td>...</td>\n      <td>...</td>\n      <td>...</td>\n    </tr>\n    <tr>\n      <th>16341</th>\n      <td>0.182792</td>\n      <td>0.623920</td>\n      <td>0</td>\n    </tr>\n    <tr>\n      <th>16342</th>\n      <td>0.501244</td>\n      <td>0.790000</td>\n      <td>0</td>\n    </tr>\n    <tr>\n      <th>16343</th>\n      <td>0.373051</td>\n      <td>0.661360</td>\n      <td>0</td>\n    </tr>\n    <tr>\n      <th>16344</th>\n      <td>0.675174</td>\n      <td>0.392907</td>\n      <td>1</td>\n    </tr>\n    <tr>\n      <th>16345</th>\n      <td>0.765887</td>\n      <td>0.480384</td>\n      <td>1</td>\n    </tr>\n  </tbody>\n</table>\n<p>16346 rows × 3 columns</p>\n</div>"
     },
     "execution_count": 1018,
     "metadata": {},
     "output_type": "execute_result"
    }
   ],
   "source": [
    "pal.output"
   ],
   "metadata": {
    "collapsed": false
   }
  },
  {
   "cell_type": "code",
   "execution_count": 1019,
   "outputs": [
    {
     "data": {
      "text/plain": "array([[-1.17240000e+02,  3.27900000e+01,  2.00000000e+01, ...,\n         9.57229041e+04,  1.21202137e+05,  0.00000000e+00],\n       [-1.21290000e+02,  3.80100000e+01,  2.00000000e+00, ...,\n         1.29698352e+04,  2.29114866e+05,  0.00000000e+00],\n       [-1.18140000e+02,  3.39200000e+01,  3.10000000e+01, ...,\n         6.81244257e+04,  1.48785922e+05,  0.00000000e+00],\n       ...,\n       [-1.19030000e+02,  3.53200000e+01,  1.20000000e+01, ...,\n         4.98949865e+04,  2.66780914e+05,  0.00000000e+00],\n       [-1.17420000e+02,  3.40800000e+01,  2.80000000e+01, ...,\n         2.23955417e+04,  2.39281937e+05,  0.00000000e+00],\n       [-1.17100000e+02,  3.25700000e+01,  1.40000000e+01, ...,\n         1.67760433e+04,  2.33302927e+05,  0.00000000e+00]])"
     },
     "execution_count": 1019,
     "metadata": {},
     "output_type": "execute_result"
    }
   ],
   "source": [
    "pal.transformed_test"
   ],
   "metadata": {
    "collapsed": false
   }
  },
  {
   "cell_type": "code",
   "execution_count": 344,
   "outputs": [
    {
     "data": {
      "text/plain": "array([[0.53187251, 0.47058824, 0.03822677, ..., 0.0588719 , 0.08146784,\n        0.06742446],\n       [0.48705179, 0.56862745, 0.07480035, ..., 0.09587239, 0.14009462,\n        0.06350695],\n       [0.19023904, 1.        , 0.09735999, ..., 0.15819766, 0.2055282 ,\n        1.        ],\n       ...,\n       [0.22908367, 0.47058824, 0.10450684, ..., 0.09324124, 0.60205376,\n        1.        ],\n       [0.45717131, 0.68627451, 0.06371128, ..., 0.07778326, 0.15759093,\n        0.1181459 ],\n       [0.59561753, 0.31372549, 0.04539905, ..., 0.07350765, 0.21049365,\n        0.2814442 ]])"
     },
     "execution_count": 344,
     "metadata": {},
     "output_type": "execute_result"
    }
   ],
   "source": [
    "pal.execute_pipeline()"
   ],
   "metadata": {
    "collapsed": false
   }
  },
  {
   "cell_type": "code",
   "execution_count": 351,
   "outputs": [
    {
     "data": {
      "text/plain": "       longitude  housing_median_age  total_rooms  total_bedrooms  population  \\\n20046    -119.01                25.0       1505.0             NaN      1392.0   \n3024     -119.46                30.0       2943.0             NaN      1565.0   \n15663    -122.44                52.0       3830.0             NaN      1310.0   \n20484    -118.72                17.0       3051.0             NaN      1705.0   \n9814     -121.93                34.0       2351.0             NaN      1063.0   \n...          ...                 ...          ...             ...         ...   \n15362    -117.22                16.0       3165.0           482.0      1351.0   \n16623    -120.83                28.0       4323.0           886.0      1650.0   \n18086    -122.05                25.0       4111.0           538.0      1585.0   \n2144     -119.76                36.0       2507.0           466.0      1227.0   \n3665     -118.37                17.0       1787.0           463.0      1671.0   \n\n       households  median_income  median_house_value ocean_proximity  \n20046       359.0         1.6812             47700.0          INLAND  \n3024        584.0         2.5313             45800.0          INLAND  \n15663       963.0         3.4801            500001.0        NEAR BAY  \n20484       495.0         5.7376            218600.0       <1H OCEAN  \n9814        428.0         3.7250            278000.0      NEAR OCEAN  \n...           ...            ...                 ...             ...  \n15362       452.0         4.6050            263300.0       <1H OCEAN  \n16623       705.0         2.7266            266800.0      NEAR OCEAN  \n18086       568.0         9.2298            500001.0       <1H OCEAN  \n2144        474.0         2.7850             72300.0          INLAND  \n3665        448.0         3.5521            151500.0       <1H OCEAN  \n\n[4128 rows x 9 columns]",
      "text/html": "<div>\n<style scoped>\n    .dataframe tbody tr th:only-of-type {\n        vertical-align: middle;\n    }\n\n    .dataframe tbody tr th {\n        vertical-align: top;\n    }\n\n    .dataframe thead th {\n        text-align: right;\n    }\n</style>\n<table border=\"1\" class=\"dataframe\">\n  <thead>\n    <tr style=\"text-align: right;\">\n      <th></th>\n      <th>longitude</th>\n      <th>housing_median_age</th>\n      <th>total_rooms</th>\n      <th>total_bedrooms</th>\n      <th>population</th>\n      <th>households</th>\n      <th>median_income</th>\n      <th>median_house_value</th>\n      <th>ocean_proximity</th>\n    </tr>\n  </thead>\n  <tbody>\n    <tr>\n      <th>20046</th>\n      <td>-119.01</td>\n      <td>25.0</td>\n      <td>1505.0</td>\n      <td>NaN</td>\n      <td>1392.0</td>\n      <td>359.0</td>\n      <td>1.6812</td>\n      <td>47700.0</td>\n      <td>INLAND</td>\n    </tr>\n    <tr>\n      <th>3024</th>\n      <td>-119.46</td>\n      <td>30.0</td>\n      <td>2943.0</td>\n      <td>NaN</td>\n      <td>1565.0</td>\n      <td>584.0</td>\n      <td>2.5313</td>\n      <td>45800.0</td>\n      <td>INLAND</td>\n    </tr>\n    <tr>\n      <th>15663</th>\n      <td>-122.44</td>\n      <td>52.0</td>\n      <td>3830.0</td>\n      <td>NaN</td>\n      <td>1310.0</td>\n      <td>963.0</td>\n      <td>3.4801</td>\n      <td>500001.0</td>\n      <td>NEAR BAY</td>\n    </tr>\n    <tr>\n      <th>20484</th>\n      <td>-118.72</td>\n      <td>17.0</td>\n      <td>3051.0</td>\n      <td>NaN</td>\n      <td>1705.0</td>\n      <td>495.0</td>\n      <td>5.7376</td>\n      <td>218600.0</td>\n      <td>&lt;1H OCEAN</td>\n    </tr>\n    <tr>\n      <th>9814</th>\n      <td>-121.93</td>\n      <td>34.0</td>\n      <td>2351.0</td>\n      <td>NaN</td>\n      <td>1063.0</td>\n      <td>428.0</td>\n      <td>3.7250</td>\n      <td>278000.0</td>\n      <td>NEAR OCEAN</td>\n    </tr>\n    <tr>\n      <th>...</th>\n      <td>...</td>\n      <td>...</td>\n      <td>...</td>\n      <td>...</td>\n      <td>...</td>\n      <td>...</td>\n      <td>...</td>\n      <td>...</td>\n      <td>...</td>\n    </tr>\n    <tr>\n      <th>15362</th>\n      <td>-117.22</td>\n      <td>16.0</td>\n      <td>3165.0</td>\n      <td>482.0</td>\n      <td>1351.0</td>\n      <td>452.0</td>\n      <td>4.6050</td>\n      <td>263300.0</td>\n      <td>&lt;1H OCEAN</td>\n    </tr>\n    <tr>\n      <th>16623</th>\n      <td>-120.83</td>\n      <td>28.0</td>\n      <td>4323.0</td>\n      <td>886.0</td>\n      <td>1650.0</td>\n      <td>705.0</td>\n      <td>2.7266</td>\n      <td>266800.0</td>\n      <td>NEAR OCEAN</td>\n    </tr>\n    <tr>\n      <th>18086</th>\n      <td>-122.05</td>\n      <td>25.0</td>\n      <td>4111.0</td>\n      <td>538.0</td>\n      <td>1585.0</td>\n      <td>568.0</td>\n      <td>9.2298</td>\n      <td>500001.0</td>\n      <td>&lt;1H OCEAN</td>\n    </tr>\n    <tr>\n      <th>2144</th>\n      <td>-119.76</td>\n      <td>36.0</td>\n      <td>2507.0</td>\n      <td>466.0</td>\n      <td>1227.0</td>\n      <td>474.0</td>\n      <td>2.7850</td>\n      <td>72300.0</td>\n      <td>INLAND</td>\n    </tr>\n    <tr>\n      <th>3665</th>\n      <td>-118.37</td>\n      <td>17.0</td>\n      <td>1787.0</td>\n      <td>463.0</td>\n      <td>1671.0</td>\n      <td>448.0</td>\n      <td>3.5521</td>\n      <td>151500.0</td>\n      <td>&lt;1H OCEAN</td>\n    </tr>\n  </tbody>\n</table>\n<p>4128 rows × 9 columns</p>\n</div>"
     },
     "execution_count": 351,
     "metadata": {},
     "output_type": "execute_result"
    }
   ],
   "source": [
    "pal.test_X"
   ],
   "metadata": {
    "collapsed": false
   }
  },
  {
   "cell_type": "code",
   "execution_count": 352,
   "outputs": [
    {
     "data": {
      "text/plain": "array([[0.53187251, 0.47058824, 0.03822677, ..., 0.0588719 , 0.08146784,\n        0.06742446],\n       [0.48705179, 0.56862745, 0.07480035, ..., 0.09587239, 0.14009462,\n        0.06350695],\n       [0.19023904, 1.        , 0.09735999, ..., 0.15819766, 0.2055282 ,\n        1.        ],\n       ...,\n       [0.22908367, 0.47058824, 0.10450684, ..., 0.09324124, 0.60205376,\n        1.        ],\n       [0.45717131, 0.68627451, 0.06371128, ..., 0.07778326, 0.15759093,\n        0.1181459 ],\n       [0.59561753, 0.31372549, 0.04539905, ..., 0.07350765, 0.21049365,\n        0.2814442 ]])"
     },
     "execution_count": 352,
     "metadata": {},
     "output_type": "execute_result"
    }
   ],
   "source": [
    "pal.transformed_test"
   ],
   "metadata": {
    "collapsed": false
   }
  },
  {
   "cell_type": "code",
   "execution_count": 323,
   "outputs": [
    {
     "data": {
      "text/plain": "array([[0.53187251, 0.37340426, 0.47058824, ..., 0.0588719 , 0.08146784,\n        0.06742446],\n       [0.48705179, 0.27553191, 0.56862745, ..., 0.09587239, 0.14009462,\n        0.06350695],\n       [0.19023904, 0.55851064, 1.        , ..., 0.15819766, 0.2055282 ,\n        1.        ],\n       ...,\n       [0.22908367, 0.50638298, 0.47058824, ..., 0.09324124, 0.60205376,\n        1.        ],\n       [0.45717131, 0.44893617, 0.68627451, ..., 0.07778326, 0.15759093,\n        0.1181459 ],\n       [0.59561753, 0.17765957, 0.31372549, ..., 0.07350765, 0.21049365,\n        0.2814442 ]])"
     },
     "execution_count": 323,
     "metadata": {},
     "output_type": "execute_result"
    }
   ],
   "source": [
    "pal.execute_pipeline()"
   ],
   "metadata": {
    "collapsed": false
   }
  },
  {
   "cell_type": "code",
   "execution_count": 299,
   "outputs": [
    {
     "data": {
      "text/plain": "array([[0.53902185, 0.37971953, 0.47058824, ..., 0.06882591, 0.08146784,\n        0.06742446],\n       [0.49219563, 0.28047465, 0.56862745, ..., 0.11220359, 0.14009462,\n        0.06350695],\n       [0.18210198, 0.56742179, 1.        , ..., 0.18527087, 0.2055282 ,\n        1.        ],\n       ...,\n       [0.2226847 , 0.51456311, 0.47058824, ..., 0.10911895, 0.60205376,\n        1.        ],\n       [0.46097815, 0.45631068, 0.68627451, ..., 0.09099672, 0.15759093,\n        0.1181459 ],\n       [0.60561915, 0.18122977, 0.31372549, ..., 0.08598419, 0.21049365,\n        0.2814442 ]])"
     },
     "execution_count": 299,
     "metadata": {},
     "output_type": "execute_result"
    }
   ],
   "source": [
    "pal.transformed_testset"
   ],
   "metadata": {
    "collapsed": false
   }
  },
  {
   "cell_type": "code",
   "execution_count": 200,
   "outputs": [
    {
     "data": {
      "text/plain": "3"
     },
     "execution_count": 200,
     "metadata": {},
     "output_type": "execute_result"
    }
   ],
   "source": [
    "pal.current_version"
   ],
   "metadata": {
    "collapsed": false
   }
  },
  {
   "cell_type": "code",
   "execution_count": 201,
   "outputs": [
    {
     "data": {
      "text/plain": "{'version': 3,\n 'transformation': 'Encoded order of categorial features',\n 'result':        longitude  housing_median_age  total_rooms  total_bedrooms  population  \\\n 0       0.211155            0.784314     0.022331        0.019863    0.008941   \n 1       0.212151            0.392157     0.180503        0.171477    0.067210   \n 2       0.210159            1.000000     0.037260        0.029330    0.013818   \n 3       0.209163            1.000000     0.032352        0.036313    0.015555   \n 4       0.209163            1.000000     0.041330        0.043296    0.015752   \n ...          ...                 ...          ...             ...         ...   \n 20635   0.324701            0.470588     0.042296        0.057883    0.023599   \n 20636   0.312749            0.333333     0.017676        0.023122    0.009894   \n 20637   0.311753            0.313725     0.057277        0.075109    0.028140   \n 20638   0.301793            0.333333     0.047256        0.063315    0.020684   \n 20639   0.309761            0.294118     0.070782        0.095438    0.038790   \n \n        households  median_income  median_house_value  ocean_proximity  \n 0        0.020556       0.539668            0.902266              3.0  \n 1        0.186976       0.538027            0.708247              3.0  \n 2        0.028943       0.466028            0.695051              3.0  \n 3        0.035849       0.354699            0.672783              3.0  \n 4        0.042427       0.230776            0.674638              3.0  \n ...           ...            ...                 ...              ...  \n 20635    0.054103       0.073130            0.130105              1.0  \n 20636    0.018582       0.141853            0.128043              1.0  \n 20637    0.071041       0.082764            0.159383              1.0  \n 20638    0.057227       0.094295            0.143713              1.0  \n 20639    0.086992       0.130253            0.153403              1.0  \n \n [20640 rows x 9 columns],\n 'pipeline': ColumnTransformer(transformers=[('scaler', MinMaxScaler(),\n                                  ['longitude', 'housing_median_age',\n                                   'total_rooms', 'total_bedrooms', 'population',\n                                   'households', 'median_income',\n                                   'median_house_value']),\n                                 ('ordinal', OrdinalEncoder(),\n                                  ['ocean_proximity'])])}"
     },
     "execution_count": 201,
     "metadata": {},
     "output_type": "execute_result"
    }
   ],
   "source": [
    "pal.transformation_history[-1]"
   ],
   "metadata": {
    "collapsed": false
   }
  },
  {
   "cell_type": "code",
   "execution_count": 84,
   "outputs": [
    {
     "data": {
      "text/plain": "(       latitude  housing_median_age  total_rooms  total_bedrooms  population  \\\n 16490     38.00                27.0       1683.0           288.0       873.0   \n 6090      34.10                15.0       6409.0          1363.0      3359.0   \n 10973     33.76                26.0       2312.0           525.0      1273.0   \n 17287     34.35                34.0       1664.0           292.0       705.0   \n 12615     38.50                25.0       4719.0           745.0      1857.0   \n ...         ...                 ...          ...             ...         ...   \n 5606      33.79                16.0       1867.0           571.0       951.0   \n 16339     38.04                16.0       3295.0           565.0      2279.0   \n 14965     32.74                18.0       3341.0           611.0      1952.0   \n 11117     33.84                16.0       1545.0           354.0       730.0   \n 8472      33.91                35.0        940.0           197.0       640.0   \n \n        households  median_income  median_house_value  \n 16490       258.0         4.7069            176900.0  \n 6090       1267.0         3.8750            173300.0  \n 10973       437.0         2.8828            204700.0  \n 17287       257.0         5.0000            329400.0  \n 12615       739.0         5.0371            180200.0  \n ...           ...            ...                 ...  \n 5606        498.0         3.3427            154200.0  \n 16339       576.0         3.6083            146400.0  \n 14965       602.0         3.9844            215300.0  \n 11117       350.0         4.5112            139000.0  \n 8472        215.0         4.2000            181300.0  \n \n [13209 rows x 8 columns],\n        longitude\n 16490    -120.97\n 6090     -117.87\n 10973    -117.85\n 17287    -119.74\n 12615    -121.51\n ...          ...\n 5606     -118.29\n 16339    -121.34\n 14965    -116.99\n 11117    -117.87\n 8472     -118.32\n \n [13209 rows x 1 columns],\n        latitude  housing_median_age  total_rooms  total_bedrooms  population  \\\n 2071      36.74                35.0       1191.0           190.0       537.0   \n 2612      41.02                23.0       1672.0           385.0      1060.0   \n 10838     33.67                14.0       6224.0          1679.0      3148.0   \n 4061      34.15                10.0       1091.0           260.0       517.0   \n 10767     33.63                28.0       2370.0           352.0       832.0   \n ...         ...                 ...          ...             ...         ...   \n 18945     38.28                15.0       5114.0           833.0      2418.0   \n 6011      34.06                27.0       2178.0           629.0      2379.0   \n 10502     33.47                21.0       2208.0           534.0      1423.0   \n 14688     32.80                25.0       2963.0           552.0      1162.0   \n 11239     33.82                19.0       1199.0           251.0       730.0   \n \n        households  median_income  median_house_value  \n 2071        182.0         3.5375             96700.0  \n 2612        390.0         2.1726             75500.0  \n 10838      1589.0         4.2071            430900.0  \n 4061        266.0         4.1727            332600.0  \n 10767       347.0         7.1148            500001.0  \n ...           ...            ...                 ...  \n 18945       778.0         4.4882            144000.0  \n 6011        591.0         1.9766            108000.0  \n 10502       482.0         3.5915            305600.0  \n 14688       556.0         3.6250            184500.0  \n 11239       276.0         3.6422            209400.0  \n \n [3303 rows x 8 columns],\n        longitude\n 2071     -119.85\n 2612     -124.16\n 10838    -117.92\n 4061     -118.45\n 10767    -117.90\n ...          ...\n 18945    -122.03\n 6011     -117.77\n 10502    -117.70\n 14688    -117.08\n 11239    -117.96\n \n [3303 rows x 1 columns])"
     },
     "execution_count": 84,
     "metadata": {},
     "output_type": "execute_result"
    }
   ],
   "source": [
    "pal.random_split()"
   ],
   "metadata": {
    "collapsed": false
   }
  },
  {
   "cell_type": "code",
   "execution_count": 151,
   "outputs": [
    {
     "data": {
      "text/plain": "       longitude\n14196    -117.03\n8267     -118.16\n17445    -120.48\n14265    -117.11\n2271     -119.80\n...          ...\n11284    -117.96\n11964    -117.43\n5390     -118.38\n860      -121.96\n15795    -122.42\n\n[16512 rows x 1 columns]",
      "text/html": "<div>\n<style scoped>\n    .dataframe tbody tr th:only-of-type {\n        vertical-align: middle;\n    }\n\n    .dataframe tbody tr th {\n        vertical-align: top;\n    }\n\n    .dataframe thead th {\n        text-align: right;\n    }\n</style>\n<table border=\"1\" class=\"dataframe\">\n  <thead>\n    <tr style=\"text-align: right;\">\n      <th></th>\n      <th>longitude</th>\n    </tr>\n  </thead>\n  <tbody>\n    <tr>\n      <th>14196</th>\n      <td>-117.03</td>\n    </tr>\n    <tr>\n      <th>8267</th>\n      <td>-118.16</td>\n    </tr>\n    <tr>\n      <th>17445</th>\n      <td>-120.48</td>\n    </tr>\n    <tr>\n      <th>14265</th>\n      <td>-117.11</td>\n    </tr>\n    <tr>\n      <th>2271</th>\n      <td>-119.80</td>\n    </tr>\n    <tr>\n      <th>...</th>\n      <td>...</td>\n    </tr>\n    <tr>\n      <th>11284</th>\n      <td>-117.96</td>\n    </tr>\n    <tr>\n      <th>11964</th>\n      <td>-117.43</td>\n    </tr>\n    <tr>\n      <th>5390</th>\n      <td>-118.38</td>\n    </tr>\n    <tr>\n      <th>860</th>\n      <td>-121.96</td>\n    </tr>\n    <tr>\n      <th>15795</th>\n      <td>-122.42</td>\n    </tr>\n  </tbody>\n</table>\n<p>16512 rows × 1 columns</p>\n</div>"
     },
     "execution_count": 151,
     "metadata": {},
     "output_type": "execute_result"
    }
   ],
   "source": [
    "pal.train_Y"
   ],
   "metadata": {
    "collapsed": false
   }
  },
  {
   "cell_type": "code",
   "execution_count": 190,
   "outputs": [
    {
     "data": {
      "text/plain": "ColumnTransformer(transformers=[])",
      "text/html": "<style>#sk-container-id-1 {color: black;background-color: white;}#sk-container-id-1 pre{padding: 0;}#sk-container-id-1 div.sk-toggleable {background-color: white;}#sk-container-id-1 label.sk-toggleable__label {cursor: pointer;display: block;width: 100%;margin-bottom: 0;padding: 0.3em;box-sizing: border-box;text-align: center;}#sk-container-id-1 label.sk-toggleable__label-arrow:before {content: \"▸\";float: left;margin-right: 0.25em;color: #696969;}#sk-container-id-1 label.sk-toggleable__label-arrow:hover:before {color: black;}#sk-container-id-1 div.sk-estimator:hover label.sk-toggleable__label-arrow:before {color: black;}#sk-container-id-1 div.sk-toggleable__content {max-height: 0;max-width: 0;overflow: hidden;text-align: left;background-color: #f0f8ff;}#sk-container-id-1 div.sk-toggleable__content pre {margin: 0.2em;color: black;border-radius: 0.25em;background-color: #f0f8ff;}#sk-container-id-1 input.sk-toggleable__control:checked~div.sk-toggleable__content {max-height: 200px;max-width: 100%;overflow: auto;}#sk-container-id-1 input.sk-toggleable__control:checked~label.sk-toggleable__label-arrow:before {content: \"▾\";}#sk-container-id-1 div.sk-estimator input.sk-toggleable__control:checked~label.sk-toggleable__label {background-color: #d4ebff;}#sk-container-id-1 div.sk-label input.sk-toggleable__control:checked~label.sk-toggleable__label {background-color: #d4ebff;}#sk-container-id-1 input.sk-hidden--visually {border: 0;clip: rect(1px 1px 1px 1px);clip: rect(1px, 1px, 1px, 1px);height: 1px;margin: -1px;overflow: hidden;padding: 0;position: absolute;width: 1px;}#sk-container-id-1 div.sk-estimator {font-family: monospace;background-color: #f0f8ff;border: 1px dotted black;border-radius: 0.25em;box-sizing: border-box;margin-bottom: 0.5em;}#sk-container-id-1 div.sk-estimator:hover {background-color: #d4ebff;}#sk-container-id-1 div.sk-parallel-item::after {content: \"\";width: 100%;border-bottom: 1px solid gray;flex-grow: 1;}#sk-container-id-1 div.sk-label:hover label.sk-toggleable__label {background-color: #d4ebff;}#sk-container-id-1 div.sk-serial::before {content: \"\";position: absolute;border-left: 1px solid gray;box-sizing: border-box;top: 0;bottom: 0;left: 50%;z-index: 0;}#sk-container-id-1 div.sk-serial {display: flex;flex-direction: column;align-items: center;background-color: white;padding-right: 0.2em;padding-left: 0.2em;position: relative;}#sk-container-id-1 div.sk-item {position: relative;z-index: 1;}#sk-container-id-1 div.sk-parallel {display: flex;align-items: stretch;justify-content: center;background-color: white;position: relative;}#sk-container-id-1 div.sk-item::before, #sk-container-id-1 div.sk-parallel-item::before {content: \"\";position: absolute;border-left: 1px solid gray;box-sizing: border-box;top: 0;bottom: 0;left: 50%;z-index: -1;}#sk-container-id-1 div.sk-parallel-item {display: flex;flex-direction: column;z-index: 1;position: relative;background-color: white;}#sk-container-id-1 div.sk-parallel-item:first-child::after {align-self: flex-end;width: 50%;}#sk-container-id-1 div.sk-parallel-item:last-child::after {align-self: flex-start;width: 50%;}#sk-container-id-1 div.sk-parallel-item:only-child::after {width: 0;}#sk-container-id-1 div.sk-dashed-wrapped {border: 1px dashed gray;margin: 0 0.4em 0.5em 0.4em;box-sizing: border-box;padding-bottom: 0.4em;background-color: white;}#sk-container-id-1 div.sk-label label {font-family: monospace;font-weight: bold;display: inline-block;line-height: 1.2em;}#sk-container-id-1 div.sk-label-container {text-align: center;}#sk-container-id-1 div.sk-container {/* jupyter's `normalize.less` sets `[hidden] { display: none; }` but bootstrap.min.css set `[hidden] { display: none !important; }` so we also need the `!important` here to be able to override the default hidden behavior on the sphinx rendered scikit-learn.org. See: https://github.com/scikit-learn/scikit-learn/issues/21755 */display: inline-block !important;position: relative;}#sk-container-id-1 div.sk-text-repr-fallback {display: none;}</style><div id=\"sk-container-id-1\" class=\"sk-top-container\"><div class=\"sk-text-repr-fallback\"><pre>ColumnTransformer(transformers=[])</pre><b>In a Jupyter environment, please rerun this cell to show the HTML representation or trust the notebook. <br />On GitHub, the HTML representation is unable to render, please try loading this page with nbviewer.org.</b></div><div class=\"sk-container\" hidden><div class=\"sk-item\"><div class=\"sk-estimator sk-toggleable\"><input class=\"sk-toggleable__control sk-hidden--visually\" id=\"sk-estimator-id-1\" type=\"checkbox\" checked><label for=\"sk-estimator-id-1\" class=\"sk-toggleable__label sk-toggleable__label-arrow\">ColumnTransformer</label><div class=\"sk-toggleable__content\"><pre>ColumnTransformer(transformers=[])</pre></div></div></div></div></div>"
     },
     "execution_count": 190,
     "metadata": {},
     "output_type": "execute_result"
    }
   ],
   "source": [
    "pal.transformation_history[0].get('pipeline')"
   ],
   "metadata": {
    "collapsed": false
   }
  },
  {
   "cell_type": "code",
   "execution_count": 191,
   "outputs": [
    {
     "data": {
      "text/plain": "array([[0.21115538, 0.78431373, 0.02233074, ..., 0.02055583, 0.53966842,\n        0.90226638],\n       [0.21215139, 0.39215686, 0.18050257, ..., 0.18697583, 0.53802706,\n        0.70824656],\n       [0.21015936, 1.        , 0.03726029, ..., 0.02894261, 0.46602805,\n        0.69505074],\n       ...,\n       [0.31175299, 0.31372549, 0.05727657, ..., 0.07104095, 0.08276438,\n        0.15938285],\n       [0.30179283, 0.33333333, 0.04725571, ..., 0.05722743, 0.09429525,\n        0.14371281],\n       [0.30976096, 0.29411765, 0.07078183, ..., 0.08699227, 0.13025338,\n        0.15340349]])"
     },
     "execution_count": 191,
     "metadata": {},
     "output_type": "execute_result"
    }
   ],
   "source": [
    "pal.scale(strategy=\"MinMax\")"
   ],
   "metadata": {
    "collapsed": false
   }
  },
  {
   "cell_type": "code",
   "execution_count": 192,
   "outputs": [
    {
     "data": {
      "text/plain": "2"
     },
     "execution_count": 192,
     "metadata": {},
     "output_type": "execute_result"
    }
   ],
   "source": [
    "pal.current_version"
   ],
   "metadata": {
    "collapsed": false
   }
  },
  {
   "cell_type": "code",
   "execution_count": 193,
   "outputs": [
    {
     "data": {
      "text/plain": "ColumnTransformer(transformers=[('scaler', MinMaxScaler(),\n                                 ['longitude', 'housing_median_age',\n                                  'total_rooms', 'total_bedrooms', 'population',\n                                  'households', 'median_income',\n                                  'median_house_value'])])",
      "text/html": "<style>#sk-container-id-2 {color: black;background-color: white;}#sk-container-id-2 pre{padding: 0;}#sk-container-id-2 div.sk-toggleable {background-color: white;}#sk-container-id-2 label.sk-toggleable__label {cursor: pointer;display: block;width: 100%;margin-bottom: 0;padding: 0.3em;box-sizing: border-box;text-align: center;}#sk-container-id-2 label.sk-toggleable__label-arrow:before {content: \"▸\";float: left;margin-right: 0.25em;color: #696969;}#sk-container-id-2 label.sk-toggleable__label-arrow:hover:before {color: black;}#sk-container-id-2 div.sk-estimator:hover label.sk-toggleable__label-arrow:before {color: black;}#sk-container-id-2 div.sk-toggleable__content {max-height: 0;max-width: 0;overflow: hidden;text-align: left;background-color: #f0f8ff;}#sk-container-id-2 div.sk-toggleable__content pre {margin: 0.2em;color: black;border-radius: 0.25em;background-color: #f0f8ff;}#sk-container-id-2 input.sk-toggleable__control:checked~div.sk-toggleable__content {max-height: 200px;max-width: 100%;overflow: auto;}#sk-container-id-2 input.sk-toggleable__control:checked~label.sk-toggleable__label-arrow:before {content: \"▾\";}#sk-container-id-2 div.sk-estimator input.sk-toggleable__control:checked~label.sk-toggleable__label {background-color: #d4ebff;}#sk-container-id-2 div.sk-label input.sk-toggleable__control:checked~label.sk-toggleable__label {background-color: #d4ebff;}#sk-container-id-2 input.sk-hidden--visually {border: 0;clip: rect(1px 1px 1px 1px);clip: rect(1px, 1px, 1px, 1px);height: 1px;margin: -1px;overflow: hidden;padding: 0;position: absolute;width: 1px;}#sk-container-id-2 div.sk-estimator {font-family: monospace;background-color: #f0f8ff;border: 1px dotted black;border-radius: 0.25em;box-sizing: border-box;margin-bottom: 0.5em;}#sk-container-id-2 div.sk-estimator:hover {background-color: #d4ebff;}#sk-container-id-2 div.sk-parallel-item::after {content: \"\";width: 100%;border-bottom: 1px solid gray;flex-grow: 1;}#sk-container-id-2 div.sk-label:hover label.sk-toggleable__label {background-color: #d4ebff;}#sk-container-id-2 div.sk-serial::before {content: \"\";position: absolute;border-left: 1px solid gray;box-sizing: border-box;top: 0;bottom: 0;left: 50%;z-index: 0;}#sk-container-id-2 div.sk-serial {display: flex;flex-direction: column;align-items: center;background-color: white;padding-right: 0.2em;padding-left: 0.2em;position: relative;}#sk-container-id-2 div.sk-item {position: relative;z-index: 1;}#sk-container-id-2 div.sk-parallel {display: flex;align-items: stretch;justify-content: center;background-color: white;position: relative;}#sk-container-id-2 div.sk-item::before, #sk-container-id-2 div.sk-parallel-item::before {content: \"\";position: absolute;border-left: 1px solid gray;box-sizing: border-box;top: 0;bottom: 0;left: 50%;z-index: -1;}#sk-container-id-2 div.sk-parallel-item {display: flex;flex-direction: column;z-index: 1;position: relative;background-color: white;}#sk-container-id-2 div.sk-parallel-item:first-child::after {align-self: flex-end;width: 50%;}#sk-container-id-2 div.sk-parallel-item:last-child::after {align-self: flex-start;width: 50%;}#sk-container-id-2 div.sk-parallel-item:only-child::after {width: 0;}#sk-container-id-2 div.sk-dashed-wrapped {border: 1px dashed gray;margin: 0 0.4em 0.5em 0.4em;box-sizing: border-box;padding-bottom: 0.4em;background-color: white;}#sk-container-id-2 div.sk-label label {font-family: monospace;font-weight: bold;display: inline-block;line-height: 1.2em;}#sk-container-id-2 div.sk-label-container {text-align: center;}#sk-container-id-2 div.sk-container {/* jupyter's `normalize.less` sets `[hidden] { display: none; }` but bootstrap.min.css set `[hidden] { display: none !important; }` so we also need the `!important` here to be able to override the default hidden behavior on the sphinx rendered scikit-learn.org. See: https://github.com/scikit-learn/scikit-learn/issues/21755 */display: inline-block !important;position: relative;}#sk-container-id-2 div.sk-text-repr-fallback {display: none;}</style><div id=\"sk-container-id-2\" class=\"sk-top-container\"><div class=\"sk-text-repr-fallback\"><pre>ColumnTransformer(transformers=[(&#x27;scaler&#x27;, MinMaxScaler(),\n                                 [&#x27;longitude&#x27;, &#x27;housing_median_age&#x27;,\n                                  &#x27;total_rooms&#x27;, &#x27;total_bedrooms&#x27;, &#x27;population&#x27;,\n                                  &#x27;households&#x27;, &#x27;median_income&#x27;,\n                                  &#x27;median_house_value&#x27;])])</pre><b>In a Jupyter environment, please rerun this cell to show the HTML representation or trust the notebook. <br />On GitHub, the HTML representation is unable to render, please try loading this page with nbviewer.org.</b></div><div class=\"sk-container\" hidden><div class=\"sk-item sk-dashed-wrapped\"><div class=\"sk-label-container\"><div class=\"sk-label sk-toggleable\"><input class=\"sk-toggleable__control sk-hidden--visually\" id=\"sk-estimator-id-2\" type=\"checkbox\" ><label for=\"sk-estimator-id-2\" class=\"sk-toggleable__label sk-toggleable__label-arrow\">ColumnTransformer</label><div class=\"sk-toggleable__content\"><pre>ColumnTransformer(transformers=[(&#x27;scaler&#x27;, MinMaxScaler(),\n                                 [&#x27;longitude&#x27;, &#x27;housing_median_age&#x27;,\n                                  &#x27;total_rooms&#x27;, &#x27;total_bedrooms&#x27;, &#x27;population&#x27;,\n                                  &#x27;households&#x27;, &#x27;median_income&#x27;,\n                                  &#x27;median_house_value&#x27;])])</pre></div></div></div><div class=\"sk-parallel\"><div class=\"sk-parallel-item\"><div class=\"sk-item\"><div class=\"sk-label-container\"><div class=\"sk-label sk-toggleable\"><input class=\"sk-toggleable__control sk-hidden--visually\" id=\"sk-estimator-id-3\" type=\"checkbox\" ><label for=\"sk-estimator-id-3\" class=\"sk-toggleable__label sk-toggleable__label-arrow\">scaler</label><div class=\"sk-toggleable__content\"><pre>[&#x27;longitude&#x27;, &#x27;housing_median_age&#x27;, &#x27;total_rooms&#x27;, &#x27;total_bedrooms&#x27;, &#x27;population&#x27;, &#x27;households&#x27;, &#x27;median_income&#x27;, &#x27;median_house_value&#x27;]</pre></div></div></div><div class=\"sk-serial\"><div class=\"sk-item\"><div class=\"sk-estimator sk-toggleable\"><input class=\"sk-toggleable__control sk-hidden--visually\" id=\"sk-estimator-id-4\" type=\"checkbox\" ><label for=\"sk-estimator-id-4\" class=\"sk-toggleable__label sk-toggleable__label-arrow\">MinMaxScaler</label><div class=\"sk-toggleable__content\"><pre>MinMaxScaler()</pre></div></div></div></div></div></div></div></div></div></div>"
     },
     "execution_count": 193,
     "metadata": {},
     "output_type": "execute_result"
    }
   ],
   "source": [
    "pal.transformation_history[-1].get('pipeline')"
   ],
   "metadata": {
    "collapsed": false
   }
  },
  {
   "cell_type": "code",
   "execution_count": 53,
   "outputs": [
    {
     "data": {
      "text/plain": "       longitude  latitude  housing_median_age  total_rooms  total_bedrooms  \\\n14196   0.729084  0.017021            0.627451     0.079455        0.097145   \n8267    0.616534  0.129787            0.941176     0.085966        0.121974   \n17445   0.385458  0.224468            0.058824     0.048197        0.051210   \n14265   0.721116  0.014894            0.686275     0.036090        0.056797   \n2271    0.453187  0.450000            0.823529     0.060532        0.066729   \n...          ...       ...                 ...          ...             ...   \n11284   0.636454  0.130851            0.666667     0.033776        0.031037   \n11964   0.689243  0.156383            0.627451     0.078386        0.088299   \n5390    0.594622  0.157447            0.686275     0.053385        0.088144   \n860     0.238048  0.535106            0.274510     0.090874        0.092489   \n15795   0.192231  0.555319            1.000000     0.107432        0.203911   \n\n       population  households  median_income  median_house_value  \n14196    0.064380    0.102286       0.190322            0.181445  \n8267     0.036744    0.124157       0.228452            0.756906  \n17445    0.025561    0.055090       0.252162            0.324949  \n14265    0.039659    0.058214       0.099488            0.161651  \n2271     0.024412    0.062325       0.210638            0.168043  \n...           ...         ...            ...                 ...  \n11284    0.018358    0.035520       0.404829            0.441650  \n11964    0.049048    0.073672       0.175867            0.170723  \n5390     0.049133    0.086499       0.167894            0.427011  \n860      0.049721    0.091761       0.359947            0.553608  \n15795    0.073320    0.204078       0.143143            0.639175  \n\n[16512 rows x 9 columns]",
      "text/html": "<div>\n<style scoped>\n    .dataframe tbody tr th:only-of-type {\n        vertical-align: middle;\n    }\n\n    .dataframe tbody tr th {\n        vertical-align: top;\n    }\n\n    .dataframe thead th {\n        text-align: right;\n    }\n</style>\n<table border=\"1\" class=\"dataframe\">\n  <thead>\n    <tr style=\"text-align: right;\">\n      <th></th>\n      <th>longitude</th>\n      <th>latitude</th>\n      <th>housing_median_age</th>\n      <th>total_rooms</th>\n      <th>total_bedrooms</th>\n      <th>population</th>\n      <th>households</th>\n      <th>median_income</th>\n      <th>median_house_value</th>\n    </tr>\n  </thead>\n  <tbody>\n    <tr>\n      <th>14196</th>\n      <td>0.729084</td>\n      <td>0.017021</td>\n      <td>0.627451</td>\n      <td>0.079455</td>\n      <td>0.097145</td>\n      <td>0.064380</td>\n      <td>0.102286</td>\n      <td>0.190322</td>\n      <td>0.181445</td>\n    </tr>\n    <tr>\n      <th>8267</th>\n      <td>0.616534</td>\n      <td>0.129787</td>\n      <td>0.941176</td>\n      <td>0.085966</td>\n      <td>0.121974</td>\n      <td>0.036744</td>\n      <td>0.124157</td>\n      <td>0.228452</td>\n      <td>0.756906</td>\n    </tr>\n    <tr>\n      <th>17445</th>\n      <td>0.385458</td>\n      <td>0.224468</td>\n      <td>0.058824</td>\n      <td>0.048197</td>\n      <td>0.051210</td>\n      <td>0.025561</td>\n      <td>0.055090</td>\n      <td>0.252162</td>\n      <td>0.324949</td>\n    </tr>\n    <tr>\n      <th>14265</th>\n      <td>0.721116</td>\n      <td>0.014894</td>\n      <td>0.686275</td>\n      <td>0.036090</td>\n      <td>0.056797</td>\n      <td>0.039659</td>\n      <td>0.058214</td>\n      <td>0.099488</td>\n      <td>0.161651</td>\n    </tr>\n    <tr>\n      <th>2271</th>\n      <td>0.453187</td>\n      <td>0.450000</td>\n      <td>0.823529</td>\n      <td>0.060532</td>\n      <td>0.066729</td>\n      <td>0.024412</td>\n      <td>0.062325</td>\n      <td>0.210638</td>\n      <td>0.168043</td>\n    </tr>\n    <tr>\n      <th>...</th>\n      <td>...</td>\n      <td>...</td>\n      <td>...</td>\n      <td>...</td>\n      <td>...</td>\n      <td>...</td>\n      <td>...</td>\n      <td>...</td>\n      <td>...</td>\n    </tr>\n    <tr>\n      <th>11284</th>\n      <td>0.636454</td>\n      <td>0.130851</td>\n      <td>0.666667</td>\n      <td>0.033776</td>\n      <td>0.031037</td>\n      <td>0.018358</td>\n      <td>0.035520</td>\n      <td>0.404829</td>\n      <td>0.441650</td>\n    </tr>\n    <tr>\n      <th>11964</th>\n      <td>0.689243</td>\n      <td>0.156383</td>\n      <td>0.627451</td>\n      <td>0.078386</td>\n      <td>0.088299</td>\n      <td>0.049048</td>\n      <td>0.073672</td>\n      <td>0.175867</td>\n      <td>0.170723</td>\n    </tr>\n    <tr>\n      <th>5390</th>\n      <td>0.594622</td>\n      <td>0.157447</td>\n      <td>0.686275</td>\n      <td>0.053385</td>\n      <td>0.088144</td>\n      <td>0.049133</td>\n      <td>0.086499</td>\n      <td>0.167894</td>\n      <td>0.427011</td>\n    </tr>\n    <tr>\n      <th>860</th>\n      <td>0.238048</td>\n      <td>0.535106</td>\n      <td>0.274510</td>\n      <td>0.090874</td>\n      <td>0.092489</td>\n      <td>0.049721</td>\n      <td>0.091761</td>\n      <td>0.359947</td>\n      <td>0.553608</td>\n    </tr>\n    <tr>\n      <th>15795</th>\n      <td>0.192231</td>\n      <td>0.555319</td>\n      <td>1.000000</td>\n      <td>0.107432</td>\n      <td>0.203911</td>\n      <td>0.073320</td>\n      <td>0.204078</td>\n      <td>0.143143</td>\n      <td>0.639175</td>\n    </tr>\n  </tbody>\n</table>\n<p>16512 rows × 9 columns</p>\n</div>"
     },
     "execution_count": 53,
     "metadata": {},
     "output_type": "execute_result"
    }
   ],
   "source": [
    "pal.fill_nulls()"
   ],
   "metadata": {
    "collapsed": false
   }
  },
  {
   "cell_type": "code",
   "execution_count": 54,
   "outputs": [
    {
     "data": {
      "text/plain": "2"
     },
     "execution_count": 54,
     "metadata": {},
     "output_type": "execute_result"
    }
   ],
   "source": [
    "pal.current_version"
   ],
   "metadata": {
    "collapsed": false
   }
  },
  {
   "cell_type": "code",
   "execution_count": 55,
   "outputs": [
    {
     "data": {
      "text/plain": "ColumnTransformer(transformers=[('scaler', MinMaxScaler(),\n                                 ['longitude', 'latitude', 'housing_median_age',\n                                  'total_rooms', 'total_bedrooms', 'population',\n                                  'households', 'median_income',\n                                  'median_house_value']),\n                                ('impute', SimpleImputer(strategy='median'),\n                                 ['longitude', 'latitude', 'housing_median_age',\n                                  'total_rooms', 'total_bedrooms', 'population',\n                                  'households', 'median_income',\n                                  'median_house_value'])])",
      "text/html": "<style>#sk-container-id-3 {color: black;background-color: white;}#sk-container-id-3 pre{padding: 0;}#sk-container-id-3 div.sk-toggleable {background-color: white;}#sk-container-id-3 label.sk-toggleable__label {cursor: pointer;display: block;width: 100%;margin-bottom: 0;padding: 0.3em;box-sizing: border-box;text-align: center;}#sk-container-id-3 label.sk-toggleable__label-arrow:before {content: \"▸\";float: left;margin-right: 0.25em;color: #696969;}#sk-container-id-3 label.sk-toggleable__label-arrow:hover:before {color: black;}#sk-container-id-3 div.sk-estimator:hover label.sk-toggleable__label-arrow:before {color: black;}#sk-container-id-3 div.sk-toggleable__content {max-height: 0;max-width: 0;overflow: hidden;text-align: left;background-color: #f0f8ff;}#sk-container-id-3 div.sk-toggleable__content pre {margin: 0.2em;color: black;border-radius: 0.25em;background-color: #f0f8ff;}#sk-container-id-3 input.sk-toggleable__control:checked~div.sk-toggleable__content {max-height: 200px;max-width: 100%;overflow: auto;}#sk-container-id-3 input.sk-toggleable__control:checked~label.sk-toggleable__label-arrow:before {content: \"▾\";}#sk-container-id-3 div.sk-estimator input.sk-toggleable__control:checked~label.sk-toggleable__label {background-color: #d4ebff;}#sk-container-id-3 div.sk-label input.sk-toggleable__control:checked~label.sk-toggleable__label {background-color: #d4ebff;}#sk-container-id-3 input.sk-hidden--visually {border: 0;clip: rect(1px 1px 1px 1px);clip: rect(1px, 1px, 1px, 1px);height: 1px;margin: -1px;overflow: hidden;padding: 0;position: absolute;width: 1px;}#sk-container-id-3 div.sk-estimator {font-family: monospace;background-color: #f0f8ff;border: 1px dotted black;border-radius: 0.25em;box-sizing: border-box;margin-bottom: 0.5em;}#sk-container-id-3 div.sk-estimator:hover {background-color: #d4ebff;}#sk-container-id-3 div.sk-parallel-item::after {content: \"\";width: 100%;border-bottom: 1px solid gray;flex-grow: 1;}#sk-container-id-3 div.sk-label:hover label.sk-toggleable__label {background-color: #d4ebff;}#sk-container-id-3 div.sk-serial::before {content: \"\";position: absolute;border-left: 1px solid gray;box-sizing: border-box;top: 0;bottom: 0;left: 50%;z-index: 0;}#sk-container-id-3 div.sk-serial {display: flex;flex-direction: column;align-items: center;background-color: white;padding-right: 0.2em;padding-left: 0.2em;position: relative;}#sk-container-id-3 div.sk-item {position: relative;z-index: 1;}#sk-container-id-3 div.sk-parallel {display: flex;align-items: stretch;justify-content: center;background-color: white;position: relative;}#sk-container-id-3 div.sk-item::before, #sk-container-id-3 div.sk-parallel-item::before {content: \"\";position: absolute;border-left: 1px solid gray;box-sizing: border-box;top: 0;bottom: 0;left: 50%;z-index: -1;}#sk-container-id-3 div.sk-parallel-item {display: flex;flex-direction: column;z-index: 1;position: relative;background-color: white;}#sk-container-id-3 div.sk-parallel-item:first-child::after {align-self: flex-end;width: 50%;}#sk-container-id-3 div.sk-parallel-item:last-child::after {align-self: flex-start;width: 50%;}#sk-container-id-3 div.sk-parallel-item:only-child::after {width: 0;}#sk-container-id-3 div.sk-dashed-wrapped {border: 1px dashed gray;margin: 0 0.4em 0.5em 0.4em;box-sizing: border-box;padding-bottom: 0.4em;background-color: white;}#sk-container-id-3 div.sk-label label {font-family: monospace;font-weight: bold;display: inline-block;line-height: 1.2em;}#sk-container-id-3 div.sk-label-container {text-align: center;}#sk-container-id-3 div.sk-container {/* jupyter's `normalize.less` sets `[hidden] { display: none; }` but bootstrap.min.css set `[hidden] { display: none !important; }` so we also need the `!important` here to be able to override the default hidden behavior on the sphinx rendered scikit-learn.org. See: https://github.com/scikit-learn/scikit-learn/issues/21755 */display: inline-block !important;position: relative;}#sk-container-id-3 div.sk-text-repr-fallback {display: none;}</style><div id=\"sk-container-id-3\" class=\"sk-top-container\"><div class=\"sk-text-repr-fallback\"><pre>ColumnTransformer(transformers=[(&#x27;scaler&#x27;, MinMaxScaler(),\n                                 [&#x27;longitude&#x27;, &#x27;latitude&#x27;, &#x27;housing_median_age&#x27;,\n                                  &#x27;total_rooms&#x27;, &#x27;total_bedrooms&#x27;, &#x27;population&#x27;,\n                                  &#x27;households&#x27;, &#x27;median_income&#x27;,\n                                  &#x27;median_house_value&#x27;]),\n                                (&#x27;impute&#x27;, SimpleImputer(strategy=&#x27;median&#x27;),\n                                 [&#x27;longitude&#x27;, &#x27;latitude&#x27;, &#x27;housing_median_age&#x27;,\n                                  &#x27;total_rooms&#x27;, &#x27;total_bedrooms&#x27;, &#x27;population&#x27;,\n                                  &#x27;households&#x27;, &#x27;median_income&#x27;,\n                                  &#x27;median_house_value&#x27;])])</pre><b>In a Jupyter environment, please rerun this cell to show the HTML representation or trust the notebook. <br />On GitHub, the HTML representation is unable to render, please try loading this page with nbviewer.org.</b></div><div class=\"sk-container\" hidden><div class=\"sk-item sk-dashed-wrapped\"><div class=\"sk-label-container\"><div class=\"sk-label sk-toggleable\"><input class=\"sk-toggleable__control sk-hidden--visually\" id=\"sk-estimator-id-5\" type=\"checkbox\" ><label for=\"sk-estimator-id-5\" class=\"sk-toggleable__label sk-toggleable__label-arrow\">ColumnTransformer</label><div class=\"sk-toggleable__content\"><pre>ColumnTransformer(transformers=[(&#x27;scaler&#x27;, MinMaxScaler(),\n                                 [&#x27;longitude&#x27;, &#x27;latitude&#x27;, &#x27;housing_median_age&#x27;,\n                                  &#x27;total_rooms&#x27;, &#x27;total_bedrooms&#x27;, &#x27;population&#x27;,\n                                  &#x27;households&#x27;, &#x27;median_income&#x27;,\n                                  &#x27;median_house_value&#x27;]),\n                                (&#x27;impute&#x27;, SimpleImputer(strategy=&#x27;median&#x27;),\n                                 [&#x27;longitude&#x27;, &#x27;latitude&#x27;, &#x27;housing_median_age&#x27;,\n                                  &#x27;total_rooms&#x27;, &#x27;total_bedrooms&#x27;, &#x27;population&#x27;,\n                                  &#x27;households&#x27;, &#x27;median_income&#x27;,\n                                  &#x27;median_house_value&#x27;])])</pre></div></div></div><div class=\"sk-parallel\"><div class=\"sk-parallel-item\"><div class=\"sk-item\"><div class=\"sk-label-container\"><div class=\"sk-label sk-toggleable\"><input class=\"sk-toggleable__control sk-hidden--visually\" id=\"sk-estimator-id-6\" type=\"checkbox\" ><label for=\"sk-estimator-id-6\" class=\"sk-toggleable__label sk-toggleable__label-arrow\">scaler</label><div class=\"sk-toggleable__content\"><pre>[&#x27;longitude&#x27;, &#x27;latitude&#x27;, &#x27;housing_median_age&#x27;, &#x27;total_rooms&#x27;, &#x27;total_bedrooms&#x27;, &#x27;population&#x27;, &#x27;households&#x27;, &#x27;median_income&#x27;, &#x27;median_house_value&#x27;]</pre></div></div></div><div class=\"sk-serial\"><div class=\"sk-item\"><div class=\"sk-estimator sk-toggleable\"><input class=\"sk-toggleable__control sk-hidden--visually\" id=\"sk-estimator-id-7\" type=\"checkbox\" ><label for=\"sk-estimator-id-7\" class=\"sk-toggleable__label sk-toggleable__label-arrow\">MinMaxScaler</label><div class=\"sk-toggleable__content\"><pre>MinMaxScaler()</pre></div></div></div></div></div></div><div class=\"sk-parallel-item\"><div class=\"sk-item\"><div class=\"sk-label-container\"><div class=\"sk-label sk-toggleable\"><input class=\"sk-toggleable__control sk-hidden--visually\" id=\"sk-estimator-id-8\" type=\"checkbox\" ><label for=\"sk-estimator-id-8\" class=\"sk-toggleable__label sk-toggleable__label-arrow\">impute</label><div class=\"sk-toggleable__content\"><pre>[&#x27;longitude&#x27;, &#x27;latitude&#x27;, &#x27;housing_median_age&#x27;, &#x27;total_rooms&#x27;, &#x27;total_bedrooms&#x27;, &#x27;population&#x27;, &#x27;households&#x27;, &#x27;median_income&#x27;, &#x27;median_house_value&#x27;]</pre></div></div></div><div class=\"sk-serial\"><div class=\"sk-item\"><div class=\"sk-estimator sk-toggleable\"><input class=\"sk-toggleable__control sk-hidden--visually\" id=\"sk-estimator-id-9\" type=\"checkbox\" ><label for=\"sk-estimator-id-9\" class=\"sk-toggleable__label sk-toggleable__label-arrow\">SimpleImputer</label><div class=\"sk-toggleable__content\"><pre>SimpleImputer(strategy=&#x27;median&#x27;)</pre></div></div></div></div></div></div></div></div></div></div>"
     },
     "execution_count": 55,
     "metadata": {},
     "output_type": "execute_result"
    }
   ],
   "source": [
    "pal.transformation_history[-1].get('pipeline')"
   ],
   "metadata": {
    "collapsed": false
   }
  },
  {
   "cell_type": "code",
   "execution_count": 198,
   "outputs": [
    {
     "data": {
      "text/plain": "       ocean_proximity\n0                  3.0\n1                  3.0\n2                  3.0\n3                  3.0\n4                  3.0\n...                ...\n20635              1.0\n20636              1.0\n20637              1.0\n20638              1.0\n20639              1.0\n\n[20640 rows x 1 columns]",
      "text/html": "<div>\n<style scoped>\n    .dataframe tbody tr th:only-of-type {\n        vertical-align: middle;\n    }\n\n    .dataframe tbody tr th {\n        vertical-align: top;\n    }\n\n    .dataframe thead th {\n        text-align: right;\n    }\n</style>\n<table border=\"1\" class=\"dataframe\">\n  <thead>\n    <tr style=\"text-align: right;\">\n      <th></th>\n      <th>ocean_proximity</th>\n    </tr>\n  </thead>\n  <tbody>\n    <tr>\n      <th>0</th>\n      <td>3.0</td>\n    </tr>\n    <tr>\n      <th>1</th>\n      <td>3.0</td>\n    </tr>\n    <tr>\n      <th>2</th>\n      <td>3.0</td>\n    </tr>\n    <tr>\n      <th>3</th>\n      <td>3.0</td>\n    </tr>\n    <tr>\n      <th>4</th>\n      <td>3.0</td>\n    </tr>\n    <tr>\n      <th>...</th>\n      <td>...</td>\n    </tr>\n    <tr>\n      <th>20635</th>\n      <td>1.0</td>\n    </tr>\n    <tr>\n      <th>20636</th>\n      <td>1.0</td>\n    </tr>\n    <tr>\n      <th>20637</th>\n      <td>1.0</td>\n    </tr>\n    <tr>\n      <th>20638</th>\n      <td>1.0</td>\n    </tr>\n    <tr>\n      <th>20639</th>\n      <td>1.0</td>\n    </tr>\n  </tbody>\n</table>\n<p>20640 rows × 1 columns</p>\n</div>"
     },
     "execution_count": 198,
     "metadata": {},
     "output_type": "execute_result"
    }
   ],
   "source": [
    "pal.encode_order()"
   ],
   "metadata": {
    "collapsed": false
   }
  },
  {
   "cell_type": "code",
   "execution_count": 199,
   "outputs": [
    {
     "ename": "ValueError",
     "evalue": "Input X contains NaN.\nPCA does not accept missing values encoded as NaN natively. For supervised learning, you might want to consider sklearn.ensemble.HistGradientBoostingClassifier and Regressor which accept missing values encoded as NaNs natively. Alternatively, it is possible to preprocess the data, for instance by using an imputer transformer in a pipeline or drop samples with missing values. See https://scikit-learn.org/stable/modules/impute.html You can find a list of all estimators that handle NaN values at the following page: https://scikit-learn.org/stable/modules/impute.html#estimators-that-handle-nan-values",
     "output_type": "error",
     "traceback": [
      "\u001B[1;31m---------------------------------------------------------------------------\u001B[0m",
      "\u001B[1;31mValueError\u001B[0m                                Traceback (most recent call last)",
      "Cell \u001B[1;32mIn[199], line 1\u001B[0m\n\u001B[1;32m----> 1\u001B[0m \u001B[43mpal\u001B[49m\u001B[38;5;241;43m.\u001B[39;49m\u001B[43mPCA\u001B[49m\u001B[43m(\u001B[49m\u001B[43m)\u001B[49m\n",
      "Cell \u001B[1;32mIn[182], line 153\u001B[0m, in \u001B[0;36mPalanthir.PCA\u001B[1;34m(self, n_components, include_features, exclude_features, store)\u001B[0m\n\u001B[0;32m    151\u001B[0m dataset \u001B[38;5;241m=\u001B[39m \u001B[38;5;28mself\u001B[39m\u001B[38;5;241m.\u001B[39moutput[columns]\n\u001B[0;32m    152\u001B[0m \u001B[38;5;28;01mfrom\u001B[39;00m \u001B[38;5;21;01msklearn\u001B[39;00m\u001B[38;5;21;01m.\u001B[39;00m\u001B[38;5;21;01mdecomposition\u001B[39;00m \u001B[38;5;28;01mimport\u001B[39;00m PCA\n\u001B[1;32m--> 153\u001B[0m PCAtransformer \u001B[38;5;241m=\u001B[39m \u001B[43mPCA\u001B[49m\u001B[43m(\u001B[49m\u001B[43mn_components\u001B[49m\u001B[38;5;241;43m=\u001B[39;49m\u001B[43mn_components\u001B[49m\u001B[43m)\u001B[49m\u001B[38;5;241;43m.\u001B[39;49m\u001B[43mfit\u001B[49m\u001B[43m(\u001B[49m\u001B[43mdataset\u001B[49m\u001B[43m)\u001B[49m\n\u001B[0;32m    154\u001B[0m pca_data \u001B[38;5;241m=\u001B[39m PCAtransformer\u001B[38;5;241m.\u001B[39mtransform(dataset)\n\u001B[0;32m    155\u001B[0m output_df \u001B[38;5;241m=\u001B[39m pd\u001B[38;5;241m.\u001B[39mDataFrame(pca_data, columns\u001B[38;5;241m=\u001B[39m[\u001B[38;5;124m\"\u001B[39m\u001B[38;5;124mPCA_\u001B[39m\u001B[38;5;124m\"\u001B[39m \u001B[38;5;241m+\u001B[39m \u001B[38;5;28mstr\u001B[39m(col \u001B[38;5;241m+\u001B[39m \u001B[38;5;241m1\u001B[39m) \u001B[38;5;28;01mfor\u001B[39;00m col \u001B[38;5;129;01min\u001B[39;00m \u001B[38;5;28mrange\u001B[39m(pca_data\u001B[38;5;241m.\u001B[39mshape[\u001B[38;5;241m1\u001B[39m])],index\u001B[38;5;241m=\u001B[39mdataset\u001B[38;5;241m.\u001B[39mindex)\n",
      "File \u001B[1;32m~\\PycharmProjects\\ML-code\\venv\\Lib\\site-packages\\sklearn\\decomposition\\_pca.py:435\u001B[0m, in \u001B[0;36mPCA.fit\u001B[1;34m(self, X, y)\u001B[0m\n\u001B[0;32m    417\u001B[0m \u001B[38;5;250m\u001B[39m\u001B[38;5;124;03m\"\"\"Fit the model with X.\u001B[39;00m\n\u001B[0;32m    418\u001B[0m \n\u001B[0;32m    419\u001B[0m \u001B[38;5;124;03mParameters\u001B[39;00m\n\u001B[1;32m   (...)\u001B[0m\n\u001B[0;32m    431\u001B[0m \u001B[38;5;124;03m    Returns the instance itself.\u001B[39;00m\n\u001B[0;32m    432\u001B[0m \u001B[38;5;124;03m\"\"\"\u001B[39;00m\n\u001B[0;32m    433\u001B[0m \u001B[38;5;28mself\u001B[39m\u001B[38;5;241m.\u001B[39m_validate_params()\n\u001B[1;32m--> 435\u001B[0m \u001B[38;5;28;43mself\u001B[39;49m\u001B[38;5;241;43m.\u001B[39;49m\u001B[43m_fit\u001B[49m\u001B[43m(\u001B[49m\u001B[43mX\u001B[49m\u001B[43m)\u001B[49m\n\u001B[0;32m    436\u001B[0m \u001B[38;5;28;01mreturn\u001B[39;00m \u001B[38;5;28mself\u001B[39m\n",
      "File \u001B[1;32m~\\PycharmProjects\\ML-code\\venv\\Lib\\site-packages\\sklearn\\decomposition\\_pca.py:485\u001B[0m, in \u001B[0;36mPCA._fit\u001B[1;34m(self, X)\u001B[0m\n\u001B[0;32m    479\u001B[0m \u001B[38;5;28;01mif\u001B[39;00m issparse(X):\n\u001B[0;32m    480\u001B[0m     \u001B[38;5;28;01mraise\u001B[39;00m \u001B[38;5;167;01mTypeError\u001B[39;00m(\n\u001B[0;32m    481\u001B[0m         \u001B[38;5;124m\"\u001B[39m\u001B[38;5;124mPCA does not support sparse input. See \u001B[39m\u001B[38;5;124m\"\u001B[39m\n\u001B[0;32m    482\u001B[0m         \u001B[38;5;124m\"\u001B[39m\u001B[38;5;124mTruncatedSVD for a possible alternative.\u001B[39m\u001B[38;5;124m\"\u001B[39m\n\u001B[0;32m    483\u001B[0m     )\n\u001B[1;32m--> 485\u001B[0m X \u001B[38;5;241m=\u001B[39m \u001B[38;5;28;43mself\u001B[39;49m\u001B[38;5;241;43m.\u001B[39;49m\u001B[43m_validate_data\u001B[49m\u001B[43m(\u001B[49m\n\u001B[0;32m    486\u001B[0m \u001B[43m    \u001B[49m\u001B[43mX\u001B[49m\u001B[43m,\u001B[49m\u001B[43m \u001B[49m\u001B[43mdtype\u001B[49m\u001B[38;5;241;43m=\u001B[39;49m\u001B[43m[\u001B[49m\u001B[43mnp\u001B[49m\u001B[38;5;241;43m.\u001B[39;49m\u001B[43mfloat64\u001B[49m\u001B[43m,\u001B[49m\u001B[43m \u001B[49m\u001B[43mnp\u001B[49m\u001B[38;5;241;43m.\u001B[39;49m\u001B[43mfloat32\u001B[49m\u001B[43m]\u001B[49m\u001B[43m,\u001B[49m\u001B[43m \u001B[49m\u001B[43mensure_2d\u001B[49m\u001B[38;5;241;43m=\u001B[39;49m\u001B[38;5;28;43;01mTrue\u001B[39;49;00m\u001B[43m,\u001B[49m\u001B[43m \u001B[49m\u001B[43mcopy\u001B[49m\u001B[38;5;241;43m=\u001B[39;49m\u001B[38;5;28;43mself\u001B[39;49m\u001B[38;5;241;43m.\u001B[39;49m\u001B[43mcopy\u001B[49m\n\u001B[0;32m    487\u001B[0m \u001B[43m\u001B[49m\u001B[43m)\u001B[49m\n\u001B[0;32m    489\u001B[0m \u001B[38;5;66;03m# Handle n_components==None\u001B[39;00m\n\u001B[0;32m    490\u001B[0m \u001B[38;5;28;01mif\u001B[39;00m \u001B[38;5;28mself\u001B[39m\u001B[38;5;241m.\u001B[39mn_components \u001B[38;5;129;01mis\u001B[39;00m \u001B[38;5;28;01mNone\u001B[39;00m:\n",
      "File \u001B[1;32m~\\PycharmProjects\\ML-code\\venv\\Lib\\site-packages\\sklearn\\base.py:546\u001B[0m, in \u001B[0;36mBaseEstimator._validate_data\u001B[1;34m(self, X, y, reset, validate_separately, **check_params)\u001B[0m\n\u001B[0;32m    544\u001B[0m     \u001B[38;5;28;01mraise\u001B[39;00m \u001B[38;5;167;01mValueError\u001B[39;00m(\u001B[38;5;124m\"\u001B[39m\u001B[38;5;124mValidation should be done on X, y or both.\u001B[39m\u001B[38;5;124m\"\u001B[39m)\n\u001B[0;32m    545\u001B[0m \u001B[38;5;28;01melif\u001B[39;00m \u001B[38;5;129;01mnot\u001B[39;00m no_val_X \u001B[38;5;129;01mand\u001B[39;00m no_val_y:\n\u001B[1;32m--> 546\u001B[0m     X \u001B[38;5;241m=\u001B[39m \u001B[43mcheck_array\u001B[49m\u001B[43m(\u001B[49m\u001B[43mX\u001B[49m\u001B[43m,\u001B[49m\u001B[43m \u001B[49m\u001B[43minput_name\u001B[49m\u001B[38;5;241;43m=\u001B[39;49m\u001B[38;5;124;43m\"\u001B[39;49m\u001B[38;5;124;43mX\u001B[39;49m\u001B[38;5;124;43m\"\u001B[39;49m\u001B[43m,\u001B[49m\u001B[43m \u001B[49m\u001B[38;5;241;43m*\u001B[39;49m\u001B[38;5;241;43m*\u001B[39;49m\u001B[43mcheck_params\u001B[49m\u001B[43m)\u001B[49m\n\u001B[0;32m    547\u001B[0m     out \u001B[38;5;241m=\u001B[39m X\n\u001B[0;32m    548\u001B[0m \u001B[38;5;28;01melif\u001B[39;00m no_val_X \u001B[38;5;129;01mand\u001B[39;00m \u001B[38;5;129;01mnot\u001B[39;00m no_val_y:\n",
      "File \u001B[1;32m~\\PycharmProjects\\ML-code\\venv\\Lib\\site-packages\\sklearn\\utils\\validation.py:921\u001B[0m, in \u001B[0;36mcheck_array\u001B[1;34m(array, accept_sparse, accept_large_sparse, dtype, order, copy, force_all_finite, ensure_2d, allow_nd, ensure_min_samples, ensure_min_features, estimator, input_name)\u001B[0m\n\u001B[0;32m    915\u001B[0m         \u001B[38;5;28;01mraise\u001B[39;00m \u001B[38;5;167;01mValueError\u001B[39;00m(\n\u001B[0;32m    916\u001B[0m             \u001B[38;5;124m\"\u001B[39m\u001B[38;5;124mFound array with dim \u001B[39m\u001B[38;5;132;01m%d\u001B[39;00m\u001B[38;5;124m. \u001B[39m\u001B[38;5;132;01m%s\u001B[39;00m\u001B[38;5;124m expected <= 2.\u001B[39m\u001B[38;5;124m\"\u001B[39m\n\u001B[0;32m    917\u001B[0m             \u001B[38;5;241m%\u001B[39m (array\u001B[38;5;241m.\u001B[39mndim, estimator_name)\n\u001B[0;32m    918\u001B[0m         )\n\u001B[0;32m    920\u001B[0m     \u001B[38;5;28;01mif\u001B[39;00m force_all_finite:\n\u001B[1;32m--> 921\u001B[0m         \u001B[43m_assert_all_finite\u001B[49m\u001B[43m(\u001B[49m\n\u001B[0;32m    922\u001B[0m \u001B[43m            \u001B[49m\u001B[43marray\u001B[49m\u001B[43m,\u001B[49m\n\u001B[0;32m    923\u001B[0m \u001B[43m            \u001B[49m\u001B[43minput_name\u001B[49m\u001B[38;5;241;43m=\u001B[39;49m\u001B[43minput_name\u001B[49m\u001B[43m,\u001B[49m\n\u001B[0;32m    924\u001B[0m \u001B[43m            \u001B[49m\u001B[43mestimator_name\u001B[49m\u001B[38;5;241;43m=\u001B[39;49m\u001B[43mestimator_name\u001B[49m\u001B[43m,\u001B[49m\n\u001B[0;32m    925\u001B[0m \u001B[43m            \u001B[49m\u001B[43mallow_nan\u001B[49m\u001B[38;5;241;43m=\u001B[39;49m\u001B[43mforce_all_finite\u001B[49m\u001B[43m \u001B[49m\u001B[38;5;241;43m==\u001B[39;49m\u001B[43m \u001B[49m\u001B[38;5;124;43m\"\u001B[39;49m\u001B[38;5;124;43mallow-nan\u001B[39;49m\u001B[38;5;124;43m\"\u001B[39;49m\u001B[43m,\u001B[49m\n\u001B[0;32m    926\u001B[0m \u001B[43m        \u001B[49m\u001B[43m)\u001B[49m\n\u001B[0;32m    928\u001B[0m \u001B[38;5;28;01mif\u001B[39;00m ensure_min_samples \u001B[38;5;241m>\u001B[39m \u001B[38;5;241m0\u001B[39m:\n\u001B[0;32m    929\u001B[0m     n_samples \u001B[38;5;241m=\u001B[39m _num_samples(array)\n",
      "File \u001B[1;32m~\\PycharmProjects\\ML-code\\venv\\Lib\\site-packages\\sklearn\\utils\\validation.py:161\u001B[0m, in \u001B[0;36m_assert_all_finite\u001B[1;34m(X, allow_nan, msg_dtype, estimator_name, input_name)\u001B[0m\n\u001B[0;32m    144\u001B[0m \u001B[38;5;28;01mif\u001B[39;00m estimator_name \u001B[38;5;129;01mand\u001B[39;00m input_name \u001B[38;5;241m==\u001B[39m \u001B[38;5;124m\"\u001B[39m\u001B[38;5;124mX\u001B[39m\u001B[38;5;124m\"\u001B[39m \u001B[38;5;129;01mand\u001B[39;00m has_nan_error:\n\u001B[0;32m    145\u001B[0m     \u001B[38;5;66;03m# Improve the error message on how to handle missing values in\u001B[39;00m\n\u001B[0;32m    146\u001B[0m     \u001B[38;5;66;03m# scikit-learn.\u001B[39;00m\n\u001B[0;32m    147\u001B[0m     msg_err \u001B[38;5;241m+\u001B[39m\u001B[38;5;241m=\u001B[39m (\n\u001B[0;32m    148\u001B[0m         \u001B[38;5;124mf\u001B[39m\u001B[38;5;124m\"\u001B[39m\u001B[38;5;130;01m\\n\u001B[39;00m\u001B[38;5;132;01m{\u001B[39;00mestimator_name\u001B[38;5;132;01m}\u001B[39;00m\u001B[38;5;124m does not accept missing values\u001B[39m\u001B[38;5;124m\"\u001B[39m\n\u001B[0;32m    149\u001B[0m         \u001B[38;5;124m\"\u001B[39m\u001B[38;5;124m encoded as NaN natively. For supervised learning, you might want\u001B[39m\u001B[38;5;124m\"\u001B[39m\n\u001B[1;32m   (...)\u001B[0m\n\u001B[0;32m    159\u001B[0m         \u001B[38;5;124m\"\u001B[39m\u001B[38;5;124m#estimators-that-handle-nan-values\u001B[39m\u001B[38;5;124m\"\u001B[39m\n\u001B[0;32m    160\u001B[0m     )\n\u001B[1;32m--> 161\u001B[0m \u001B[38;5;28;01mraise\u001B[39;00m \u001B[38;5;167;01mValueError\u001B[39;00m(msg_err)\n",
      "\u001B[1;31mValueError\u001B[0m: Input X contains NaN.\nPCA does not accept missing values encoded as NaN natively. For supervised learning, you might want to consider sklearn.ensemble.HistGradientBoostingClassifier and Regressor which accept missing values encoded as NaNs natively. Alternatively, it is possible to preprocess the data, for instance by using an imputer transformer in a pipeline or drop samples with missing values. See https://scikit-learn.org/stable/modules/impute.html You can find a list of all estimators that handle NaN values at the following page: https://scikit-learn.org/stable/modules/impute.html#estimators-that-handle-nan-values"
     ]
    }
   ],
   "source": [
    "pal.PCA()"
   ],
   "metadata": {
    "collapsed": false
   }
  },
  {
   "cell_type": "code",
   "execution_count": 57,
   "outputs": [
    {
     "data": {
      "text/plain": "3"
     },
     "execution_count": 57,
     "metadata": {},
     "output_type": "execute_result"
    }
   ],
   "source": [
    "pal.current_version"
   ],
   "metadata": {
    "collapsed": false
   }
  },
  {
   "cell_type": "code",
   "execution_count": 58,
   "outputs": [
    {
     "data": {
      "text/plain": "ColumnTransformer(transformers=[('scaler', MinMaxScaler(),\n                                 ['longitude', 'latitude', 'housing_median_age',\n                                  'total_rooms', 'total_bedrooms', 'population',\n                                  'households', 'median_income',\n                                  'median_house_value']),\n                                ('impute', SimpleImputer(strategy='median'),\n                                 ['longitude', 'latitude', 'housing_median_age',\n                                  'total_rooms', 'total_bedrooms', 'population',\n                                  'households', 'median_income',\n                                  'median_house_value']),\n                                ('pca', PCA(n_components=0.8),\n                                 ['longitude', 'latitude', 'housing_median_age',\n                                  'total_rooms', 'total_bedrooms', 'population',\n                                  'households', 'median_income',\n                                  'median_house_value'])])",
      "text/html": "<style>#sk-container-id-4 {color: black;background-color: white;}#sk-container-id-4 pre{padding: 0;}#sk-container-id-4 div.sk-toggleable {background-color: white;}#sk-container-id-4 label.sk-toggleable__label {cursor: pointer;display: block;width: 100%;margin-bottom: 0;padding: 0.3em;box-sizing: border-box;text-align: center;}#sk-container-id-4 label.sk-toggleable__label-arrow:before {content: \"▸\";float: left;margin-right: 0.25em;color: #696969;}#sk-container-id-4 label.sk-toggleable__label-arrow:hover:before {color: black;}#sk-container-id-4 div.sk-estimator:hover label.sk-toggleable__label-arrow:before {color: black;}#sk-container-id-4 div.sk-toggleable__content {max-height: 0;max-width: 0;overflow: hidden;text-align: left;background-color: #f0f8ff;}#sk-container-id-4 div.sk-toggleable__content pre {margin: 0.2em;color: black;border-radius: 0.25em;background-color: #f0f8ff;}#sk-container-id-4 input.sk-toggleable__control:checked~div.sk-toggleable__content {max-height: 200px;max-width: 100%;overflow: auto;}#sk-container-id-4 input.sk-toggleable__control:checked~label.sk-toggleable__label-arrow:before {content: \"▾\";}#sk-container-id-4 div.sk-estimator input.sk-toggleable__control:checked~label.sk-toggleable__label {background-color: #d4ebff;}#sk-container-id-4 div.sk-label input.sk-toggleable__control:checked~label.sk-toggleable__label {background-color: #d4ebff;}#sk-container-id-4 input.sk-hidden--visually {border: 0;clip: rect(1px 1px 1px 1px);clip: rect(1px, 1px, 1px, 1px);height: 1px;margin: -1px;overflow: hidden;padding: 0;position: absolute;width: 1px;}#sk-container-id-4 div.sk-estimator {font-family: monospace;background-color: #f0f8ff;border: 1px dotted black;border-radius: 0.25em;box-sizing: border-box;margin-bottom: 0.5em;}#sk-container-id-4 div.sk-estimator:hover {background-color: #d4ebff;}#sk-container-id-4 div.sk-parallel-item::after {content: \"\";width: 100%;border-bottom: 1px solid gray;flex-grow: 1;}#sk-container-id-4 div.sk-label:hover label.sk-toggleable__label {background-color: #d4ebff;}#sk-container-id-4 div.sk-serial::before {content: \"\";position: absolute;border-left: 1px solid gray;box-sizing: border-box;top: 0;bottom: 0;left: 50%;z-index: 0;}#sk-container-id-4 div.sk-serial {display: flex;flex-direction: column;align-items: center;background-color: white;padding-right: 0.2em;padding-left: 0.2em;position: relative;}#sk-container-id-4 div.sk-item {position: relative;z-index: 1;}#sk-container-id-4 div.sk-parallel {display: flex;align-items: stretch;justify-content: center;background-color: white;position: relative;}#sk-container-id-4 div.sk-item::before, #sk-container-id-4 div.sk-parallel-item::before {content: \"\";position: absolute;border-left: 1px solid gray;box-sizing: border-box;top: 0;bottom: 0;left: 50%;z-index: -1;}#sk-container-id-4 div.sk-parallel-item {display: flex;flex-direction: column;z-index: 1;position: relative;background-color: white;}#sk-container-id-4 div.sk-parallel-item:first-child::after {align-self: flex-end;width: 50%;}#sk-container-id-4 div.sk-parallel-item:last-child::after {align-self: flex-start;width: 50%;}#sk-container-id-4 div.sk-parallel-item:only-child::after {width: 0;}#sk-container-id-4 div.sk-dashed-wrapped {border: 1px dashed gray;margin: 0 0.4em 0.5em 0.4em;box-sizing: border-box;padding-bottom: 0.4em;background-color: white;}#sk-container-id-4 div.sk-label label {font-family: monospace;font-weight: bold;display: inline-block;line-height: 1.2em;}#sk-container-id-4 div.sk-label-container {text-align: center;}#sk-container-id-4 div.sk-container {/* jupyter's `normalize.less` sets `[hidden] { display: none; }` but bootstrap.min.css set `[hidden] { display: none !important; }` so we also need the `!important` here to be able to override the default hidden behavior on the sphinx rendered scikit-learn.org. See: https://github.com/scikit-learn/scikit-learn/issues/21755 */display: inline-block !important;position: relative;}#sk-container-id-4 div.sk-text-repr-fallback {display: none;}</style><div id=\"sk-container-id-4\" class=\"sk-top-container\"><div class=\"sk-text-repr-fallback\"><pre>ColumnTransformer(transformers=[(&#x27;scaler&#x27;, MinMaxScaler(),\n                                 [&#x27;longitude&#x27;, &#x27;latitude&#x27;, &#x27;housing_median_age&#x27;,\n                                  &#x27;total_rooms&#x27;, &#x27;total_bedrooms&#x27;, &#x27;population&#x27;,\n                                  &#x27;households&#x27;, &#x27;median_income&#x27;,\n                                  &#x27;median_house_value&#x27;]),\n                                (&#x27;impute&#x27;, SimpleImputer(strategy=&#x27;median&#x27;),\n                                 [&#x27;longitude&#x27;, &#x27;latitude&#x27;, &#x27;housing_median_age&#x27;,\n                                  &#x27;total_rooms&#x27;, &#x27;total_bedrooms&#x27;, &#x27;population&#x27;,\n                                  &#x27;households&#x27;, &#x27;median_income&#x27;,\n                                  &#x27;median_house_value&#x27;]),\n                                (&#x27;pca&#x27;, PCA(n_components=0.8),\n                                 [&#x27;longitude&#x27;, &#x27;latitude&#x27;, &#x27;housing_median_age&#x27;,\n                                  &#x27;total_rooms&#x27;, &#x27;total_bedrooms&#x27;, &#x27;population&#x27;,\n                                  &#x27;households&#x27;, &#x27;median_income&#x27;,\n                                  &#x27;median_house_value&#x27;])])</pre><b>In a Jupyter environment, please rerun this cell to show the HTML representation or trust the notebook. <br />On GitHub, the HTML representation is unable to render, please try loading this page with nbviewer.org.</b></div><div class=\"sk-container\" hidden><div class=\"sk-item sk-dashed-wrapped\"><div class=\"sk-label-container\"><div class=\"sk-label sk-toggleable\"><input class=\"sk-toggleable__control sk-hidden--visually\" id=\"sk-estimator-id-10\" type=\"checkbox\" ><label for=\"sk-estimator-id-10\" class=\"sk-toggleable__label sk-toggleable__label-arrow\">ColumnTransformer</label><div class=\"sk-toggleable__content\"><pre>ColumnTransformer(transformers=[(&#x27;scaler&#x27;, MinMaxScaler(),\n                                 [&#x27;longitude&#x27;, &#x27;latitude&#x27;, &#x27;housing_median_age&#x27;,\n                                  &#x27;total_rooms&#x27;, &#x27;total_bedrooms&#x27;, &#x27;population&#x27;,\n                                  &#x27;households&#x27;, &#x27;median_income&#x27;,\n                                  &#x27;median_house_value&#x27;]),\n                                (&#x27;impute&#x27;, SimpleImputer(strategy=&#x27;median&#x27;),\n                                 [&#x27;longitude&#x27;, &#x27;latitude&#x27;, &#x27;housing_median_age&#x27;,\n                                  &#x27;total_rooms&#x27;, &#x27;total_bedrooms&#x27;, &#x27;population&#x27;,\n                                  &#x27;households&#x27;, &#x27;median_income&#x27;,\n                                  &#x27;median_house_value&#x27;]),\n                                (&#x27;pca&#x27;, PCA(n_components=0.8),\n                                 [&#x27;longitude&#x27;, &#x27;latitude&#x27;, &#x27;housing_median_age&#x27;,\n                                  &#x27;total_rooms&#x27;, &#x27;total_bedrooms&#x27;, &#x27;population&#x27;,\n                                  &#x27;households&#x27;, &#x27;median_income&#x27;,\n                                  &#x27;median_house_value&#x27;])])</pre></div></div></div><div class=\"sk-parallel\"><div class=\"sk-parallel-item\"><div class=\"sk-item\"><div class=\"sk-label-container\"><div class=\"sk-label sk-toggleable\"><input class=\"sk-toggleable__control sk-hidden--visually\" id=\"sk-estimator-id-11\" type=\"checkbox\" ><label for=\"sk-estimator-id-11\" class=\"sk-toggleable__label sk-toggleable__label-arrow\">scaler</label><div class=\"sk-toggleable__content\"><pre>[&#x27;longitude&#x27;, &#x27;latitude&#x27;, &#x27;housing_median_age&#x27;, &#x27;total_rooms&#x27;, &#x27;total_bedrooms&#x27;, &#x27;population&#x27;, &#x27;households&#x27;, &#x27;median_income&#x27;, &#x27;median_house_value&#x27;]</pre></div></div></div><div class=\"sk-serial\"><div class=\"sk-item\"><div class=\"sk-estimator sk-toggleable\"><input class=\"sk-toggleable__control sk-hidden--visually\" id=\"sk-estimator-id-12\" type=\"checkbox\" ><label for=\"sk-estimator-id-12\" class=\"sk-toggleable__label sk-toggleable__label-arrow\">MinMaxScaler</label><div class=\"sk-toggleable__content\"><pre>MinMaxScaler()</pre></div></div></div></div></div></div><div class=\"sk-parallel-item\"><div class=\"sk-item\"><div class=\"sk-label-container\"><div class=\"sk-label sk-toggleable\"><input class=\"sk-toggleable__control sk-hidden--visually\" id=\"sk-estimator-id-13\" type=\"checkbox\" ><label for=\"sk-estimator-id-13\" class=\"sk-toggleable__label sk-toggleable__label-arrow\">impute</label><div class=\"sk-toggleable__content\"><pre>[&#x27;longitude&#x27;, &#x27;latitude&#x27;, &#x27;housing_median_age&#x27;, &#x27;total_rooms&#x27;, &#x27;total_bedrooms&#x27;, &#x27;population&#x27;, &#x27;households&#x27;, &#x27;median_income&#x27;, &#x27;median_house_value&#x27;]</pre></div></div></div><div class=\"sk-serial\"><div class=\"sk-item\"><div class=\"sk-estimator sk-toggleable\"><input class=\"sk-toggleable__control sk-hidden--visually\" id=\"sk-estimator-id-14\" type=\"checkbox\" ><label for=\"sk-estimator-id-14\" class=\"sk-toggleable__label sk-toggleable__label-arrow\">SimpleImputer</label><div class=\"sk-toggleable__content\"><pre>SimpleImputer(strategy=&#x27;median&#x27;)</pre></div></div></div></div></div></div><div class=\"sk-parallel-item\"><div class=\"sk-item\"><div class=\"sk-label-container\"><div class=\"sk-label sk-toggleable\"><input class=\"sk-toggleable__control sk-hidden--visually\" id=\"sk-estimator-id-15\" type=\"checkbox\" ><label for=\"sk-estimator-id-15\" class=\"sk-toggleable__label sk-toggleable__label-arrow\">pca</label><div class=\"sk-toggleable__content\"><pre>[&#x27;longitude&#x27;, &#x27;latitude&#x27;, &#x27;housing_median_age&#x27;, &#x27;total_rooms&#x27;, &#x27;total_bedrooms&#x27;, &#x27;population&#x27;, &#x27;households&#x27;, &#x27;median_income&#x27;, &#x27;median_house_value&#x27;]</pre></div></div></div><div class=\"sk-serial\"><div class=\"sk-item\"><div class=\"sk-estimator sk-toggleable\"><input class=\"sk-toggleable__control sk-hidden--visually\" id=\"sk-estimator-id-16\" type=\"checkbox\" ><label for=\"sk-estimator-id-16\" class=\"sk-toggleable__label sk-toggleable__label-arrow\">PCA</label><div class=\"sk-toggleable__content\"><pre>PCA(n_components=0.8)</pre></div></div></div></div></div></div></div></div></div></div>"
     },
     "execution_count": 58,
     "metadata": {},
     "output_type": "execute_result"
    }
   ],
   "source": [
    "pal.transformation_history[-1].get('pipeline')"
   ],
   "metadata": {
    "collapsed": false
   }
  },
  {
   "cell_type": "code",
   "execution_count": 59,
   "outputs": [],
   "source": [
    "pal.restore()"
   ],
   "metadata": {
    "collapsed": false
   }
  },
  {
   "cell_type": "code",
   "execution_count": 60,
   "outputs": [
    {
     "data": {
      "text/plain": "2"
     },
     "execution_count": 60,
     "metadata": {},
     "output_type": "execute_result"
    }
   ],
   "source": [
    "pal.current_version"
   ],
   "metadata": {
    "collapsed": false
   }
  },
  {
   "cell_type": "code",
   "execution_count": 61,
   "outputs": [
    {
     "data": {
      "text/plain": "ColumnTransformer(transformers=[('scaler', MinMaxScaler(),\n                                 ['longitude', 'latitude', 'housing_median_age',\n                                  'total_rooms', 'total_bedrooms', 'population',\n                                  'households', 'median_income',\n                                  'median_house_value']),\n                                ('impute', SimpleImputer(strategy='median'),\n                                 ['longitude', 'latitude', 'housing_median_age',\n                                  'total_rooms', 'total_bedrooms', 'population',\n                                  'households', 'median_income',\n                                  'median_house_value'])])",
      "text/html": "<style>#sk-container-id-5 {color: black;background-color: white;}#sk-container-id-5 pre{padding: 0;}#sk-container-id-5 div.sk-toggleable {background-color: white;}#sk-container-id-5 label.sk-toggleable__label {cursor: pointer;display: block;width: 100%;margin-bottom: 0;padding: 0.3em;box-sizing: border-box;text-align: center;}#sk-container-id-5 label.sk-toggleable__label-arrow:before {content: \"▸\";float: left;margin-right: 0.25em;color: #696969;}#sk-container-id-5 label.sk-toggleable__label-arrow:hover:before {color: black;}#sk-container-id-5 div.sk-estimator:hover label.sk-toggleable__label-arrow:before {color: black;}#sk-container-id-5 div.sk-toggleable__content {max-height: 0;max-width: 0;overflow: hidden;text-align: left;background-color: #f0f8ff;}#sk-container-id-5 div.sk-toggleable__content pre {margin: 0.2em;color: black;border-radius: 0.25em;background-color: #f0f8ff;}#sk-container-id-5 input.sk-toggleable__control:checked~div.sk-toggleable__content {max-height: 200px;max-width: 100%;overflow: auto;}#sk-container-id-5 input.sk-toggleable__control:checked~label.sk-toggleable__label-arrow:before {content: \"▾\";}#sk-container-id-5 div.sk-estimator input.sk-toggleable__control:checked~label.sk-toggleable__label {background-color: #d4ebff;}#sk-container-id-5 div.sk-label input.sk-toggleable__control:checked~label.sk-toggleable__label {background-color: #d4ebff;}#sk-container-id-5 input.sk-hidden--visually {border: 0;clip: rect(1px 1px 1px 1px);clip: rect(1px, 1px, 1px, 1px);height: 1px;margin: -1px;overflow: hidden;padding: 0;position: absolute;width: 1px;}#sk-container-id-5 div.sk-estimator {font-family: monospace;background-color: #f0f8ff;border: 1px dotted black;border-radius: 0.25em;box-sizing: border-box;margin-bottom: 0.5em;}#sk-container-id-5 div.sk-estimator:hover {background-color: #d4ebff;}#sk-container-id-5 div.sk-parallel-item::after {content: \"\";width: 100%;border-bottom: 1px solid gray;flex-grow: 1;}#sk-container-id-5 div.sk-label:hover label.sk-toggleable__label {background-color: #d4ebff;}#sk-container-id-5 div.sk-serial::before {content: \"\";position: absolute;border-left: 1px solid gray;box-sizing: border-box;top: 0;bottom: 0;left: 50%;z-index: 0;}#sk-container-id-5 div.sk-serial {display: flex;flex-direction: column;align-items: center;background-color: white;padding-right: 0.2em;padding-left: 0.2em;position: relative;}#sk-container-id-5 div.sk-item {position: relative;z-index: 1;}#sk-container-id-5 div.sk-parallel {display: flex;align-items: stretch;justify-content: center;background-color: white;position: relative;}#sk-container-id-5 div.sk-item::before, #sk-container-id-5 div.sk-parallel-item::before {content: \"\";position: absolute;border-left: 1px solid gray;box-sizing: border-box;top: 0;bottom: 0;left: 50%;z-index: -1;}#sk-container-id-5 div.sk-parallel-item {display: flex;flex-direction: column;z-index: 1;position: relative;background-color: white;}#sk-container-id-5 div.sk-parallel-item:first-child::after {align-self: flex-end;width: 50%;}#sk-container-id-5 div.sk-parallel-item:last-child::after {align-self: flex-start;width: 50%;}#sk-container-id-5 div.sk-parallel-item:only-child::after {width: 0;}#sk-container-id-5 div.sk-dashed-wrapped {border: 1px dashed gray;margin: 0 0.4em 0.5em 0.4em;box-sizing: border-box;padding-bottom: 0.4em;background-color: white;}#sk-container-id-5 div.sk-label label {font-family: monospace;font-weight: bold;display: inline-block;line-height: 1.2em;}#sk-container-id-5 div.sk-label-container {text-align: center;}#sk-container-id-5 div.sk-container {/* jupyter's `normalize.less` sets `[hidden] { display: none; }` but bootstrap.min.css set `[hidden] { display: none !important; }` so we also need the `!important` here to be able to override the default hidden behavior on the sphinx rendered scikit-learn.org. See: https://github.com/scikit-learn/scikit-learn/issues/21755 */display: inline-block !important;position: relative;}#sk-container-id-5 div.sk-text-repr-fallback {display: none;}</style><div id=\"sk-container-id-5\" class=\"sk-top-container\"><div class=\"sk-text-repr-fallback\"><pre>ColumnTransformer(transformers=[(&#x27;scaler&#x27;, MinMaxScaler(),\n                                 [&#x27;longitude&#x27;, &#x27;latitude&#x27;, &#x27;housing_median_age&#x27;,\n                                  &#x27;total_rooms&#x27;, &#x27;total_bedrooms&#x27;, &#x27;population&#x27;,\n                                  &#x27;households&#x27;, &#x27;median_income&#x27;,\n                                  &#x27;median_house_value&#x27;]),\n                                (&#x27;impute&#x27;, SimpleImputer(strategy=&#x27;median&#x27;),\n                                 [&#x27;longitude&#x27;, &#x27;latitude&#x27;, &#x27;housing_median_age&#x27;,\n                                  &#x27;total_rooms&#x27;, &#x27;total_bedrooms&#x27;, &#x27;population&#x27;,\n                                  &#x27;households&#x27;, &#x27;median_income&#x27;,\n                                  &#x27;median_house_value&#x27;])])</pre><b>In a Jupyter environment, please rerun this cell to show the HTML representation or trust the notebook. <br />On GitHub, the HTML representation is unable to render, please try loading this page with nbviewer.org.</b></div><div class=\"sk-container\" hidden><div class=\"sk-item sk-dashed-wrapped\"><div class=\"sk-label-container\"><div class=\"sk-label sk-toggleable\"><input class=\"sk-toggleable__control sk-hidden--visually\" id=\"sk-estimator-id-17\" type=\"checkbox\" ><label for=\"sk-estimator-id-17\" class=\"sk-toggleable__label sk-toggleable__label-arrow\">ColumnTransformer</label><div class=\"sk-toggleable__content\"><pre>ColumnTransformer(transformers=[(&#x27;scaler&#x27;, MinMaxScaler(),\n                                 [&#x27;longitude&#x27;, &#x27;latitude&#x27;, &#x27;housing_median_age&#x27;,\n                                  &#x27;total_rooms&#x27;, &#x27;total_bedrooms&#x27;, &#x27;population&#x27;,\n                                  &#x27;households&#x27;, &#x27;median_income&#x27;,\n                                  &#x27;median_house_value&#x27;]),\n                                (&#x27;impute&#x27;, SimpleImputer(strategy=&#x27;median&#x27;),\n                                 [&#x27;longitude&#x27;, &#x27;latitude&#x27;, &#x27;housing_median_age&#x27;,\n                                  &#x27;total_rooms&#x27;, &#x27;total_bedrooms&#x27;, &#x27;population&#x27;,\n                                  &#x27;households&#x27;, &#x27;median_income&#x27;,\n                                  &#x27;median_house_value&#x27;])])</pre></div></div></div><div class=\"sk-parallel\"><div class=\"sk-parallel-item\"><div class=\"sk-item\"><div class=\"sk-label-container\"><div class=\"sk-label sk-toggleable\"><input class=\"sk-toggleable__control sk-hidden--visually\" id=\"sk-estimator-id-18\" type=\"checkbox\" ><label for=\"sk-estimator-id-18\" class=\"sk-toggleable__label sk-toggleable__label-arrow\">scaler</label><div class=\"sk-toggleable__content\"><pre>[&#x27;longitude&#x27;, &#x27;latitude&#x27;, &#x27;housing_median_age&#x27;, &#x27;total_rooms&#x27;, &#x27;total_bedrooms&#x27;, &#x27;population&#x27;, &#x27;households&#x27;, &#x27;median_income&#x27;, &#x27;median_house_value&#x27;]</pre></div></div></div><div class=\"sk-serial\"><div class=\"sk-item\"><div class=\"sk-estimator sk-toggleable\"><input class=\"sk-toggleable__control sk-hidden--visually\" id=\"sk-estimator-id-19\" type=\"checkbox\" ><label for=\"sk-estimator-id-19\" class=\"sk-toggleable__label sk-toggleable__label-arrow\">MinMaxScaler</label><div class=\"sk-toggleable__content\"><pre>MinMaxScaler()</pre></div></div></div></div></div></div><div class=\"sk-parallel-item\"><div class=\"sk-item\"><div class=\"sk-label-container\"><div class=\"sk-label sk-toggleable\"><input class=\"sk-toggleable__control sk-hidden--visually\" id=\"sk-estimator-id-20\" type=\"checkbox\" ><label for=\"sk-estimator-id-20\" class=\"sk-toggleable__label sk-toggleable__label-arrow\">impute</label><div class=\"sk-toggleable__content\"><pre>[&#x27;longitude&#x27;, &#x27;latitude&#x27;, &#x27;housing_median_age&#x27;, &#x27;total_rooms&#x27;, &#x27;total_bedrooms&#x27;, &#x27;population&#x27;, &#x27;households&#x27;, &#x27;median_income&#x27;, &#x27;median_house_value&#x27;]</pre></div></div></div><div class=\"sk-serial\"><div class=\"sk-item\"><div class=\"sk-estimator sk-toggleable\"><input class=\"sk-toggleable__control sk-hidden--visually\" id=\"sk-estimator-id-21\" type=\"checkbox\" ><label for=\"sk-estimator-id-21\" class=\"sk-toggleable__label sk-toggleable__label-arrow\">SimpleImputer</label><div class=\"sk-toggleable__content\"><pre>SimpleImputer(strategy=&#x27;median&#x27;)</pre></div></div></div></div></div></div></div></div></div></div>"
     },
     "execution_count": 61,
     "metadata": {},
     "output_type": "execute_result"
    }
   ],
   "source": [
    "pal.transformation_history[-1].get('pipeline')"
   ],
   "metadata": {
    "collapsed": false
   }
  },
  {
   "cell_type": "code",
   "execution_count": 64,
   "outputs": [
    {
     "data": {
      "text/plain": "Empty DataFrame\nColumns: []\nIndex: [14196, 8267, 17445, 14265, 2271, 17848, 6252, 9389, 6113, 6061, 16030, 8364, 9448, 17529, 5865, 7615, 9707, 16332, 3449, 5199, 13496, 18056, 9529, 5128, 18796, 413, 1175, 4387, 11628, 9787, 15557, 9132, 5514, 6504, 15028, 7816, 18758, 7369, 7898, 10823, 5252, 6442, 11934, 5549, 11568, 15167, 12536, 7779, 10711, 6624, 4420, 1413, 1130, 15026, 4707, 10537, 1621, 7592, 4731, 14435, 14301, 6626, 3298, 19807, 16993, 5736, 10855, 5020, 8239, 11982, 17189, 8126, 14128, 17777, 12914, 16257, 11135, 13987, 7711, 18591, 6529, 483, 3846, 12826, 1315, 7222, 14016, 4226, 9279, 1576, 11301, 16519, 16394, 5290, 10353, 11471, 11886, 1989, 16457, 8063, ...]\n\n[16512 rows x 0 columns]",
      "text/html": "<div>\n<style scoped>\n    .dataframe tbody tr th:only-of-type {\n        vertical-align: middle;\n    }\n\n    .dataframe tbody tr th {\n        vertical-align: top;\n    }\n\n    .dataframe thead th {\n        text-align: right;\n    }\n</style>\n<table border=\"1\" class=\"dataframe\">\n  <thead>\n    <tr style=\"text-align: right;\">\n      <th></th>\n    </tr>\n  </thead>\n  <tbody>\n    <tr>\n      <th>14196</th>\n    </tr>\n    <tr>\n      <th>8267</th>\n    </tr>\n    <tr>\n      <th>17445</th>\n    </tr>\n    <tr>\n      <th>14265</th>\n    </tr>\n    <tr>\n      <th>2271</th>\n    </tr>\n    <tr>\n      <th>...</th>\n    </tr>\n    <tr>\n      <th>11284</th>\n    </tr>\n    <tr>\n      <th>11964</th>\n    </tr>\n    <tr>\n      <th>5390</th>\n    </tr>\n    <tr>\n      <th>860</th>\n    </tr>\n    <tr>\n      <th>15795</th>\n    </tr>\n  </tbody>\n</table>\n<p>16512 rows × 0 columns</p>\n</div>"
     },
     "execution_count": 64,
     "metadata": {},
     "output_type": "execute_result"
    }
   ],
   "source": [
    "pal.encode_order()"
   ],
   "metadata": {
    "collapsed": false
   }
  },
  {
   "cell_type": "code",
   "execution_count": 65,
   "outputs": [
    {
     "name": "stderr",
     "output_type": "stream",
     "text": [
      "C:\\Users\\JesperFrederiksen\\PycharmProjects\\ML-code\\venv\\Lib\\site-packages\\sklearn\\cluster\\_kmeans.py:870: FutureWarning: The default value of `n_init` will change from 10 to 'auto' in 1.4. Set the value of `n_init` explicitly to suppress the warning\n",
      "  warnings.warn(\n",
      "C:\\Users\\JesperFrederiksen\\PycharmProjects\\ML-code\\venv\\Lib\\site-packages\\sklearn\\cluster\\_kmeans.py:870: FutureWarning: The default value of `n_init` will change from 10 to 'auto' in 1.4. Set the value of `n_init` explicitly to suppress the warning\n",
      "  warnings.warn(\n",
      "C:\\Users\\JesperFrederiksen\\PycharmProjects\\ML-code\\venv\\Lib\\site-packages\\sklearn\\cluster\\_kmeans.py:870: FutureWarning: The default value of `n_init` will change from 10 to 'auto' in 1.4. Set the value of `n_init` explicitly to suppress the warning\n",
      "  warnings.warn(\n",
      "C:\\Users\\JesperFrederiksen\\PycharmProjects\\ML-code\\venv\\Lib\\site-packages\\sklearn\\cluster\\_kmeans.py:870: FutureWarning: The default value of `n_init` will change from 10 to 'auto' in 1.4. Set the value of `n_init` explicitly to suppress the warning\n",
      "  warnings.warn(\n",
      "C:\\Users\\JesperFrederiksen\\PycharmProjects\\ML-code\\venv\\Lib\\site-packages\\sklearn\\cluster\\_kmeans.py:870: FutureWarning: The default value of `n_init` will change from 10 to 'auto' in 1.4. Set the value of `n_init` explicitly to suppress the warning\n",
      "  warnings.warn(\n",
      "C:\\Users\\JesperFrederiksen\\PycharmProjects\\ML-code\\venv\\Lib\\site-packages\\sklearn\\cluster\\_kmeans.py:870: FutureWarning: The default value of `n_init` will change from 10 to 'auto' in 1.4. Set the value of `n_init` explicitly to suppress the warning\n",
      "  warnings.warn(\n",
      "C:\\Users\\JesperFrederiksen\\PycharmProjects\\ML-code\\venv\\Lib\\site-packages\\sklearn\\cluster\\_kmeans.py:870: FutureWarning: The default value of `n_init` will change from 10 to 'auto' in 1.4. Set the value of `n_init` explicitly to suppress the warning\n",
      "  warnings.warn(\n",
      "C:\\Users\\JesperFrederiksen\\PycharmProjects\\ML-code\\venv\\Lib\\site-packages\\sklearn\\cluster\\_kmeans.py:870: FutureWarning: The default value of `n_init` will change from 10 to 'auto' in 1.4. Set the value of `n_init` explicitly to suppress the warning\n",
      "  warnings.warn(\n",
      "C:\\Users\\JesperFrederiksen\\PycharmProjects\\ML-code\\venv\\Lib\\site-packages\\sklearn\\cluster\\_kmeans.py:870: FutureWarning: The default value of `n_init` will change from 10 to 'auto' in 1.4. Set the value of `n_init` explicitly to suppress the warning\n",
      "  warnings.warn(\n",
      "C:\\Users\\JesperFrederiksen\\PycharmProjects\\ML-code\\venv\\Lib\\site-packages\\sklearn\\cluster\\_kmeans.py:870: FutureWarning: The default value of `n_init` will change from 10 to 'auto' in 1.4. Set the value of `n_init` explicitly to suppress the warning\n",
      "  warnings.warn(\n"
     ]
    },
    {
     "data": {
      "text/plain": "<Figure size 640x480 with 1 Axes>",
      "image/png": "[encoded data removed]"
     },
     "metadata": {},
     "output_type": "display_data"
    },
    {
     "name": "stdout",
     "output_type": "stream",
     "text": [
      "Best silhouette is obtained with k as:  2\n"
     ]
    },
    {
     "name": "stderr",
     "output_type": "stream",
     "text": [
      "C:\\Users\\JesperFrederiksen\\PycharmProjects\\ML-code\\venv\\Lib\\site-packages\\sklearn\\cluster\\_kmeans.py:870: FutureWarning: The default value of `n_init` will change from 10 to 'auto' in 1.4. Set the value of `n_init` explicitly to suppress the warning\n",
      "  warnings.warn(\n"
     ]
    },
    {
     "data": {
      "text/plain": "       longitude  latitude  housing_median_age  total_rooms  total_bedrooms  \\\n14196   0.729084  0.017021            0.627451     0.079455        0.097145   \n8267    0.616534  0.129787            0.941176     0.085966        0.121974   \n17445   0.385458  0.224468            0.058824     0.048197        0.051210   \n14265   0.721116  0.014894            0.686275     0.036090        0.056797   \n2271    0.453187  0.450000            0.823529     0.060532        0.066729   \n...          ...       ...                 ...          ...             ...   \n11284   0.636454  0.130851            0.666667     0.033776        0.031037   \n11964   0.689243  0.156383            0.627451     0.078386        0.088299   \n5390    0.594622  0.157447            0.686275     0.053385        0.088144   \n860     0.238048  0.535106            0.274510     0.090874        0.092489   \n15795   0.192231  0.555319            1.000000     0.107432        0.203911   \n\n       population  households  median_income  median_house_value  \\\n14196    0.064380    0.102286       0.190322            0.181445   \n8267     0.036744    0.124157       0.228452            0.756906   \n17445    0.025561    0.055090       0.252162            0.324949   \n14265    0.039659    0.058214       0.099488            0.161651   \n2271     0.024412    0.062325       0.210638            0.168043   \n...           ...         ...            ...                 ...   \n11284    0.018358    0.035520       0.404829            0.441650   \n11964    0.049048    0.073672       0.175867            0.170723   \n5390     0.049133    0.086499       0.167894            0.427011   \n860      0.049721    0.091761       0.359947            0.553608   \n15795    0.073320    0.204078       0.143143            0.639175   \n\n       ocean_proximity    Cluster  \n14196              4.0  Cluster 1  \n8267               4.0  Cluster 1  \n17445              4.0  Cluster 1  \n14265              4.0  Cluster 1  \n2271               1.0  Cluster 0  \n...                ...        ...  \n11284              0.0  Cluster 0  \n11964              1.0  Cluster 0  \n5390               0.0  Cluster 0  \n860                0.0  Cluster 0  \n15795              3.0  Cluster 1  \n\n[16512 rows x 11 columns]",
      "text/html": "<div>\n<style scoped>\n    .dataframe tbody tr th:only-of-type {\n        vertical-align: middle;\n    }\n\n    .dataframe tbody tr th {\n        vertical-align: top;\n    }\n\n    .dataframe thead th {\n        text-align: right;\n    }\n</style>\n<table border=\"1\" class=\"dataframe\">\n  <thead>\n    <tr style=\"text-align: right;\">\n      <th></th>\n      <th>longitude</th>\n      <th>latitude</th>\n      <th>housing_median_age</th>\n      <th>total_rooms</th>\n      <th>total_bedrooms</th>\n      <th>population</th>\n      <th>households</th>\n      <th>median_income</th>\n      <th>median_house_value</th>\n      <th>ocean_proximity</th>\n      <th>Cluster</th>\n    </tr>\n  </thead>\n  <tbody>\n    <tr>\n      <th>14196</th>\n      <td>0.729084</td>\n      <td>0.017021</td>\n      <td>0.627451</td>\n      <td>0.079455</td>\n      <td>0.097145</td>\n      <td>0.064380</td>\n      <td>0.102286</td>\n      <td>0.190322</td>\n      <td>0.181445</td>\n      <td>4.0</td>\n      <td>Cluster 1</td>\n    </tr>\n    <tr>\n      <th>8267</th>\n      <td>0.616534</td>\n      <td>0.129787</td>\n      <td>0.941176</td>\n      <td>0.085966</td>\n      <td>0.121974</td>\n      <td>0.036744</td>\n      <td>0.124157</td>\n      <td>0.228452</td>\n      <td>0.756906</td>\n      <td>4.0</td>\n      <td>Cluster 1</td>\n    </tr>\n    <tr>\n      <th>17445</th>\n      <td>0.385458</td>\n      <td>0.224468</td>\n      <td>0.058824</td>\n      <td>0.048197</td>\n      <td>0.051210</td>\n      <td>0.025561</td>\n      <td>0.055090</td>\n      <td>0.252162</td>\n      <td>0.324949</td>\n      <td>4.0</td>\n      <td>Cluster 1</td>\n    </tr>\n    <tr>\n      <th>14265</th>\n      <td>0.721116</td>\n      <td>0.014894</td>\n      <td>0.686275</td>\n      <td>0.036090</td>\n      <td>0.056797</td>\n      <td>0.039659</td>\n      <td>0.058214</td>\n      <td>0.099488</td>\n      <td>0.161651</td>\n      <td>4.0</td>\n      <td>Cluster 1</td>\n    </tr>\n    <tr>\n      <th>2271</th>\n      <td>0.453187</td>\n      <td>0.450000</td>\n      <td>0.823529</td>\n      <td>0.060532</td>\n      <td>0.066729</td>\n      <td>0.024412</td>\n      <td>0.062325</td>\n      <td>0.210638</td>\n      <td>0.168043</td>\n      <td>1.0</td>\n      <td>Cluster 0</td>\n    </tr>\n    <tr>\n      <th>...</th>\n      <td>...</td>\n      <td>...</td>\n      <td>...</td>\n      <td>...</td>\n      <td>...</td>\n      <td>...</td>\n      <td>...</td>\n      <td>...</td>\n      <td>...</td>\n      <td>...</td>\n      <td>...</td>\n    </tr>\n    <tr>\n      <th>11284</th>\n      <td>0.636454</td>\n      <td>0.130851</td>\n      <td>0.666667</td>\n      <td>0.033776</td>\n      <td>0.031037</td>\n      <td>0.018358</td>\n      <td>0.035520</td>\n      <td>0.404829</td>\n      <td>0.441650</td>\n      <td>0.0</td>\n      <td>Cluster 0</td>\n    </tr>\n    <tr>\n      <th>11964</th>\n      <td>0.689243</td>\n      <td>0.156383</td>\n      <td>0.627451</td>\n      <td>0.078386</td>\n      <td>0.088299</td>\n      <td>0.049048</td>\n      <td>0.073672</td>\n      <td>0.175867</td>\n      <td>0.170723</td>\n      <td>1.0</td>\n      <td>Cluster 0</td>\n    </tr>\n    <tr>\n      <th>5390</th>\n      <td>0.594622</td>\n      <td>0.157447</td>\n      <td>0.686275</td>\n      <td>0.053385</td>\n      <td>0.088144</td>\n      <td>0.049133</td>\n      <td>0.086499</td>\n      <td>0.167894</td>\n      <td>0.427011</td>\n      <td>0.0</td>\n      <td>Cluster 0</td>\n    </tr>\n    <tr>\n      <th>860</th>\n      <td>0.238048</td>\n      <td>0.535106</td>\n      <td>0.274510</td>\n      <td>0.090874</td>\n      <td>0.092489</td>\n      <td>0.049721</td>\n      <td>0.091761</td>\n      <td>0.359947</td>\n      <td>0.553608</td>\n      <td>0.0</td>\n      <td>Cluster 0</td>\n    </tr>\n    <tr>\n      <th>15795</th>\n      <td>0.192231</td>\n      <td>0.555319</td>\n      <td>1.000000</td>\n      <td>0.107432</td>\n      <td>0.203911</td>\n      <td>0.073320</td>\n      <td>0.204078</td>\n      <td>0.143143</td>\n      <td>0.639175</td>\n      <td>3.0</td>\n      <td>Cluster 1</td>\n    </tr>\n  </tbody>\n</table>\n<p>16512 rows × 11 columns</p>\n</div>"
     },
     "execution_count": 65,
     "metadata": {},
     "output_type": "execute_result"
    }
   ],
   "source": [
    "pal.cluster()"
   ],
   "metadata": {
    "collapsed": false
   }
  },
  {
   "cell_type": "code",
   "execution_count": 66,
   "outputs": [
    {
     "data": {
      "text/plain": "       Cluster\n14196      1.0\n8267       1.0\n17445      1.0\n14265      1.0\n2271       0.0\n...        ...\n11284      0.0\n11964      0.0\n5390       0.0\n860        0.0\n15795      1.0\n\n[16512 rows x 1 columns]",
      "text/html": "<div>\n<style scoped>\n    .dataframe tbody tr th:only-of-type {\n        vertical-align: middle;\n    }\n\n    .dataframe tbody tr th {\n        vertical-align: top;\n    }\n\n    .dataframe thead th {\n        text-align: right;\n    }\n</style>\n<table border=\"1\" class=\"dataframe\">\n  <thead>\n    <tr style=\"text-align: right;\">\n      <th></th>\n      <th>Cluster</th>\n    </tr>\n  </thead>\n  <tbody>\n    <tr>\n      <th>14196</th>\n      <td>1.0</td>\n    </tr>\n    <tr>\n      <th>8267</th>\n      <td>1.0</td>\n    </tr>\n    <tr>\n      <th>17445</th>\n      <td>1.0</td>\n    </tr>\n    <tr>\n      <th>14265</th>\n      <td>1.0</td>\n    </tr>\n    <tr>\n      <th>2271</th>\n      <td>0.0</td>\n    </tr>\n    <tr>\n      <th>...</th>\n      <td>...</td>\n    </tr>\n    <tr>\n      <th>11284</th>\n      <td>0.0</td>\n    </tr>\n    <tr>\n      <th>11964</th>\n      <td>0.0</td>\n    </tr>\n    <tr>\n      <th>5390</th>\n      <td>0.0</td>\n    </tr>\n    <tr>\n      <th>860</th>\n      <td>0.0</td>\n    </tr>\n    <tr>\n      <th>15795</th>\n      <td>1.0</td>\n    </tr>\n  </tbody>\n</table>\n<p>16512 rows × 1 columns</p>\n</div>"
     },
     "execution_count": 66,
     "metadata": {},
     "output_type": "execute_result"
    }
   ],
   "source": [
    "pal.encode_order(include_features=['Cluster'])"
   ],
   "metadata": {
    "collapsed": false
   }
  },
  {
   "cell_type": "code",
   "execution_count": 67,
   "outputs": [
    {
     "data": {
      "text/plain": "       longitude  latitude  housing_median_age  total_rooms  total_bedrooms  \\\n14196   0.729084  0.017021            0.627451     0.079455        0.097145   \n8267    0.616534  0.129787            0.941176     0.085966        0.121974   \n17445   0.385458  0.224468            0.058824     0.048197        0.051210   \n14265   0.721116  0.014894            0.686275     0.036090        0.056797   \n2271    0.453187  0.450000            0.823529     0.060532        0.066729   \n...          ...       ...                 ...          ...             ...   \n11284   0.636454  0.130851            0.666667     0.033776        0.031037   \n11964   0.689243  0.156383            0.627451     0.078386        0.088299   \n5390    0.594622  0.157447            0.686275     0.053385        0.088144   \n860     0.238048  0.535106            0.274510     0.090874        0.092489   \n15795   0.192231  0.555319            1.000000     0.107432        0.203911   \n\n       population  households  median_income  median_house_value  \\\n14196    0.064380    0.102286       0.190322            0.181445   \n8267     0.036744    0.124157       0.228452            0.756906   \n17445    0.025561    0.055090       0.252162            0.324949   \n14265    0.039659    0.058214       0.099488            0.161651   \n2271     0.024412    0.062325       0.210638            0.168043   \n...           ...         ...            ...                 ...   \n11284    0.018358    0.035520       0.404829            0.441650   \n11964    0.049048    0.073672       0.175867            0.170723   \n5390     0.049133    0.086499       0.167894            0.427011   \n860      0.049721    0.091761       0.359947            0.553608   \n15795    0.073320    0.204078       0.143143            0.639175   \n\n       ocean_proximity  Cluster  \n14196              4.0      1.0  \n8267               4.0      1.0  \n17445              4.0      1.0  \n14265              4.0      1.0  \n2271               1.0      0.0  \n...                ...      ...  \n11284              0.0      0.0  \n11964              1.0      0.0  \n5390               0.0      0.0  \n860                0.0      0.0  \n15795              3.0      1.0  \n\n[16512 rows x 11 columns]",
      "text/html": "<div>\n<style scoped>\n    .dataframe tbody tr th:only-of-type {\n        vertical-align: middle;\n    }\n\n    .dataframe tbody tr th {\n        vertical-align: top;\n    }\n\n    .dataframe thead th {\n        text-align: right;\n    }\n</style>\n<table border=\"1\" class=\"dataframe\">\n  <thead>\n    <tr style=\"text-align: right;\">\n      <th></th>\n      <th>longitude</th>\n      <th>latitude</th>\n      <th>housing_median_age</th>\n      <th>total_rooms</th>\n      <th>total_bedrooms</th>\n      <th>population</th>\n      <th>households</th>\n      <th>median_income</th>\n      <th>median_house_value</th>\n      <th>ocean_proximity</th>\n      <th>Cluster</th>\n    </tr>\n  </thead>\n  <tbody>\n    <tr>\n      <th>14196</th>\n      <td>0.729084</td>\n      <td>0.017021</td>\n      <td>0.627451</td>\n      <td>0.079455</td>\n      <td>0.097145</td>\n      <td>0.064380</td>\n      <td>0.102286</td>\n      <td>0.190322</td>\n      <td>0.181445</td>\n      <td>4.0</td>\n      <td>1.0</td>\n    </tr>\n    <tr>\n      <th>8267</th>\n      <td>0.616534</td>\n      <td>0.129787</td>\n      <td>0.941176</td>\n      <td>0.085966</td>\n      <td>0.121974</td>\n      <td>0.036744</td>\n      <td>0.124157</td>\n      <td>0.228452</td>\n      <td>0.756906</td>\n      <td>4.0</td>\n      <td>1.0</td>\n    </tr>\n    <tr>\n      <th>17445</th>\n      <td>0.385458</td>\n      <td>0.224468</td>\n      <td>0.058824</td>\n      <td>0.048197</td>\n      <td>0.051210</td>\n      <td>0.025561</td>\n      <td>0.055090</td>\n      <td>0.252162</td>\n      <td>0.324949</td>\n      <td>4.0</td>\n      <td>1.0</td>\n    </tr>\n    <tr>\n      <th>14265</th>\n      <td>0.721116</td>\n      <td>0.014894</td>\n      <td>0.686275</td>\n      <td>0.036090</td>\n      <td>0.056797</td>\n      <td>0.039659</td>\n      <td>0.058214</td>\n      <td>0.099488</td>\n      <td>0.161651</td>\n      <td>4.0</td>\n      <td>1.0</td>\n    </tr>\n    <tr>\n      <th>2271</th>\n      <td>0.453187</td>\n      <td>0.450000</td>\n      <td>0.823529</td>\n      <td>0.060532</td>\n      <td>0.066729</td>\n      <td>0.024412</td>\n      <td>0.062325</td>\n      <td>0.210638</td>\n      <td>0.168043</td>\n      <td>1.0</td>\n      <td>0.0</td>\n    </tr>\n    <tr>\n      <th>...</th>\n      <td>...</td>\n      <td>...</td>\n      <td>...</td>\n      <td>...</td>\n      <td>...</td>\n      <td>...</td>\n      <td>...</td>\n      <td>...</td>\n      <td>...</td>\n      <td>...</td>\n      <td>...</td>\n    </tr>\n    <tr>\n      <th>11284</th>\n      <td>0.636454</td>\n      <td>0.130851</td>\n      <td>0.666667</td>\n      <td>0.033776</td>\n      <td>0.031037</td>\n      <td>0.018358</td>\n      <td>0.035520</td>\n      <td>0.404829</td>\n      <td>0.441650</td>\n      <td>0.0</td>\n      <td>0.0</td>\n    </tr>\n    <tr>\n      <th>11964</th>\n      <td>0.689243</td>\n      <td>0.156383</td>\n      <td>0.627451</td>\n      <td>0.078386</td>\n      <td>0.088299</td>\n      <td>0.049048</td>\n      <td>0.073672</td>\n      <td>0.175867</td>\n      <td>0.170723</td>\n      <td>1.0</td>\n      <td>0.0</td>\n    </tr>\n    <tr>\n      <th>5390</th>\n      <td>0.594622</td>\n      <td>0.157447</td>\n      <td>0.686275</td>\n      <td>0.053385</td>\n      <td>0.088144</td>\n      <td>0.049133</td>\n      <td>0.086499</td>\n      <td>0.167894</td>\n      <td>0.427011</td>\n      <td>0.0</td>\n      <td>0.0</td>\n    </tr>\n    <tr>\n      <th>860</th>\n      <td>0.238048</td>\n      <td>0.535106</td>\n      <td>0.274510</td>\n      <td>0.090874</td>\n      <td>0.092489</td>\n      <td>0.049721</td>\n      <td>0.091761</td>\n      <td>0.359947</td>\n      <td>0.553608</td>\n      <td>0.0</td>\n      <td>0.0</td>\n    </tr>\n    <tr>\n      <th>15795</th>\n      <td>0.192231</td>\n      <td>0.555319</td>\n      <td>1.000000</td>\n      <td>0.107432</td>\n      <td>0.203911</td>\n      <td>0.073320</td>\n      <td>0.204078</td>\n      <td>0.143143</td>\n      <td>0.639175</td>\n      <td>3.0</td>\n      <td>1.0</td>\n    </tr>\n  </tbody>\n</table>\n<p>16512 rows × 11 columns</p>\n</div>"
     },
     "execution_count": 67,
     "metadata": {},
     "output_type": "execute_result"
    }
   ],
   "source": [
    "pal.output"
   ],
   "metadata": {
    "collapsed": false
   }
  },
  {
   "cell_type": "code",
   "execution_count": 70,
   "outputs": [
    {
     "data": {
      "text/plain": "6"
     },
     "execution_count": 70,
     "metadata": {},
     "output_type": "execute_result"
    }
   ],
   "source": [
    "pal.current_version"
   ],
   "metadata": {
    "collapsed": false
   }
  },
  {
   "cell_type": "code",
   "execution_count": 71,
   "outputs": [
    {
     "data": {
      "text/plain": "ColumnTransformer(transformers=[('scaler', MinMaxScaler(),\n                                 ['longitude', 'latitude', 'housing_median_age',\n                                  'total_rooms', 'total_bedrooms', 'population',\n                                  'households', 'median_income',\n                                  'median_house_value']),\n                                ('impute', SimpleImputer(strategy='median'),\n                                 ['longitude', 'latitude', 'housing_median_age',\n                                  'total_rooms', 'total_bedrooms', 'population',\n                                  'households', 'median_income',\n                                  'median_house_value']),\n                                ('ordinal', OrdinalEncoder(),\n                                 ['ocean_proximity']),\n                                ('ordinal', OrdinalEncoder(), []),\n                                (None, None, None),\n                                ('ordinal', OrdinalEncoder(), ['Cluster'])])",
      "text/html": "<style>#sk-container-id-7 {color: black;background-color: white;}#sk-container-id-7 pre{padding: 0;}#sk-container-id-7 div.sk-toggleable {background-color: white;}#sk-container-id-7 label.sk-toggleable__label {cursor: pointer;display: block;width: 100%;margin-bottom: 0;padding: 0.3em;box-sizing: border-box;text-align: center;}#sk-container-id-7 label.sk-toggleable__label-arrow:before {content: \"▸\";float: left;margin-right: 0.25em;color: #696969;}#sk-container-id-7 label.sk-toggleable__label-arrow:hover:before {color: black;}#sk-container-id-7 div.sk-estimator:hover label.sk-toggleable__label-arrow:before {color: black;}#sk-container-id-7 div.sk-toggleable__content {max-height: 0;max-width: 0;overflow: hidden;text-align: left;background-color: #f0f8ff;}#sk-container-id-7 div.sk-toggleable__content pre {margin: 0.2em;color: black;border-radius: 0.25em;background-color: #f0f8ff;}#sk-container-id-7 input.sk-toggleable__control:checked~div.sk-toggleable__content {max-height: 200px;max-width: 100%;overflow: auto;}#sk-container-id-7 input.sk-toggleable__control:checked~label.sk-toggleable__label-arrow:before {content: \"▾\";}#sk-container-id-7 div.sk-estimator input.sk-toggleable__control:checked~label.sk-toggleable__label {background-color: #d4ebff;}#sk-container-id-7 div.sk-label input.sk-toggleable__control:checked~label.sk-toggleable__label {background-color: #d4ebff;}#sk-container-id-7 input.sk-hidden--visually {border: 0;clip: rect(1px 1px 1px 1px);clip: rect(1px, 1px, 1px, 1px);height: 1px;margin: -1px;overflow: hidden;padding: 0;position: absolute;width: 1px;}#sk-container-id-7 div.sk-estimator {font-family: monospace;background-color: #f0f8ff;border: 1px dotted black;border-radius: 0.25em;box-sizing: border-box;margin-bottom: 0.5em;}#sk-container-id-7 div.sk-estimator:hover {background-color: #d4ebff;}#sk-container-id-7 div.sk-parallel-item::after {content: \"\";width: 100%;border-bottom: 1px solid gray;flex-grow: 1;}#sk-container-id-7 div.sk-label:hover label.sk-toggleable__label {background-color: #d4ebff;}#sk-container-id-7 div.sk-serial::before {content: \"\";position: absolute;border-left: 1px solid gray;box-sizing: border-box;top: 0;bottom: 0;left: 50%;z-index: 0;}#sk-container-id-7 div.sk-serial {display: flex;flex-direction: column;align-items: center;background-color: white;padding-right: 0.2em;padding-left: 0.2em;position: relative;}#sk-container-id-7 div.sk-item {position: relative;z-index: 1;}#sk-container-id-7 div.sk-parallel {display: flex;align-items: stretch;justify-content: center;background-color: white;position: relative;}#sk-container-id-7 div.sk-item::before, #sk-container-id-7 div.sk-parallel-item::before {content: \"\";position: absolute;border-left: 1px solid gray;box-sizing: border-box;top: 0;bottom: 0;left: 50%;z-index: -1;}#sk-container-id-7 div.sk-parallel-item {display: flex;flex-direction: column;z-index: 1;position: relative;background-color: white;}#sk-container-id-7 div.sk-parallel-item:first-child::after {align-self: flex-end;width: 50%;}#sk-container-id-7 div.sk-parallel-item:last-child::after {align-self: flex-start;width: 50%;}#sk-container-id-7 div.sk-parallel-item:only-child::after {width: 0;}#sk-container-id-7 div.sk-dashed-wrapped {border: 1px dashed gray;margin: 0 0.4em 0.5em 0.4em;box-sizing: border-box;padding-bottom: 0.4em;background-color: white;}#sk-container-id-7 div.sk-label label {font-family: monospace;font-weight: bold;display: inline-block;line-height: 1.2em;}#sk-container-id-7 div.sk-label-container {text-align: center;}#sk-container-id-7 div.sk-container {/* jupyter's `normalize.less` sets `[hidden] { display: none; }` but bootstrap.min.css set `[hidden] { display: none !important; }` so we also need the `!important` here to be able to override the default hidden behavior on the sphinx rendered scikit-learn.org. See: https://github.com/scikit-learn/scikit-learn/issues/21755 */display: inline-block !important;position: relative;}#sk-container-id-7 div.sk-text-repr-fallback {display: none;}</style><div id=\"sk-container-id-7\" class=\"sk-top-container\"><div class=\"sk-text-repr-fallback\"><pre>ColumnTransformer(transformers=[(&#x27;scaler&#x27;, MinMaxScaler(),\n                                 [&#x27;longitude&#x27;, &#x27;latitude&#x27;, &#x27;housing_median_age&#x27;,\n                                  &#x27;total_rooms&#x27;, &#x27;total_bedrooms&#x27;, &#x27;population&#x27;,\n                                  &#x27;households&#x27;, &#x27;median_income&#x27;,\n                                  &#x27;median_house_value&#x27;]),\n                                (&#x27;impute&#x27;, SimpleImputer(strategy=&#x27;median&#x27;),\n                                 [&#x27;longitude&#x27;, &#x27;latitude&#x27;, &#x27;housing_median_age&#x27;,\n                                  &#x27;total_rooms&#x27;, &#x27;total_bedrooms&#x27;, &#x27;population&#x27;,\n                                  &#x27;households&#x27;, &#x27;median_income&#x27;,\n                                  &#x27;median_house_value&#x27;]),\n                                (&#x27;ordinal&#x27;, OrdinalEncoder(),\n                                 [&#x27;ocean_proximity&#x27;]),\n                                (&#x27;ordinal&#x27;, OrdinalEncoder(), []),\n                                (None, None, None),\n                                (&#x27;ordinal&#x27;, OrdinalEncoder(), [&#x27;Cluster&#x27;])])</pre><b>In a Jupyter environment, please rerun this cell to show the HTML representation or trust the notebook. <br />On GitHub, the HTML representation is unable to render, please try loading this page with nbviewer.org.</b></div><div class=\"sk-container\" hidden><div class=\"sk-item sk-dashed-wrapped\"><div class=\"sk-label-container\"><div class=\"sk-label sk-toggleable\"><input class=\"sk-toggleable__control sk-hidden--visually\" id=\"sk-estimator-id-34\" type=\"checkbox\" ><label for=\"sk-estimator-id-34\" class=\"sk-toggleable__label sk-toggleable__label-arrow\">ColumnTransformer</label><div class=\"sk-toggleable__content\"><pre>ColumnTransformer(transformers=[(&#x27;scaler&#x27;, MinMaxScaler(),\n                                 [&#x27;longitude&#x27;, &#x27;latitude&#x27;, &#x27;housing_median_age&#x27;,\n                                  &#x27;total_rooms&#x27;, &#x27;total_bedrooms&#x27;, &#x27;population&#x27;,\n                                  &#x27;households&#x27;, &#x27;median_income&#x27;,\n                                  &#x27;median_house_value&#x27;]),\n                                (&#x27;impute&#x27;, SimpleImputer(strategy=&#x27;median&#x27;),\n                                 [&#x27;longitude&#x27;, &#x27;latitude&#x27;, &#x27;housing_median_age&#x27;,\n                                  &#x27;total_rooms&#x27;, &#x27;total_bedrooms&#x27;, &#x27;population&#x27;,\n                                  &#x27;households&#x27;, &#x27;median_income&#x27;,\n                                  &#x27;median_house_value&#x27;]),\n                                (&#x27;ordinal&#x27;, OrdinalEncoder(),\n                                 [&#x27;ocean_proximity&#x27;]),\n                                (&#x27;ordinal&#x27;, OrdinalEncoder(), []),\n                                (None, None, None),\n                                (&#x27;ordinal&#x27;, OrdinalEncoder(), [&#x27;Cluster&#x27;])])</pre></div></div></div><div class=\"sk-parallel\"><div class=\"sk-parallel-item\"><div class=\"sk-item\"><div class=\"sk-label-container\"><div class=\"sk-label sk-toggleable\"><input class=\"sk-toggleable__control sk-hidden--visually\" id=\"sk-estimator-id-35\" type=\"checkbox\" ><label for=\"sk-estimator-id-35\" class=\"sk-toggleable__label sk-toggleable__label-arrow\">scaler</label><div class=\"sk-toggleable__content\"><pre>[&#x27;longitude&#x27;, &#x27;latitude&#x27;, &#x27;housing_median_age&#x27;, &#x27;total_rooms&#x27;, &#x27;total_bedrooms&#x27;, &#x27;population&#x27;, &#x27;households&#x27;, &#x27;median_income&#x27;, &#x27;median_house_value&#x27;]</pre></div></div></div><div class=\"sk-serial\"><div class=\"sk-item\"><div class=\"sk-estimator sk-toggleable\"><input class=\"sk-toggleable__control sk-hidden--visually\" id=\"sk-estimator-id-36\" type=\"checkbox\" ><label for=\"sk-estimator-id-36\" class=\"sk-toggleable__label sk-toggleable__label-arrow\">MinMaxScaler</label><div class=\"sk-toggleable__content\"><pre>MinMaxScaler()</pre></div></div></div></div></div></div><div class=\"sk-parallel-item\"><div class=\"sk-item\"><div class=\"sk-label-container\"><div class=\"sk-label sk-toggleable\"><input class=\"sk-toggleable__control sk-hidden--visually\" id=\"sk-estimator-id-37\" type=\"checkbox\" ><label for=\"sk-estimator-id-37\" class=\"sk-toggleable__label sk-toggleable__label-arrow\">impute</label><div class=\"sk-toggleable__content\"><pre>[&#x27;longitude&#x27;, &#x27;latitude&#x27;, &#x27;housing_median_age&#x27;, &#x27;total_rooms&#x27;, &#x27;total_bedrooms&#x27;, &#x27;population&#x27;, &#x27;households&#x27;, &#x27;median_income&#x27;, &#x27;median_house_value&#x27;]</pre></div></div></div><div class=\"sk-serial\"><div class=\"sk-item\"><div class=\"sk-estimator sk-toggleable\"><input class=\"sk-toggleable__control sk-hidden--visually\" id=\"sk-estimator-id-38\" type=\"checkbox\" ><label for=\"sk-estimator-id-38\" class=\"sk-toggleable__label sk-toggleable__label-arrow\">SimpleImputer</label><div class=\"sk-toggleable__content\"><pre>SimpleImputer(strategy=&#x27;median&#x27;)</pre></div></div></div></div></div></div><div class=\"sk-parallel-item\"><div class=\"sk-item\"><div class=\"sk-label-container\"><div class=\"sk-label sk-toggleable\"><input class=\"sk-toggleable__control sk-hidden--visually\" id=\"sk-estimator-id-39\" type=\"checkbox\" ><label for=\"sk-estimator-id-39\" class=\"sk-toggleable__label sk-toggleable__label-arrow\">ordinal</label><div class=\"sk-toggleable__content\"><pre>[&#x27;ocean_proximity&#x27;]</pre></div></div></div><div class=\"sk-serial\"><div class=\"sk-item\"><div class=\"sk-estimator sk-toggleable\"><input class=\"sk-toggleable__control sk-hidden--visually\" id=\"sk-estimator-id-40\" type=\"checkbox\" ><label for=\"sk-estimator-id-40\" class=\"sk-toggleable__label sk-toggleable__label-arrow\">OrdinalEncoder</label><div class=\"sk-toggleable__content\"><pre>OrdinalEncoder()</pre></div></div></div></div></div></div><div class=\"sk-parallel-item\"><div class=\"sk-item\"><div class=\"sk-label-container\"><div class=\"sk-label sk-toggleable\"><input class=\"sk-toggleable__control sk-hidden--visually\" id=\"sk-estimator-id-41\" type=\"checkbox\" ><label for=\"sk-estimator-id-41\" class=\"sk-toggleable__label sk-toggleable__label-arrow\">ordinal</label><div class=\"sk-toggleable__content\"><pre>[]</pre></div></div></div><div class=\"sk-serial\"><div class=\"sk-item\"><div class=\"sk-estimator sk-toggleable\"><input class=\"sk-toggleable__control sk-hidden--visually\" id=\"sk-estimator-id-42\" type=\"checkbox\" ><label for=\"sk-estimator-id-42\" class=\"sk-toggleable__label sk-toggleable__label-arrow\">OrdinalEncoder</label><div class=\"sk-toggleable__content\"><pre>OrdinalEncoder()</pre></div></div></div></div></div></div><div class=\"sk-parallel-item\"><div class=\"sk-item\"><div class=\"sk-serial\"><div class=\"sk-item\"><div class=\"sk-estimator sk-toggleable\"><input class=\"sk-toggleable__control sk-hidden--visually\" id=\"sk-estimator-id-43\" type=\"checkbox\" ><label for=\"sk-estimator-id-43\" class=\"sk-toggleable__label sk-toggleable__label-arrow\">None</label><div class=\"sk-toggleable__content\"><pre>None</pre></div></div></div></div></div></div><div class=\"sk-parallel-item\"><div class=\"sk-item\"><div class=\"sk-label-container\"><div class=\"sk-label sk-toggleable\"><input class=\"sk-toggleable__control sk-hidden--visually\" id=\"sk-estimator-id-44\" type=\"checkbox\" ><label for=\"sk-estimator-id-44\" class=\"sk-toggleable__label sk-toggleable__label-arrow\">ordinal</label><div class=\"sk-toggleable__content\"><pre>[&#x27;Cluster&#x27;]</pre></div></div></div><div class=\"sk-serial\"><div class=\"sk-item\"><div class=\"sk-estimator sk-toggleable\"><input class=\"sk-toggleable__control sk-hidden--visually\" id=\"sk-estimator-id-45\" type=\"checkbox\" ><label for=\"sk-estimator-id-45\" class=\"sk-toggleable__label sk-toggleable__label-arrow\">OrdinalEncoder</label><div class=\"sk-toggleable__content\"><pre>OrdinalEncoder()</pre></div></div></div></div></div></div></div></div></div></div>"
     },
     "execution_count": 71,
     "metadata": {},
     "output_type": "execute_result"
    }
   ],
   "source": [
    "pal.transformation_history[-1].get('pipeline')"
   ],
   "metadata": {
    "collapsed": false
   }
  },
  {
   "cell_type": "code",
   "execution_count": 140,
   "outputs": [],
   "source": [
    "pal.restore(version=3)"
   ],
   "metadata": {
    "collapsed": false
   }
  },
  {
   "cell_type": "code",
   "execution_count": 141,
   "outputs": [
    {
     "data": {
      "text/plain": "3"
     },
     "execution_count": 141,
     "metadata": {},
     "output_type": "execute_result"
    }
   ],
   "source": [
    "pal.current_version"
   ],
   "metadata": {
    "collapsed": false
   }
  },
  {
   "cell_type": "code",
   "execution_count": 142,
   "outputs": [
    {
     "data": {
      "text/plain": "ColumnTransformer(transformers=['scaler', MinMaxScaler(),\n                                ['longitude', 'latitude'], 'impute',\n                                SimpleImputer(strategy='median'),\n                                ['longitude', 'latitude'], 'pca',\n                                PCA(n_components=0.8), ['median_income']])",
      "text/html": "<style>#sk-container-id-39 {color: black;background-color: white;}#sk-container-id-39 pre{padding: 0;}#sk-container-id-39 div.sk-toggleable {background-color: white;}#sk-container-id-39 label.sk-toggleable__label {cursor: pointer;display: block;width: 100%;margin-bottom: 0;padding: 0.3em;box-sizing: border-box;text-align: center;}#sk-container-id-39 label.sk-toggleable__label-arrow:before {content: \"▸\";float: left;margin-right: 0.25em;color: #696969;}#sk-container-id-39 label.sk-toggleable__label-arrow:hover:before {color: black;}#sk-container-id-39 div.sk-estimator:hover label.sk-toggleable__label-arrow:before {color: black;}#sk-container-id-39 div.sk-toggleable__content {max-height: 0;max-width: 0;overflow: hidden;text-align: left;background-color: #f0f8ff;}#sk-container-id-39 div.sk-toggleable__content pre {margin: 0.2em;color: black;border-radius: 0.25em;background-color: #f0f8ff;}#sk-container-id-39 input.sk-toggleable__control:checked~div.sk-toggleable__content {max-height: 200px;max-width: 100%;overflow: auto;}#sk-container-id-39 input.sk-toggleable__control:checked~label.sk-toggleable__label-arrow:before {content: \"▾\";}#sk-container-id-39 div.sk-estimator input.sk-toggleable__control:checked~label.sk-toggleable__label {background-color: #d4ebff;}#sk-container-id-39 div.sk-label input.sk-toggleable__control:checked~label.sk-toggleable__label {background-color: #d4ebff;}#sk-container-id-39 input.sk-hidden--visually {border: 0;clip: rect(1px 1px 1px 1px);clip: rect(1px, 1px, 1px, 1px);height: 1px;margin: -1px;overflow: hidden;padding: 0;position: absolute;width: 1px;}#sk-container-id-39 div.sk-estimator {font-family: monospace;background-color: #f0f8ff;border: 1px dotted black;border-radius: 0.25em;box-sizing: border-box;margin-bottom: 0.5em;}#sk-container-id-39 div.sk-estimator:hover {background-color: #d4ebff;}#sk-container-id-39 div.sk-parallel-item::after {content: \"\";width: 100%;border-bottom: 1px solid gray;flex-grow: 1;}#sk-container-id-39 div.sk-label:hover label.sk-toggleable__label {background-color: #d4ebff;}#sk-container-id-39 div.sk-serial::before {content: \"\";position: absolute;border-left: 1px solid gray;box-sizing: border-box;top: 0;bottom: 0;left: 50%;z-index: 0;}#sk-container-id-39 div.sk-serial {display: flex;flex-direction: column;align-items: center;background-color: white;padding-right: 0.2em;padding-left: 0.2em;position: relative;}#sk-container-id-39 div.sk-item {position: relative;z-index: 1;}#sk-container-id-39 div.sk-parallel {display: flex;align-items: stretch;justify-content: center;background-color: white;position: relative;}#sk-container-id-39 div.sk-item::before, #sk-container-id-39 div.sk-parallel-item::before {content: \"\";position: absolute;border-left: 1px solid gray;box-sizing: border-box;top: 0;bottom: 0;left: 50%;z-index: -1;}#sk-container-id-39 div.sk-parallel-item {display: flex;flex-direction: column;z-index: 1;position: relative;background-color: white;}#sk-container-id-39 div.sk-parallel-item:first-child::after {align-self: flex-end;width: 50%;}#sk-container-id-39 div.sk-parallel-item:last-child::after {align-self: flex-start;width: 50%;}#sk-container-id-39 div.sk-parallel-item:only-child::after {width: 0;}#sk-container-id-39 div.sk-dashed-wrapped {border: 1px dashed gray;margin: 0 0.4em 0.5em 0.4em;box-sizing: border-box;padding-bottom: 0.4em;background-color: white;}#sk-container-id-39 div.sk-label label {font-family: monospace;font-weight: bold;display: inline-block;line-height: 1.2em;}#sk-container-id-39 div.sk-label-container {text-align: center;}#sk-container-id-39 div.sk-container {/* jupyter's `normalize.less` sets `[hidden] { display: none; }` but bootstrap.min.css set `[hidden] { display: none !important; }` so we also need the `!important` here to be able to override the default hidden behavior on the sphinx rendered scikit-learn.org. See: https://github.com/scikit-learn/scikit-learn/issues/21755 */display: inline-block !important;position: relative;}#sk-container-id-39 div.sk-text-repr-fallback {display: none;}</style><div id=\"sk-container-id-39\" class=\"sk-top-container\"><div class=\"sk-text-repr-fallback\"><pre>ColumnTransformer(transformers=[&#x27;scaler&#x27;, MinMaxScaler(),\n                                [&#x27;longitude&#x27;, &#x27;latitude&#x27;], &#x27;impute&#x27;,\n                                SimpleImputer(strategy=&#x27;median&#x27;),\n                                [&#x27;longitude&#x27;, &#x27;latitude&#x27;], &#x27;pca&#x27;,\n                                PCA(n_components=0.8), [&#x27;median_income&#x27;]])</pre><b>In a Jupyter environment, please rerun this cell to show the HTML representation or trust the notebook. <br />On GitHub, the HTML representation is unable to render, please try loading this page with nbviewer.org.</b></div><div class=\"sk-container\" hidden><div class=\"sk-item\"><div class=\"sk-estimator sk-toggleable\"><input class=\"sk-toggleable__control sk-hidden--visually\" id=\"sk-estimator-id-39\" type=\"checkbox\" checked><label for=\"sk-estimator-id-39\" class=\"sk-toggleable__label sk-toggleable__label-arrow\">ColumnTransformer</label><div class=\"sk-toggleable__content\"><pre>ColumnTransformer(transformers=[&#x27;scaler&#x27;, MinMaxScaler(),\n                                [&#x27;longitude&#x27;, &#x27;latitude&#x27;], &#x27;impute&#x27;,\n                                SimpleImputer(strategy=&#x27;median&#x27;),\n                                [&#x27;longitude&#x27;, &#x27;latitude&#x27;], &#x27;pca&#x27;,\n                                PCA(n_components=0.8), [&#x27;median_income&#x27;]])</pre></div></div></div></div></div>"
     },
     "execution_count": 142,
     "metadata": {},
     "output_type": "execute_result"
    }
   ],
   "source": [
    "pal.transformation_history[-1].get('pipeline')"
   ],
   "metadata": {
    "collapsed": false
   }
  },
  {
   "cell_type": "code",
   "execution_count": null,
   "outputs": [],
   "source": [
    "X = df.drop(columns=['ocean_proximity'])\n",
    "Y = df['ocean_proximity']"
   ],
   "metadata": {
    "collapsed": false
   }
  },
  {
   "cell_type": "code",
   "execution_count": 28,
   "outputs": [],
   "source": [
    "from sklearn.model_selection import train_test_split\n",
    "train_X, test_X, train_Y, test_Y = train_test_split(X,Y, test_size=0.20, random_state=42)"
   ],
   "metadata": {
    "collapsed": false
   }
  },
  {
   "cell_type": "code",
   "execution_count": 33,
   "outputs": [
    {
     "data": {
      "text/plain": "4128"
     },
     "execution_count": 33,
     "metadata": {},
     "output_type": "execute_result"
    }
   ],
   "source": [
    "len(test_X)"
   ],
   "metadata": {
    "collapsed": false
   }
  },
  {
   "cell_type": "code",
   "execution_count": 202,
   "outputs": [],
   "source": [
    "from sklearn.compose import ColumnTransformer\n",
    "from sklearn.base import BaseEstimator,TransformerMixin\n",
    "from sklearn.cluster import KMeans\n",
    "\n",
    "class BestKColumnAdder(BaseEstimator,TransformerMixin):\n",
    "    def __init__(self, best_K=None):\n",
    "        self.best_K = best_K\n",
    "    def fit(self, X,y=None):\n",
    "        return self\n",
    "    def transform(self, X):\n",
    "        X['Cluster'] = [\"Cluster \" + str(i) for i in KMeans(n_clusters=6, random_state=42).predict(X)]"
   ],
   "metadata": {
    "collapsed": false
   }
  },
  {
   "cell_type": "code",
   "execution_count": 370,
   "outputs": [],
   "source": [
    "dir = 'C:/Users/JesperFrederiksen/PycharmProjects/ML-code/datasets/housing/housing.csv'\n",
    "df = pd.read_csv(dir)\n",
    "df_train = df.iloc[0:15000,]\n",
    "df_test = df.iloc[15000:,]"
   ],
   "metadata": {
    "collapsed": false
   }
  },
  {
   "cell_type": "code",
   "execution_count": 371,
   "outputs": [
    {
     "data": {
      "text/plain": "BestKColumnAdder(best_K=6)",
      "text/html": "<style>#sk-container-id-29 {color: black;background-color: white;}#sk-container-id-29 pre{padding: 0;}#sk-container-id-29 div.sk-toggleable {background-color: white;}#sk-container-id-29 label.sk-toggleable__label {cursor: pointer;display: block;width: 100%;margin-bottom: 0;padding: 0.3em;box-sizing: border-box;text-align: center;}#sk-container-id-29 label.sk-toggleable__label-arrow:before {content: \"▸\";float: left;margin-right: 0.25em;color: #696969;}#sk-container-id-29 label.sk-toggleable__label-arrow:hover:before {color: black;}#sk-container-id-29 div.sk-estimator:hover label.sk-toggleable__label-arrow:before {color: black;}#sk-container-id-29 div.sk-toggleable__content {max-height: 0;max-width: 0;overflow: hidden;text-align: left;background-color: #f0f8ff;}#sk-container-id-29 div.sk-toggleable__content pre {margin: 0.2em;color: black;border-radius: 0.25em;background-color: #f0f8ff;}#sk-container-id-29 input.sk-toggleable__control:checked~div.sk-toggleable__content {max-height: 200px;max-width: 100%;overflow: auto;}#sk-container-id-29 input.sk-toggleable__control:checked~label.sk-toggleable__label-arrow:before {content: \"▾\";}#sk-container-id-29 div.sk-estimator input.sk-toggleable__control:checked~label.sk-toggleable__label {background-color: #d4ebff;}#sk-container-id-29 div.sk-label input.sk-toggleable__control:checked~label.sk-toggleable__label {background-color: #d4ebff;}#sk-container-id-29 input.sk-hidden--visually {border: 0;clip: rect(1px 1px 1px 1px);clip: rect(1px, 1px, 1px, 1px);height: 1px;margin: -1px;overflow: hidden;padding: 0;position: absolute;width: 1px;}#sk-container-id-29 div.sk-estimator {font-family: monospace;background-color: #f0f8ff;border: 1px dotted black;border-radius: 0.25em;box-sizing: border-box;margin-bottom: 0.5em;}#sk-container-id-29 div.sk-estimator:hover {background-color: #d4ebff;}#sk-container-id-29 div.sk-parallel-item::after {content: \"\";width: 100%;border-bottom: 1px solid gray;flex-grow: 1;}#sk-container-id-29 div.sk-label:hover label.sk-toggleable__label {background-color: #d4ebff;}#sk-container-id-29 div.sk-serial::before {content: \"\";position: absolute;border-left: 1px solid gray;box-sizing: border-box;top: 0;bottom: 0;left: 50%;z-index: 0;}#sk-container-id-29 div.sk-serial {display: flex;flex-direction: column;align-items: center;background-color: white;padding-right: 0.2em;padding-left: 0.2em;position: relative;}#sk-container-id-29 div.sk-item {position: relative;z-index: 1;}#sk-container-id-29 div.sk-parallel {display: flex;align-items: stretch;justify-content: center;background-color: white;position: relative;}#sk-container-id-29 div.sk-item::before, #sk-container-id-29 div.sk-parallel-item::before {content: \"\";position: absolute;border-left: 1px solid gray;box-sizing: border-box;top: 0;bottom: 0;left: 50%;z-index: -1;}#sk-container-id-29 div.sk-parallel-item {display: flex;flex-direction: column;z-index: 1;position: relative;background-color: white;}#sk-container-id-29 div.sk-parallel-item:first-child::after {align-self: flex-end;width: 50%;}#sk-container-id-29 div.sk-parallel-item:last-child::after {align-self: flex-start;width: 50%;}#sk-container-id-29 div.sk-parallel-item:only-child::after {width: 0;}#sk-container-id-29 div.sk-dashed-wrapped {border: 1px dashed gray;margin: 0 0.4em 0.5em 0.4em;box-sizing: border-box;padding-bottom: 0.4em;background-color: white;}#sk-container-id-29 div.sk-label label {font-family: monospace;font-weight: bold;display: inline-block;line-height: 1.2em;}#sk-container-id-29 div.sk-label-container {text-align: center;}#sk-container-id-29 div.sk-container {/* jupyter's `normalize.less` sets `[hidden] { display: none; }` but bootstrap.min.css set `[hidden] { display: none !important; }` so we also need the `!important` here to be able to override the default hidden behavior on the sphinx rendered scikit-learn.org. See: https://github.com/scikit-learn/scikit-learn/issues/21755 */display: inline-block !important;position: relative;}#sk-container-id-29 div.sk-text-repr-fallback {display: none;}</style><div id=\"sk-container-id-29\" class=\"sk-top-container\"><div class=\"sk-text-repr-fallback\"><pre>BestKColumnAdder(best_K=6)</pre><b>In a Jupyter environment, please rerun this cell to show the HTML representation or trust the notebook. <br />On GitHub, the HTML representation is unable to render, please try loading this page with nbviewer.org.</b></div><div class=\"sk-container\" hidden><div class=\"sk-item\"><div class=\"sk-estimator sk-toggleable\"><input class=\"sk-toggleable__control sk-hidden--visually\" id=\"sk-estimator-id-35\" type=\"checkbox\" checked><label for=\"sk-estimator-id-35\" class=\"sk-toggleable__label sk-toggleable__label-arrow\">BestKColumnAdder</label><div class=\"sk-toggleable__content\"><pre>BestKColumnAdder(best_K=6)</pre></div></div></div></div></div>"
     },
     "execution_count": 371,
     "metadata": {},
     "output_type": "execute_result"
    }
   ],
   "source": [
    "transformer = BestKColumnAdder(best_K=6)\n",
    "transformer"
   ],
   "metadata": {
    "collapsed": false
   }
  },
  {
   "cell_type": "code",
   "execution_count": 372,
   "outputs": [],
   "source": [
    "fitted = transformer.fit(df_train)"
   ],
   "metadata": {
    "collapsed": false
   }
  },
  {
   "cell_type": "code",
   "execution_count": 214,
   "outputs": [
    {
     "data": {
      "text/plain": "       longitude  latitude  housing_median_age  total_rooms  total_bedrooms  \\\n15000    -117.04     32.74                33.0       3880.0           770.0   \n15001    -117.02     32.74                12.0       3301.0           963.0   \n15002    -117.04     32.74                 5.0       2878.0           785.0   \n15003    -117.04     32.75                36.0       2297.0           418.0   \n15004    -117.05     32.75                29.0       2767.0           612.0   \n\n       population  households  median_income  median_house_value  \\\n15000      2288.0       805.0         3.6848            140700.0   \n15001      2000.0       879.0         1.8594            119200.0   \n15002      1727.0       758.0         1.7179            132000.0   \n15003      1070.0       392.0         3.5192            144000.0   \n15004      1437.0       587.0         2.8306            142900.0   \n\n      ocean_proximity  \n15000      NEAR OCEAN  \n15001      NEAR OCEAN  \n15002      NEAR OCEAN  \n15003      NEAR OCEAN  \n15004      NEAR OCEAN  ",
      "text/html": "<div>\n<style scoped>\n    .dataframe tbody tr th:only-of-type {\n        vertical-align: middle;\n    }\n\n    .dataframe tbody tr th {\n        vertical-align: top;\n    }\n\n    .dataframe thead th {\n        text-align: right;\n    }\n</style>\n<table border=\"1\" class=\"dataframe\">\n  <thead>\n    <tr style=\"text-align: right;\">\n      <th></th>\n      <th>longitude</th>\n      <th>latitude</th>\n      <th>housing_median_age</th>\n      <th>total_rooms</th>\n      <th>total_bedrooms</th>\n      <th>population</th>\n      <th>households</th>\n      <th>median_income</th>\n      <th>median_house_value</th>\n      <th>ocean_proximity</th>\n    </tr>\n  </thead>\n  <tbody>\n    <tr>\n      <th>15000</th>\n      <td>-117.04</td>\n      <td>32.74</td>\n      <td>33.0</td>\n      <td>3880.0</td>\n      <td>770.0</td>\n      <td>2288.0</td>\n      <td>805.0</td>\n      <td>3.6848</td>\n      <td>140700.0</td>\n      <td>NEAR OCEAN</td>\n    </tr>\n    <tr>\n      <th>15001</th>\n      <td>-117.02</td>\n      <td>32.74</td>\n      <td>12.0</td>\n      <td>3301.0</td>\n      <td>963.0</td>\n      <td>2000.0</td>\n      <td>879.0</td>\n      <td>1.8594</td>\n      <td>119200.0</td>\n      <td>NEAR OCEAN</td>\n    </tr>\n    <tr>\n      <th>15002</th>\n      <td>-117.04</td>\n      <td>32.74</td>\n      <td>5.0</td>\n      <td>2878.0</td>\n      <td>785.0</td>\n      <td>1727.0</td>\n      <td>758.0</td>\n      <td>1.7179</td>\n      <td>132000.0</td>\n      <td>NEAR OCEAN</td>\n    </tr>\n    <tr>\n      <th>15003</th>\n      <td>-117.04</td>\n      <td>32.75</td>\n      <td>36.0</td>\n      <td>2297.0</td>\n      <td>418.0</td>\n      <td>1070.0</td>\n      <td>392.0</td>\n      <td>3.5192</td>\n      <td>144000.0</td>\n      <td>NEAR OCEAN</td>\n    </tr>\n    <tr>\n      <th>15004</th>\n      <td>-117.05</td>\n      <td>32.75</td>\n      <td>29.0</td>\n      <td>2767.0</td>\n      <td>612.0</td>\n      <td>1437.0</td>\n      <td>587.0</td>\n      <td>2.8306</td>\n      <td>142900.0</td>\n      <td>NEAR OCEAN</td>\n    </tr>\n  </tbody>\n</table>\n</div>"
     },
     "execution_count": 214,
     "metadata": {},
     "output_type": "execute_result"
    }
   ],
   "source": [
    "#df_train.head()\n",
    "#df_test.head()"
   ],
   "metadata": {
    "collapsed": false
   }
  },
  {
   "cell_type": "markdown",
   "source": [
    "______"
   ],
   "metadata": {
    "collapsed": false
   }
  },
  {
   "cell_type": "code",
   "execution_count": 417,
   "outputs": [],
   "source": [
    "dir = 'C:/Users/JesperFrederiksen/PycharmProjects/ML-code/datasets/housing/housing.csv'\n",
    "df = pd.read_csv(dir)\n",
    "df_train = df.select_dtypes(include='float').dropna().iloc[0:15000,]\n",
    "df_test = df.select_dtypes(include='float').dropna().iloc[15000:,]"
   ],
   "metadata": {
    "collapsed": false
   }
  },
  {
   "cell_type": "code",
   "execution_count": 418,
   "outputs": [
    {
     "name": "stderr",
     "output_type": "stream",
     "text": [
      "C:\\Users\\JesperFrederiksen\\PycharmProjects\\ML-code\\venv\\Lib\\site-packages\\sklearn\\cluster\\_kmeans.py:870: FutureWarning: The default value of `n_init` will change from 10 to 'auto' in 1.4. Set the value of `n_init` explicitly to suppress the warning\n",
      "  warnings.warn(\n"
     ]
    },
    {
     "data": {
      "text/plain": "KMeans(n_clusters=3)",
      "text/html": "<style>#sk-container-id-36 {color: black;background-color: white;}#sk-container-id-36 pre{padding: 0;}#sk-container-id-36 div.sk-toggleable {background-color: white;}#sk-container-id-36 label.sk-toggleable__label {cursor: pointer;display: block;width: 100%;margin-bottom: 0;padding: 0.3em;box-sizing: border-box;text-align: center;}#sk-container-id-36 label.sk-toggleable__label-arrow:before {content: \"▸\";float: left;margin-right: 0.25em;color: #696969;}#sk-container-id-36 label.sk-toggleable__label-arrow:hover:before {color: black;}#sk-container-id-36 div.sk-estimator:hover label.sk-toggleable__label-arrow:before {color: black;}#sk-container-id-36 div.sk-toggleable__content {max-height: 0;max-width: 0;overflow: hidden;text-align: left;background-color: #f0f8ff;}#sk-container-id-36 div.sk-toggleable__content pre {margin: 0.2em;color: black;border-radius: 0.25em;background-color: #f0f8ff;}#sk-container-id-36 input.sk-toggleable__control:checked~div.sk-toggleable__content {max-height: 200px;max-width: 100%;overflow: auto;}#sk-container-id-36 input.sk-toggleable__control:checked~label.sk-toggleable__label-arrow:before {content: \"▾\";}#sk-container-id-36 div.sk-estimator input.sk-toggleable__control:checked~label.sk-toggleable__label {background-color: #d4ebff;}#sk-container-id-36 div.sk-label input.sk-toggleable__control:checked~label.sk-toggleable__label {background-color: #d4ebff;}#sk-container-id-36 input.sk-hidden--visually {border: 0;clip: rect(1px 1px 1px 1px);clip: rect(1px, 1px, 1px, 1px);height: 1px;margin: -1px;overflow: hidden;padding: 0;position: absolute;width: 1px;}#sk-container-id-36 div.sk-estimator {font-family: monospace;background-color: #f0f8ff;border: 1px dotted black;border-radius: 0.25em;box-sizing: border-box;margin-bottom: 0.5em;}#sk-container-id-36 div.sk-estimator:hover {background-color: #d4ebff;}#sk-container-id-36 div.sk-parallel-item::after {content: \"\";width: 100%;border-bottom: 1px solid gray;flex-grow: 1;}#sk-container-id-36 div.sk-label:hover label.sk-toggleable__label {background-color: #d4ebff;}#sk-container-id-36 div.sk-serial::before {content: \"\";position: absolute;border-left: 1px solid gray;box-sizing: border-box;top: 0;bottom: 0;left: 50%;z-index: 0;}#sk-container-id-36 div.sk-serial {display: flex;flex-direction: column;align-items: center;background-color: white;padding-right: 0.2em;padding-left: 0.2em;position: relative;}#sk-container-id-36 div.sk-item {position: relative;z-index: 1;}#sk-container-id-36 div.sk-parallel {display: flex;align-items: stretch;justify-content: center;background-color: white;position: relative;}#sk-container-id-36 div.sk-item::before, #sk-container-id-36 div.sk-parallel-item::before {content: \"\";position: absolute;border-left: 1px solid gray;box-sizing: border-box;top: 0;bottom: 0;left: 50%;z-index: -1;}#sk-container-id-36 div.sk-parallel-item {display: flex;flex-direction: column;z-index: 1;position: relative;background-color: white;}#sk-container-id-36 div.sk-parallel-item:first-child::after {align-self: flex-end;width: 50%;}#sk-container-id-36 div.sk-parallel-item:last-child::after {align-self: flex-start;width: 50%;}#sk-container-id-36 div.sk-parallel-item:only-child::after {width: 0;}#sk-container-id-36 div.sk-dashed-wrapped {border: 1px dashed gray;margin: 0 0.4em 0.5em 0.4em;box-sizing: border-box;padding-bottom: 0.4em;background-color: white;}#sk-container-id-36 div.sk-label label {font-family: monospace;font-weight: bold;display: inline-block;line-height: 1.2em;}#sk-container-id-36 div.sk-label-container {text-align: center;}#sk-container-id-36 div.sk-container {/* jupyter's `normalize.less` sets `[hidden] { display: none; }` but bootstrap.min.css set `[hidden] { display: none !important; }` so we also need the `!important` here to be able to override the default hidden behavior on the sphinx rendered scikit-learn.org. See: https://github.com/scikit-learn/scikit-learn/issues/21755 */display: inline-block !important;position: relative;}#sk-container-id-36 div.sk-text-repr-fallback {display: none;}</style><div id=\"sk-container-id-36\" class=\"sk-top-container\"><div class=\"sk-text-repr-fallback\"><pre>KMeans(n_clusters=3)</pre><b>In a Jupyter environment, please rerun this cell to show the HTML representation or trust the notebook. <br />On GitHub, the HTML representation is unable to render, please try loading this page with nbviewer.org.</b></div><div class=\"sk-container\" hidden><div class=\"sk-item\"><div class=\"sk-estimator sk-toggleable\"><input class=\"sk-toggleable__control sk-hidden--visually\" id=\"sk-estimator-id-42\" type=\"checkbox\" checked><label for=\"sk-estimator-id-42\" class=\"sk-toggleable__label sk-toggleable__label-arrow\">KMeans</label><div class=\"sk-toggleable__content\"><pre>KMeans(n_clusters=3)</pre></div></div></div></div></div>"
     },
     "execution_count": 418,
     "metadata": {},
     "output_type": "execute_result"
    }
   ],
   "source": [
    "fittedKM = KMeans(n_clusters=3).fit(df_train)\n",
    "fittedKM"
   ],
   "metadata": {
    "collapsed": false
   }
  },
  {
   "cell_type": "code",
   "execution_count": 419,
   "outputs": [],
   "source": [
    "#fittedKM.predict(df_train)\n",
    "#fittedKM.predict(df_test)"
   ],
   "metadata": {
    "collapsed": false
   }
  },
  {
   "cell_type": "code",
   "execution_count": 422,
   "outputs": [
    {
     "data": {
      "text/plain": "array([[ 95882.85689222, 207704.51419933,  15908.28514534],\n       [ 73176.80190226, 230403.53532639,  38584.46897614],\n       [  3663.28061751, 300311.29870418, 108503.53372654],\n       ...,\n       [ 23731.45285155, 327304.43411854, 135485.72430835],\n       [ 31339.54825592, 334905.98037107, 143089.0921146 ],\n       [ 26630.59098654, 330203.42867305, 138383.53318064]])"
     },
     "execution_count": 422,
     "metadata": {},
     "output_type": "execute_result"
    }
   ],
   "source": [
    "test_clusters = fittedKM.transform(df_test)\n",
    "test_clusters"
   ],
   "metadata": {
    "collapsed": false
   }
  },
  {
   "cell_type": "code",
   "execution_count": 425,
   "outputs": [
    {
     "data": {
      "text/plain": "      cluster_transform  cluster_predict\n0                     2                2\n1                     2                2\n2                     0                0\n3                     2                2\n4                     1                1\n...                 ...              ...\n5428                  0                0\n5429                  0                0\n5430                  0                0\n5431                  0                0\n5432                  0                0\n\n[5433 rows x 2 columns]",
      "text/html": "<div>\n<style scoped>\n    .dataframe tbody tr th:only-of-type {\n        vertical-align: middle;\n    }\n\n    .dataframe tbody tr th {\n        vertical-align: top;\n    }\n\n    .dataframe thead th {\n        text-align: right;\n    }\n</style>\n<table border=\"1\" class=\"dataframe\">\n  <thead>\n    <tr style=\"text-align: right;\">\n      <th></th>\n      <th>cluster_transform</th>\n      <th>cluster_predict</th>\n    </tr>\n  </thead>\n  <tbody>\n    <tr>\n      <th>0</th>\n      <td>2</td>\n      <td>2</td>\n    </tr>\n    <tr>\n      <th>1</th>\n      <td>2</td>\n      <td>2</td>\n    </tr>\n    <tr>\n      <th>2</th>\n      <td>0</td>\n      <td>0</td>\n    </tr>\n    <tr>\n      <th>3</th>\n      <td>2</td>\n      <td>2</td>\n    </tr>\n    <tr>\n      <th>4</th>\n      <td>1</td>\n      <td>1</td>\n    </tr>\n    <tr>\n      <th>...</th>\n      <td>...</td>\n      <td>...</td>\n    </tr>\n    <tr>\n      <th>5428</th>\n      <td>0</td>\n      <td>0</td>\n    </tr>\n    <tr>\n      <th>5429</th>\n      <td>0</td>\n      <td>0</td>\n    </tr>\n    <tr>\n      <th>5430</th>\n      <td>0</td>\n      <td>0</td>\n    </tr>\n    <tr>\n      <th>5431</th>\n      <td>0</td>\n      <td>0</td>\n    </tr>\n    <tr>\n      <th>5432</th>\n      <td>0</td>\n      <td>0</td>\n    </tr>\n  </tbody>\n</table>\n<p>5433 rows × 2 columns</p>\n</div>"
     },
     "execution_count": 425,
     "metadata": {},
     "output_type": "execute_result"
    }
   ],
   "source": [
    "test_trans = pd.DataFrame(data=test_clusters).apply(lambda x: x.astype(float))\n",
    "test_trans['cluster_transform'] = test_trans.idxmin(axis='columns')\n",
    "test_trans['cluster_predict'] = [i for i in fittedKM.predict(df_test)]\n",
    "test_trans[['cluster_transform','cluster_predict']]"
   ],
   "metadata": {
    "collapsed": false
   }
  },
  {
   "cell_type": "code",
   "execution_count": 564,
   "outputs": [],
   "source": [
    "    def clusterV2(self, max_k=10, store=True):\n",
    "        \"\"\"Uses the SKLearn KMeans to cluster the dataset\"\"\"\n",
    "        dataset = self.output\n",
    "        from sklearn.cluster import KMeans\n",
    "        from matplotlib import pyplot\n",
    "        from sklearn.metrics import silhouette_score\n",
    "        kmeans_per_k = [KMeans(n_clusters=k, random_state=42).fit(dataset) for k in range(1, max_k + 1)]\n",
    "        silhouettes = [silhouette_score(dataset, model.labels_) for model in kmeans_per_k[1:]]\n",
    "        best_k = silhouettes.index(max(silhouettes)) + 2\n",
    "        plt.plot(range(2, max_k + 1), silhouettes)\n",
    "        plt.xlabel(\"KMeans\")\n",
    "        plt.ylabel(\"Silhouette-score\")\n",
    "        plt.show()\n",
    "        print(\"Best silhouette is obtained with k as: \", best_k)\n",
    "        if store:\n",
    "            bestKMeans = KMeans(n_clusters=best_k, random_state=42).fit(dataset)\n",
    "            self.output[\"Cluster\"] = [\"Cluster \" + str(i) for i in bestKMeans.predict(dataset)]\n",
    "            self.update_attributes()\n",
    "            self.update_history(step=\"Added Cluster-label as column to dataset\",snapshot=self.output)\n",
    "        return self.output"
   ],
   "metadata": {
    "collapsed": false
   }
  },
  {
   "cell_type": "code",
   "execution_count": 660,
   "outputs": [],
   "source": [
    "from sklearn.compose import ColumnTransformer\n",
    "from sklearn.base import BaseEstimator,TransformerMixin\n",
    "from sklearn.cluster import KMeans\n",
    "from sklearn.utils import check_random_state\n",
    "\n",
    "class ClusterIdentifier(BaseEstimator,TransformerMixin):\n",
    "    def __init__(self, best_K=None,random_state=None):\n",
    "        self.random_state = random_state\n",
    "        self.best_K = best_K\n",
    "\n",
    "    def fit(self, X, y=None):\n",
    "        self.random_state_ = check_random_state(self.random_state)\n",
    "        self.estimator = KMeans(n_clusters=self.best_K,random_state=42).fit(X)\n",
    "        return self\n",
    "\n",
    "    def transform(self, X, y=None):\n",
    "        X_trans = pd.DataFrame(data=self.estimator.transform(X)).apply(lambda x: x.astype(float))\n",
    "        X_trans['cluster'] = X_trans.idxmin(axis=1)\n",
    "        return X_trans"
   ],
   "metadata": {
    "collapsed": false
   }
  },
  {
   "cell_type": "code",
   "execution_count": 661,
   "outputs": [
    {
     "name": "stderr",
     "output_type": "stream",
     "text": [
      "C:\\Users\\JesperFrederiksen\\PycharmProjects\\ML-code\\venv\\Lib\\site-packages\\sklearn\\cluster\\_kmeans.py:870: FutureWarning: The default value of `n_init` will change from 10 to 'auto' in 1.4. Set the value of `n_init` explicitly to suppress the warning\n",
      "  warnings.warn(\n"
     ]
    }
   ],
   "source": [
    "dir = 'C:/Users/JesperFrederiksen/PycharmProjects/ML-code/datasets/housing/housing.csv'\n",
    "df = pd.read_csv(dir)\n",
    "df_train = df.select_dtypes(include='float').dropna().iloc[0:15000,]\n",
    "df_test = df.select_dtypes(include='float').dropna().iloc[15000:,]\n",
    "\n",
    "TEST_Fit = ClusterIdentifier(best_K=3).fit(X=df_train)"
   ],
   "metadata": {
    "collapsed": false
   }
  },
  {
   "cell_type": "code",
   "execution_count": 662,
   "outputs": [],
   "source": [
    "TEST_Trans = TEST_Fit.transform(df_train)"
   ],
   "metadata": {
    "collapsed": false
   }
  },
  {
   "cell_type": "code",
   "execution_count": 663,
   "outputs": [
    {
     "data": {
      "text/plain": "                   0              1              2  cluster\n0      224634.177420   32998.218389  336468.298539        1\n1      130596.521745   61341.775715  242412.401431        1\n2      124134.516296   67619.468016  235966.776686        1\n3      113337.443763   78419.221478  225167.459715        1\n4      114232.722524   77511.707767  226065.888969        1\n...              ...            ...            ...      ...\n14995   81092.830749  272797.831977   30827.966390        2\n14996   57886.729032  249596.530865   53965.506135        2\n14997   41478.950217  233194.085234   70366.035006        0\n14998     609.054861  191894.938664  111663.601100        0\n14999   50778.589342  242494.211266   61064.481778        0\n\n[15000 rows x 4 columns]",
      "text/html": "<div>\n<style scoped>\n    .dataframe tbody tr th:only-of-type {\n        vertical-align: middle;\n    }\n\n    .dataframe tbody tr th {\n        vertical-align: top;\n    }\n\n    .dataframe thead th {\n        text-align: right;\n    }\n</style>\n<table border=\"1\" class=\"dataframe\">\n  <thead>\n    <tr style=\"text-align: right;\">\n      <th></th>\n      <th>0</th>\n      <th>1</th>\n      <th>2</th>\n      <th>cluster</th>\n    </tr>\n  </thead>\n  <tbody>\n    <tr>\n      <th>0</th>\n      <td>224634.177420</td>\n      <td>32998.218389</td>\n      <td>336468.298539</td>\n      <td>1</td>\n    </tr>\n    <tr>\n      <th>1</th>\n      <td>130596.521745</td>\n      <td>61341.775715</td>\n      <td>242412.401431</td>\n      <td>1</td>\n    </tr>\n    <tr>\n      <th>2</th>\n      <td>124134.516296</td>\n      <td>67619.468016</td>\n      <td>235966.776686</td>\n      <td>1</td>\n    </tr>\n    <tr>\n      <th>3</th>\n      <td>113337.443763</td>\n      <td>78419.221478</td>\n      <td>225167.459715</td>\n      <td>1</td>\n    </tr>\n    <tr>\n      <th>4</th>\n      <td>114232.722524</td>\n      <td>77511.707767</td>\n      <td>226065.888969</td>\n      <td>1</td>\n    </tr>\n    <tr>\n      <th>...</th>\n      <td>...</td>\n      <td>...</td>\n      <td>...</td>\n      <td>...</td>\n    </tr>\n    <tr>\n      <th>14995</th>\n      <td>81092.830749</td>\n      <td>272797.831977</td>\n      <td>30827.966390</td>\n      <td>2</td>\n    </tr>\n    <tr>\n      <th>14996</th>\n      <td>57886.729032</td>\n      <td>249596.530865</td>\n      <td>53965.506135</td>\n      <td>2</td>\n    </tr>\n    <tr>\n      <th>14997</th>\n      <td>41478.950217</td>\n      <td>233194.085234</td>\n      <td>70366.035006</td>\n      <td>0</td>\n    </tr>\n    <tr>\n      <th>14998</th>\n      <td>609.054861</td>\n      <td>191894.938664</td>\n      <td>111663.601100</td>\n      <td>0</td>\n    </tr>\n    <tr>\n      <th>14999</th>\n      <td>50778.589342</td>\n      <td>242494.211266</td>\n      <td>61064.481778</td>\n      <td>0</td>\n    </tr>\n  </tbody>\n</table>\n<p>15000 rows × 4 columns</p>\n</div>"
     },
     "execution_count": 663,
     "metadata": {},
     "output_type": "execute_result"
    }
   ],
   "source": [
    "TEST_Trans"
   ],
   "metadata": {
    "collapsed": false
   }
  },
  {
   "cell_type": "code",
   "execution_count": null,
   "outputs": [],
   "source": [],
   "metadata": {
    "collapsed": false,
    "pycharm": {
     "is_executing": true
    }
   }
  },
  {
   "cell_type": "markdown",
   "source": [
    "Det har noget med antallet af kolonner der kommer med fra transformation til transformation når Execute_pipeline afvikles. Undersøg passthrough.\n",
    "OPDATERING: Det skyldes at ColumnTransformer ikke er designet til at lave multiple transformationer på samme kolonne.\n",
    "MULIG LØSNING: Udtræk alene de sets() som udgør ColumnTransformers argumenter og grupper dem så efter kolonner ind til nye Pipelines\n"
   ],
   "metadata": {
    "collapsed": false
   }
  },
  {
   "cell_type": "code",
   "execution_count": 1125,
   "outputs": [],
   "source": [
    "transSteps = [('første',SimpleImputer(),['colA','colB']),('anden',MinMaxScaler(),['colA','colB','colC'])]"
   ],
   "metadata": {
    "collapsed": false
   }
  },
  {
   "cell_type": "code",
   "execution_count": 5,
   "outputs": [
    {
     "data": {
      "text/plain": "[{'version': 0,\n  'transformation': 'input',\n  'result': 'data',\n  'transformer': SimpleImputer(),\n  'cols': ['A', 'B', 'C']},\n {'version': 0,\n  'transformation': 'scaler',\n  'result': 'data',\n  'transformer': StandardScaler(),\n  'cols': ['B', 'C', 'D']}]"
     },
     "execution_count": 5,
     "metadata": {},
     "output_type": "execute_result"
    }
   ],
   "source": [
    "import numpy as np\n",
    "import pandas as pd\n",
    "import matplotlib.pyplot as plt\n",
    "from sklearn.model_selection import train_test_split\n",
    "from sklearn.pipeline import Pipeline\n",
    "from sklearn.impute import SimpleImputer\n",
    "from sklearn.preprocessing import StandardScaler\n",
    "from sklearn.compose import ColumnTransformer\n",
    "from sklearn.base import BaseEstimator,TransformerMixin\n",
    "\n",
    "\n",
    "\n",
    "dict1 = dict(version=0,transformation='input',result='data',transformer=SimpleImputer(),cols=['A','B','C'])\n",
    "dict2 = dict(version=0,transformation='scaler',result='data',transformer=StandardScaler(),cols=['B','C','D'])\n",
    "myList = [dict1, dict2]\n",
    "myList"
   ],
   "metadata": {
    "collapsed": false
   }
  },
  {
   "cell_type": "code",
   "execution_count": 6,
   "outputs": [
    {
     "data": {
      "text/plain": "[('A', SimpleImputer()),\n ('B', SimpleImputer()),\n ('C', SimpleImputer()),\n ('B', StandardScaler()),\n ('C', StandardScaler()),\n ('D', StandardScaler())]"
     },
     "execution_count": 6,
     "metadata": {},
     "output_type": "execute_result"
    }
   ],
   "source": [
    "import itertools\n",
    "\n",
    "pipelines = [i.get('transformer') for i in myList]\n",
    "cols = [i.get('cols') for i in myList]\n",
    "unique_cols = set([i for j in cols for i in j])\n",
    "\n",
    "zipped_pairs = ((c,[p]) for c,p in zip(cols,pipelines))\n",
    "cross_combination = [element for pair in zipped_pairs for element in itertools.product(*pair)]\n",
    "cross_combination"
   ],
   "metadata": {
    "collapsed": false
   }
  },
  {
   "cell_type": "code",
   "execution_count": 100,
   "outputs": [
    {
     "data": {
      "text/plain": "{'A': [SimpleImputer()],\n 'B': [SimpleImputer(), StandardScaler()],\n 'C': [SimpleImputer(), StandardScaler()],\n 'D': [StandardScaler()]}"
     },
     "execution_count": 100,
     "metadata": {},
     "output_type": "execute_result"
    }
   ],
   "source": [
    "dct={}\n",
    "\n",
    "for key,value in cross_combination:\n",
    "    if key not in dct:\n",
    "        dct[key]=[value]\n",
    "    else:\n",
    "        dct[key]+=[value]\n",
    "dct"
   ],
   "metadata": {
    "collapsed": false
   }
  },
  {
   "cell_type": "code",
   "execution_count": 123,
   "outputs": [
    {
     "name": "stdout",
     "output_type": "stream",
     "text": [
      "[('A', [SimpleImputer()])]\n",
      "[('B', [SimpleImputer(), StandardScaler()]), ('C', [SimpleImputer(), StandardScaler()])]\n",
      "[('D', [StandardScaler()])]\n"
     ]
    }
   ],
   "source": [
    "myList = [(k,v) for k,v in dct.items()]\n",
    "\n",
    "test = itertools.groupby(myList,lambda x:x[1])\n",
    "\n",
    "for k,v in test:\n",
    "    print([item for item in v])"
   ],
   "metadata": {
    "collapsed": false
   }
  },
  {
   "cell_type": "code",
   "execution_count": 162,
   "outputs": [
    {
     "name": "stdout",
     "output_type": "stream",
     "text": [
      "[['A']]\n",
      "[['B'], ['C']]\n",
      "[['D']]\n"
     ]
    }
   ],
   "source": [
    "myList = [(k,v) for k,v in dct.items()]\n",
    "\n",
    "test = itertools.groupby(myList,lambda x:x[1])\n",
    "\n",
    "for key,group in test:\n",
    "    print(list([elem for item in tup[0] for elem in item] for tup in group))"
   ],
   "metadata": {
    "collapsed": false
   }
  },
  {
   "cell_type": "code",
   "execution_count": 203,
   "outputs": [
    {
     "name": "stdout",
     "output_type": "stream",
     "text": [
      "['A']\n",
      "['B', 'C']\n",
      "['D']\n"
     ]
    }
   ],
   "source": [
    "myList = [(k,v) for k,v in dct.items()]\n",
    "\n",
    "for key,group in itertools.groupby(myList,lambda x:x[1]):\n",
    "    print(list(item[0] for tup in group for item in tup[0]))"
   ],
   "metadata": {
    "collapsed": false
   }
  },
  {
   "cell_type": "code",
   "execution_count": 210,
   "outputs": [],
   "source": [
    "myList = [(k,v) for k,v in dct.items()]\n",
    "\n",
    "finalList = []\n",
    "\n",
    "for key,group in itertools.groupby(myList,lambda x:x[1]):\n",
    "    finalList.append((key,list(item[0] for tup in group for item in tup[0])))"
   ],
   "metadata": {
    "collapsed": false
   }
  },
  {
   "cell_type": "code",
   "execution_count": 211,
   "outputs": [
    {
     "data": {
      "text/plain": "[([SimpleImputer()], ['A']),\n ([SimpleImputer(), StandardScaler()], ['B', 'C']),\n ([StandardScaler()], ['D'])]"
     },
     "execution_count": 211,
     "metadata": {},
     "output_type": "execute_result"
    }
   ],
   "source": [
    "finalList"
   ],
   "metadata": {
    "collapsed": false
   }
  },
  {
   "cell_type": "code",
   "execution_count": null,
   "outputs": [],
   "source": [],
   "metadata": {
    "collapsed": false
   }
  }
 ],
 "metadata": {
  "kernelspec": {
   "display_name": "Python 3",
   "language": "python",
   "name": "python3"
  },
  "language_info": {
   "codemirror_mode": {
    "name": "ipython",
    "version": 2
   },
   "file_extension": ".py",
   "mimetype": "text/x-python",
   "name": "python",
   "nbconvert_exporter": "python",
   "pygments_lexer": "ipython2",
   "version": "2.7.6"
  }
 },
 "nbformat": 4,
 "nbformat_minor": 0
}
